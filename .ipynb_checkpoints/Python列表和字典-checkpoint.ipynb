{
 "cells": [
  {
   "cell_type": "markdown",
   "metadata": {},
   "source": [
    "# 列表的常用操作\n"
   ]
  },
  {
   "cell_type": "markdown",
   "metadata": {},
   "source": [
    "### 列表的索引"
   ]
  },
  {
   "cell_type": "code",
   "execution_count": 31,
   "metadata": {},
   "outputs": [
    {
     "name": "stdout",
     "output_type": "stream",
     "text": [
      "遍历某个特定元素: 3\n",
      "遍历所有元素: [1, 2, 3, 4, 5, 6, 7, 8, 9, 10, 11, 12, 13, 14, 15]\n",
      "遍历指定位置指定间隔的元素: [2, 4, 6, 8, 10]\n",
      "逆向遍历所有元素: [15, 14, 13, 12, 11, 10, 9, 8, 7, 6, 5, 4, 3, 2, 1]\n",
      "二维数组的第一个数据: 1\n"
     ]
    }
   ],
   "source": [
    "a = [1,2,3,4,5,6,7,8,9,10,11,12,13,14,15]\n",
    "print(\"遍历某个特定元素:\",a[2])\n",
    "\n",
    "print(\"遍历所有元素:\",a[:])\n",
    "\n",
    "print(\"遍历指定位置指定间隔的元素:\",a[1:10:2])# 第一个数字是起始位置，第二个数据是终止位置，第三个数字是间隔\n",
    "\n",
    "print(\"逆向遍历所有元素:\",a[::-1])\n",
    "\n",
    "# 二维列表\n",
    "\n",
    "b = [\n",
    "[1,1],\n",
    "[2,2],\n",
    "[3,3]    \n",
    "]\n",
    "print(\"二维数组的第一个数据:\",b[0][0])"
   ]
  },
  {
   "cell_type": "markdown",
   "metadata": {},
   "source": [
    "### list 中添加元素"
   ]
  },
  {
   "cell_type": "code",
   "execution_count": 5,
   "metadata": {},
   "outputs": [
    {
     "name": "stdout",
     "output_type": "stream",
     "text": [
      "[1, 12, 2, 3, 5, 6]\n",
      "[1, 12, 2, 3, 5, 6, '7']\n"
     ]
    }
   ],
   "source": [
    "# list 中添加元素（末尾）\n",
    "a = [1,12,2,3,5,6]\n",
    "print(a)\n",
    "a.append('7')\n",
    "print(a)\n",
    "\n"
   ]
  },
  {
   "cell_type": "code",
   "execution_count": 8,
   "metadata": {},
   "outputs": [
    {
     "name": "stdout",
     "output_type": "stream",
     "text": [
      "[1, 3, 5, 7, 9]\n"
     ]
    },
    {
     "data": {
      "text/plain": [
       "[1, 2, 3, 5, 7, 9]"
      ]
     },
     "execution_count": 8,
     "metadata": {},
     "output_type": "execute_result"
    }
   ],
   "source": [
    "# 列表中任意位置添加数据\n",
    "a= [1,3,5,7,9]\n",
    "print(a)\n",
    "a.insert(1,2)# 1是数据，2是位置\n",
    "a"
   ]
  },
  {
   "cell_type": "code",
   "execution_count": 34,
   "metadata": {},
   "outputs": [
    {
     "name": "stdout",
     "output_type": "stream",
     "text": [
      "[1, 2, 3, 4, 7, 8, 9, 10]\n"
     ]
    }
   ],
   "source": [
    "# 将另一个列表扩展\n",
    "a=[1,2,3,4]\n",
    "b=[7,8,9,10]\n",
    "a.extend(b)\n",
    "print(a)"
   ]
  },
  {
   "cell_type": "markdown",
   "metadata": {},
   "source": [
    "### 列表中删除数据"
   ]
  },
  {
   "cell_type": "code",
   "execution_count": 6,
   "metadata": {},
   "outputs": [
    {
     "data": {
      "text/plain": [
       "[2, 3, 4, 5, 6]"
      ]
     },
     "execution_count": 6,
     "metadata": {},
     "output_type": "execute_result"
    }
   ],
   "source": [
    "#删除某个值(1.指定索引；2. 默认最后一个)，并获取删除的值\n",
    "a= [1,2,3,4,5,6]\n",
    "a.pop(0)\n",
    "a"
   ]
  },
  {
   "cell_type": "code",
   "execution_count": 7,
   "metadata": {},
   "outputs": [
    {
     "data": {
      "text/plain": [
       "[1, 2, 3, 4, 5]"
      ]
     },
     "execution_count": 7,
     "metadata": {},
     "output_type": "execute_result"
    }
   ],
   "source": [
    "a= [1,2,3,4,5,6]\n",
    "a.pop()\n",
    "a"
   ]
  },
  {
   "cell_type": "code",
   "execution_count": 9,
   "metadata": {},
   "outputs": [
    {
     "data": {
      "text/plain": [
       "[1, 2, 3, 4, 8, 9]"
      ]
     },
     "execution_count": 9,
     "metadata": {},
     "output_type": "execute_result"
    }
   ],
   "source": [
    "# 删除列表中的指定值，左边优先\n",
    "a=[1,2,3,4,5,8,9]\n",
    "a.remove(5)\n",
    "a"
   ]
  },
  {
   "cell_type": "markdown",
   "metadata": {},
   "source": [
    "### 查找列表的所在位置"
   ]
  },
  {
   "cell_type": "code",
   "execution_count": 8,
   "metadata": {},
   "outputs": [
    {
     "name": "stdout",
     "output_type": "stream",
     "text": [
      "3\n"
     ]
    }
   ],
   "source": [
    "# 根据值获取当前值索引位置（左边优先，找到后就不会找下一个元素了）\n",
    "li=[11,22,33,'aa','bb','cc','aa']\n",
    "r1=li.index('aa')\n",
    "print(r1)"
   ]
  },
  {
   "cell_type": "markdown",
   "metadata": {},
   "source": [
    "### 修改列表数据"
   ]
  },
  {
   "cell_type": "code",
   "execution_count": 14,
   "metadata": {},
   "outputs": [
    {
     "data": {
      "text/plain": [
       "[2, 2, 3, 4, 5, 8, 9]"
      ]
     },
     "execution_count": 14,
     "metadata": {},
     "output_type": "execute_result"
    }
   ],
   "source": [
    "a=[1,2,3,4,5,8,9]\n",
    "a[0]=2\n",
    "a\n"
   ]
  },
  {
   "cell_type": "markdown",
   "metadata": {},
   "source": [
    "### 列表的一些常用方法"
   ]
  },
  {
   "cell_type": "code",
   "execution_count": 17,
   "metadata": {},
   "outputs": [
    {
     "name": "stdout",
     "output_type": "stream",
     "text": [
      "2\n"
     ]
    }
   ],
   "source": [
    "# 计算元素出现的次数\n",
    "a= [1,1,1,1,2,3,5,5]\n",
    "print(a.count(5))"
   ]
  },
  {
   "cell_type": "code",
   "execution_count": 18,
   "metadata": {},
   "outputs": [
    {
     "name": "stdout",
     "output_type": "stream",
     "text": [
      "[11, 22, 33, 44, 55]\n",
      "[55, 44, 33, 22, 11]\n"
     ]
    }
   ],
   "source": [
    "#列表数据进行排序\n",
    "li=[11,22,33,44,55]\n",
    "li.sort()\n",
    "print(li)\n",
    "\n",
    "li2=[11,22,33,44,55]\n",
    "li2.sort(reverse=True)\n",
    "print(li2)"
   ]
  },
  {
   "cell_type": "code",
   "execution_count": 19,
   "metadata": {},
   "outputs": [
    {
     "data": {
      "text/plain": [
       "[6, 7, 8, 9]"
      ]
     },
     "execution_count": 19,
     "metadata": {},
     "output_type": "execute_result"
    }
   ],
   "source": [
    "a = [1,2,3,4,5,6,7,8,9]\n",
    "b=[x for x in a if x > 5 ]\n",
    "b"
   ]
  },
  {
   "cell_type": "markdown",
   "metadata": {},
   "source": [
    "# python的字典"
   ]
  },
  {
   "cell_type": "markdown",
   "metadata": {},
   "source": [
    "### 字典的创建"
   ]
  },
  {
   "cell_type": "code",
   "execution_count": 37,
   "metadata": {},
   "outputs": [
    {
     "name": "stdout",
     "output_type": "stream",
     "text": [
      "{'time': '20200804', 'lat': [120, 121, 122, 123, 124], 'lon': [20, 21, 22, 23, 24], 'data': [0, 1, 2, 3, 4]}\n",
      "获取到字典中的数据 [0, 1, 2, 3, 4]\n",
      "{'x': 1, 'y': 2}\n",
      "{'name': '1', 'work': '2', 'tel': '3'}\n"
     ]
    }
   ],
   "source": [
    "# 创建\n",
    "# 方法一\n",
    "dic = {\"discription\":\"数据的描述性文字\",'time':\"20200804\",'lat':[120,121,122,123,124],'lon':[20,21,22,23,24],'data':[0,1,2,3,4]}\n",
    "print(dic)\n",
    "print(\"获取到字典中的数据\",dic[\"data\"])\n",
    "# 方法二\n",
    "a = dict(x=1, y=2)  \n",
    "print(a)\n",
    "# 方法三\n",
    "key=['name','work','tel']\n",
    "values=['1','2','3']\n",
    "dic_c =dict(zip(key,values))\n",
    "print(dic_c)"
   ]
  },
  {
   "cell_type": "code",
   "execution_count": 43,
   "metadata": {},
   "outputs": [
    {
     "name": "stdout",
     "output_type": "stream",
     "text": [
      "{'time': '20200804', 'lat': [120, 121, 122, 123, 124], 'lon': [20, 21, 22, 23, 24], 'data': [0, 1, 2, 3, 4]}\n",
      "dic的time和lat的值对应的是 20200804 [120, 121, 122, 123, 124]\n",
      "修改后的dic {'time': '2020080715', 'lat': [120, 121, 122, 123, 124], 'lon': [20, 21, 22, 23, 24], 'data': [0, 1, 2, 3, 4]}\n",
      "删除后的dic {'lat': [120, 121, 122, 123, 124], 'lon': [20, 21, 22, 23, 24], 'data': [0, 1, 2, 3, 4]}\n"
     ]
    }
   ],
   "source": [
    "# 创建\n",
    "dic = {'time':\"20200804\",'lat':[120,121,122,123,124],'lon':[20,21,22,23,24],'data':[0,1,2,3,4]}\n",
    "print(dic)\n",
    "\n",
    "# 访问\n",
    "print(\"dic的time和lat的值对应的是\",dic['time'],dic['lat'])\n",
    "    \n",
    "# 修改\n",
    "dic['time'] = \"2020080715\"\n",
    "print(\"修改后的dic\",dic)\n",
    "\n",
    "# 删除\n",
    "del dic['time']\n",
    "print(\"删除后的dic\",dic)"
   ]
  },
  {
   "cell_type": "code",
   "execution_count": 25,
   "metadata": {},
   "outputs": [
    {
     "name": "stdout",
     "output_type": "stream",
     "text": [
      "字典的值 dict_values(['20200804', [120, 121, 122, 123, 124], [20, 21, 22, 23, 24], [0, 1, 2, 3, 4]])\n",
      "字典的键 dict_keys(['time', 'lat', 'lon', 'data'])\n",
      "字典的键值对 dict_items([('time', '20200804'), ('lat', [120, 121, 122, 123, 124]), ('lon', [20, 21, 22, 23, 24]), ('data', [0, 1, 2, 3, 4])])\n"
     ]
    }
   ],
   "source": [
    "# 遍历字典的方法\n",
    "dic = {'time':\"20200804\",'lat':[120,121,122,123,124],'lon':[20,21,22,23,24],'data':[0,1,2,3,4]}\n",
    "print('字典的值',dic.values())\n",
    "print('字典的键',dic.keys())\n",
    "print('字典的键值对',dic.items())"
   ]
  },
  {
   "cell_type": "markdown",
   "metadata": {},
   "source": [
    "# 总结"
   ]
  },
  {
   "cell_type": "markdown",
   "metadata": {},
   "source": [
    "### 列表中常用的方法\n",
    "方法|\t意义\n",
    "----|----\n",
    "L.index(v [, begin[, end]])\t|返回对应元素的索引下标, begin为开始索引，end为结束索引,当 value 不存在时触发ValueError错误\n",
    "L.insert(index, obj)|\t将某个元素插放到列表中指定的位置\n",
    "L.count(x)|\t返回列表中元素的个数\n",
    "L.remove(x)|\t从列表中删除第一次出现在列表中的值\n",
    "L.copy()\t|复制此列表（只复制一层，不会复制深层对象)\n",
    "L.append(x)\t|向列表中追加单个元素\n",
    "L.extend(lst)\t|向列表追加另一个列表\n",
    "L.clear()\t|清空列表,等同于 L[:] = []\n",
    "L.sort(reverse=False)|\t将列表中的元素进行排序，默认顺序按值的小到大的顺序排列\n",
    "L.reverse()\t|列表的反转，用来改变原列表的先后顺序\n",
    "L.pop([index])\t|删除索引对应的元素，如果不加索引，默认删除最后元素，同时返回删除元素的引用关系"
   ]
  },
  {
   "cell_type": "markdown",
   "metadata": {},
   "source": [
    "### 字典的方法\n",
    "方法|\t说明\n",
    "---|---\n",
    "D.clear()\t|清空字典\n",
    "D.pop(key)\t|移除键，同时返回此键所对应的值\n",
    "D.copy()\t|返回字典D的副本,只复制一层(浅拷贝)\n",
    "D.update(D2)|\t将字典 D2 合并到D中，如果键相同，则此键的值取D2的值作为新值\n",
    "D.get(key, default=None)|\t返回键key所对应的值,如果没有此键，则返回default\n",
    "D.keys()\t|返回可迭代的 dict_keys 集合对象\n",
    "D.values()\t|返回可迭代的 dict_values 值对象\n",
    "D.items()\t|返回可迭代的 dict_items 对象"
   ]
  }
 ],
 "metadata": {
  "kernelspec": {
   "display_name": "Python 3",
   "language": "python",
   "name": "python3"
  },
  "language_info": {
   "codemirror_mode": {
    "name": "ipython",
    "version": 3
   },
   "file_extension": ".py",
   "mimetype": "text/x-python",
   "name": "python",
   "nbconvert_exporter": "python",
   "pygments_lexer": "ipython3",
   "version": "3.7.6"
  }
 },
 "nbformat": 4,
 "nbformat_minor": 4
}
