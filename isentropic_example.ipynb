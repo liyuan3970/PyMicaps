{
  "cells": [
    {
      "cell_type": "code",
      "execution_count": null,
      "metadata": {
        "collapsed": false
      },
      "outputs": [],
      "source": [
        "%matplotlib inline"
      ]
    },
    {
      "cell_type": "markdown",
      "metadata": {},
      "source": [
        "\n# Isentropic Analysis\n\n\nThe MetPy function `mpcalc.isentropic_interpolation` allows for isentropic analysis from model\nanalysis data in isobaric coordinates.\n"
      ]
    },
    {
      "cell_type": "code",
      "execution_count": null,
      "metadata": {
        "collapsed": false
      },
      "outputs": [],
      "source": [
        "import cartopy.crs as ccrs\nimport cartopy.feature as cfeature\nimport matplotlib.pyplot as plt\nimport numpy as np\nimport xarray as xr\n\nimport metpy.calc as mpcalc\nfrom metpy.cbook import get_test_data\nfrom metpy.plots import add_metpy_logo, add_timestamp\nfrom metpy.units import units"
      ]
    },
    {
      "cell_type": "markdown",
      "metadata": {},
      "source": [
        "**Getting the data**\n\nIn this example, NARR reanalysis data for 18 UTC 04 April 1987 from the National Centers\nfor Environmental Information (https://www.ncdc.noaa.gov/data-access/model-data)\nwill be used.\n\n"
      ]
    },
    {
      "cell_type": "code",
      "execution_count": null,
      "metadata": {
        "collapsed": false
      },
      "outputs": [],
      "source": [
        "data = xr.open_dataset(get_test_data('narr_example.nc', False))"
      ]
    },
    {
      "cell_type": "code",
      "execution_count": null,
      "metadata": {
        "collapsed": false
      },
      "outputs": [],
      "source": [
        "print(list(data.variables))"
      ]
    },
    {
      "cell_type": "markdown",
      "metadata": {},
      "source": [
        "We will reduce the dimensionality of the data as it is pulled in to remove an empty time\ndimension.\n\n"
      ]
    },
    {
      "cell_type": "code",
      "execution_count": null,
      "metadata": {
        "collapsed": false
      },
      "outputs": [],
      "source": [
        "# Assign data to variable names\nlat = data['lat']\nlon = data['lon']\nlev = data['isobaric']\ntimes = data['time']\n\ntmp = data['Temperature'][0]\nuwnd = data['u_wind'][0]\nvwnd = data['v_wind'][0]\nspech = data['Specific_humidity'][0]\n\n# pint doesn't understand gpm\ndata['Geopotential_height'].attrs['units'] = 'meter'\nhgt = data['Geopotential_height'][0]"
      ]
    },
    {
      "cell_type": "markdown",
      "metadata": {},
      "source": [
        "To properly interpolate to isentropic coordinates, the function must know the desired output\nisentropic levels. An array with these levels will be created below.\n\n"
      ]
    },
    {
      "cell_type": "code",
      "execution_count": null,
      "metadata": {
        "collapsed": false
      },
      "outputs": [],
      "source": [
        "isentlevs = [296.] * units.kelvin"
      ]
    },
    {
      "cell_type": "markdown",
      "metadata": {},
      "source": [
        "**Conversion to Isentropic Coordinates**\n\nOnce three dimensional data in isobaric coordinates has been pulled and the desired\nisentropic levels created, the conversion to isentropic coordinates can begin. Data will be\npassed to the function as below. The function requires that isentropic levels, isobaric\nlevels, and temperature be input. Any additional inputs (in this case relative humidity, u,\nand v wind components) will be linearly interpolated to isentropic space.\n\n"
      ]
    },
    {
      "cell_type": "code",
      "execution_count": null,
      "metadata": {
        "collapsed": false
      },
      "outputs": [],
      "source": [
        "isent_anal = mpcalc.isentropic_interpolation(isentlevs,\n                                             lev,\n                                             tmp,\n                                             spech,\n                                             uwnd,\n                                             vwnd,\n                                             hgt,\n                                             tmpk_out=True)"
      ]
    },
    {
      "cell_type": "markdown",
      "metadata": {},
      "source": [
        "The output is a list, so now we will separate the variables to different names before\nplotting.\n\n"
      ]
    },
    {
      "cell_type": "code",
      "execution_count": null,
      "metadata": {
        "collapsed": false
      },
      "outputs": [],
      "source": [
        "isentprs, isenttmp, isentspech, isentu, isentv, isenthgt = isent_anal\nisentu.ito('kt')\nisentv.ito('kt')"
      ]
    },
    {
      "cell_type": "markdown",
      "metadata": {},
      "source": [
        "A quick look at the shape of these variables will show that the data is now in isentropic\ncoordinates, with the number of vertical levels as specified above.\n\n"
      ]
    },
    {
      "cell_type": "code",
      "execution_count": null,
      "metadata": {
        "collapsed": false
      },
      "outputs": [],
      "source": [
        "print(isentprs.shape)\nprint(isentspech.shape)\nprint(isentu.shape)\nprint(isentv.shape)\nprint(isenttmp.shape)\nprint(isenthgt.shape)"
      ]
    },
    {
      "cell_type": "markdown",
      "metadata": {},
      "source": [
        "**Converting to Relative Humidity**\n\nThe NARR only gives specific humidity on isobaric vertical levels, so relative humidity will\nhave to be calculated after the interpolation to isentropic space.\n\n"
      ]
    },
    {
      "cell_type": "code",
      "execution_count": null,
      "metadata": {
        "collapsed": false
      },
      "outputs": [],
      "source": [
        "isentrh = 100 * mpcalc.relative_humidity_from_specific_humidity(isentspech, isenttmp, isentprs)"
      ]
    },
    {
      "cell_type": "markdown",
      "metadata": {},
      "source": [
        "**Plotting the Isentropic Analysis**\n\n"
      ]
    },
    {
      "cell_type": "code",
      "execution_count": null,
      "metadata": {
        "collapsed": false
      },
      "outputs": [],
      "source": [
        "# Set up our projection\ncrs = ccrs.LambertConformal(central_longitude=-100.0, central_latitude=45.0)\n\n# Coordinates to limit map area\nbounds = [(-122., -75., 25., 50.)]\n# Choose a level to plot, in this case 296 K\nlevel = 0\n\nfig = plt.figure(figsize=(17., 12.))\nadd_metpy_logo(fig, 120, 245, size='large')\nax = fig.add_subplot(1, 1, 1, projection=crs)\nax.set_extent(*bounds, crs=ccrs.PlateCarree())\nax.add_feature(cfeature.COASTLINE.with_scale('50m'), linewidth=0.75)\nax.add_feature(cfeature.STATES, linewidth=0.5)\n\n# Plot the surface\nclevisent = np.arange(0, 1000, 25)\ncs = ax.contour(lon, lat, isentprs[level, :, :], clevisent,\n                colors='k', linewidths=1.0, linestyles='solid', transform=ccrs.PlateCarree())\nax.clabel(cs, fontsize=10, inline=1, inline_spacing=7,\n          fmt='%i', rightside_up=True, use_clabeltext=True)\n\n# Plot RH\ncf = ax.contourf(lon, lat, isentrh[level, :, :], range(10, 106, 5),\n                 cmap=plt.cm.gist_earth_r, transform=ccrs.PlateCarree())\ncb = fig.colorbar(cf, orientation='horizontal', extend='max', aspect=65, shrink=0.5, pad=0.05,\n                  extendrect='True')\ncb.set_label('Relative Humidity', size='x-large')\n\n# Plot wind barbs\nax.barbs(lon.values, lat.values, isentu[level, :, :].m, isentv[level, :, :].m, length=6,\n         regrid_shape=20, transform=ccrs.PlateCarree())\n\n# Make some titles\nax.set_title('{:.0f} K Isentropic Pressure (hPa), Wind (kt), Relative Humidity (percent)'\n             .format(isentlevs[level].m), loc='left')\nadd_timestamp(ax, times[0].values.astype('datetime64[ms]').astype('O'),\n              y=0.02, high_contrast=True)\nfig.tight_layout()"
      ]
    },
    {
      "cell_type": "markdown",
      "metadata": {},
      "source": [
        "**Montgomery Streamfunction**\n\nThe Montgomery Streamfunction, ${\\psi} = gdz + CpT$, is often desired because its\ngradient is proportional to the geostrophic wind in isentropic space. This can be easily\ncalculated with `mpcalc.montgomery_streamfunction`.\n\n"
      ]
    },
    {
      "cell_type": "code",
      "execution_count": null,
      "metadata": {
        "collapsed": false
      },
      "outputs": [],
      "source": [
        "# Calculate Montgomery Streamfunction and scale by 10^-2 for plotting\nmsf = mpcalc.montgomery_streamfunction(isenthgt, isenttmp) / 100.\n\n# Choose a level to plot, in this case 296 K\nlevel = 0\n\nfig = plt.figure(figsize=(17., 12.))\nadd_metpy_logo(fig, 120, 250, size='large')\nax = plt.subplot(111, projection=crs)\nax.set_extent(*bounds, crs=ccrs.PlateCarree())\nax.add_feature(cfeature.COASTLINE.with_scale('50m'), linewidth=0.75)\nax.add_feature(cfeature.STATES.with_scale('50m'), linewidth=0.5)\n\n# Plot the surface\nclevmsf = np.arange(0, 4000, 5)\ncs = ax.contour(lon, lat, msf[level, :, :], clevmsf,\n                colors='k', linewidths=1.0, linestyles='solid', transform=ccrs.PlateCarree())\nax.clabel(cs, fontsize=10, inline=1, inline_spacing=7,\n          fmt='%i', rightside_up=True, use_clabeltext=True)\n\n# Plot RH\ncf = ax.contourf(lon, lat, isentrh[level, :, :], range(10, 106, 5),\n                 cmap=plt.cm.gist_earth_r, transform=ccrs.PlateCarree())\ncb = fig.colorbar(cf, orientation='horizontal', extend='max', aspect=65, shrink=0.5, pad=0.05,\n                  extendrect='True')\ncb.set_label('Relative Humidity', size='x-large')\n\n# Plot wind barbs.\nax.barbs(lon.values, lat.values, isentu[level, :, :].m, isentv[level, :, :].m, length=6,\n         regrid_shape=20, transform=ccrs.PlateCarree())\n\n# Make some titles\nax.set_title('{:.0f} K Montgomery Streamfunction '.format(isentlevs[level].m)\n             + r'($10^{-2} m^2 s^{-2}$), Wind (kt), Relative Humidity (percent)', loc='left')\nadd_timestamp(ax, times[0].values.astype('datetime64[ms]').astype('O'),\n              y=0.02, pretext='Valid: ', high_contrast=True)\n\nfig.tight_layout()\nplt.show()"
      ]
    }
  ],
  "metadata": {
    "kernelspec": {
      "display_name": "Python 3",
      "language": "python",
      "name": "python3"
    },
    "language_info": {
      "codemirror_mode": {
        "name": "ipython",
        "version": 3
      },
      "file_extension": ".py",
      "mimetype": "text/x-python",
      "name": "python",
      "nbconvert_exporter": "python",
      "pygments_lexer": "ipython3",
      "version": "3.7.6"
    }
  },
  "nbformat": 4,
  "nbformat_minor": 0
}