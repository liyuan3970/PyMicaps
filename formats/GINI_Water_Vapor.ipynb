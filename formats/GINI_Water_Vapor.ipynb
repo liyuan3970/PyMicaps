{
  "cells": [
    {
      "cell_type": "code",
      "execution_count": null,
      "metadata": {
        "collapsed": false
      },
      "outputs": [],
      "source": [
        "%matplotlib inline"
      ]
    },
    {
      "cell_type": "markdown",
      "metadata": {},
      "source": [
        "\nGINI Water Vapor Imagery\n========================\n\nUse MetPy's support for GINI files to read in a water vapor satellite image and plot the\ndata using CartoPy.\n"
      ]
    },
    {
      "cell_type": "code",
      "execution_count": null,
      "metadata": {
        "collapsed": false
      },
      "outputs": [],
      "source": [
        "import cartopy.feature as cfeature\nimport matplotlib.pyplot as plt\nimport xarray as xr\n\nfrom metpy.cbook import get_test_data\nfrom metpy.io import GiniFile\nfrom metpy.plots import add_metpy_logo, add_timestamp, colortables"
      ]
    },
    {
      "cell_type": "code",
      "execution_count": null,
      "metadata": {
        "collapsed": false
      },
      "outputs": [],
      "source": [
        "# Open the GINI file from the test data\nf = GiniFile(get_test_data('WEST-CONUS_4km_WV_20151208_2200.gini'))\nprint(f)"
      ]
    },
    {
      "cell_type": "markdown",
      "metadata": {},
      "source": [
        "Get a Dataset view of the data (essentially a NetCDF-like interface to the\nunderlying data). Pull out the data and (x, y) coordinates. We use `metpy.parse_cf` to\nhandle parsing some netCDF Climate and Forecasting (CF) metadata to simplify working with\nprojections.\n\n"
      ]
    },
    {
      "cell_type": "code",
      "execution_count": null,
      "metadata": {
        "collapsed": false
      },
      "outputs": [],
      "source": [
        "ds = xr.open_dataset(f)\nx = ds.variables['x'][:]\ny = ds.variables['y'][:]\ndat = ds.metpy.parse_cf('WV')"
      ]
    },
    {
      "cell_type": "markdown",
      "metadata": {},
      "source": [
        "Plot the image. We use MetPy's xarray/cartopy integration to automatically handle parsing\nthe projection information.\n\n"
      ]
    },
    {
      "cell_type": "code",
      "execution_count": null,
      "metadata": {
        "collapsed": false
      },
      "outputs": [],
      "source": [
        "fig = plt.figure(figsize=(10, 12))\nadd_metpy_logo(fig, 125, 145)\nax = fig.add_subplot(1, 1, 1, projection=dat.metpy.cartopy_crs)\nwv_norm, wv_cmap = colortables.get_with_range('WVCIMSS', 100, 260)\nwv_cmap.set_under('k')\nim = ax.imshow(dat[:], cmap=wv_cmap, norm=wv_norm,\n               extent=(x.min(), x.max(), y.min(), y.max()), origin='upper')\nax.add_feature(cfeature.COASTLINE.with_scale('50m'))\nadd_timestamp(ax, f.prod_desc.datetime, y=0.02, high_contrast=True)\n\nplt.show()"
      ]
    }
  ],
  "metadata": {
    "kernelspec": {
      "display_name": "Python 3",
      "language": "python",
      "name": "python3"
    },
    "language_info": {
      "codemirror_mode": {
        "name": "ipython",
        "version": 3
      },
      "file_extension": ".py",
      "mimetype": "text/x-python",
      "name": "python",
      "nbconvert_exporter": "python",
      "pygments_lexer": "ipython3",
      "version": "3.7.6"
    }
  },
  "nbformat": 4,
  "nbformat_minor": 0
}