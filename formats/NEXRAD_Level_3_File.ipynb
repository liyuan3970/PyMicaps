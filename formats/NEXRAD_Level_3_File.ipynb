{
  "cells": [
    {
      "cell_type": "code",
      "execution_count": null,
      "metadata": {
        "collapsed": false
      },
      "outputs": [],
      "source": [
        "%matplotlib inline"
      ]
    },
    {
      "cell_type": "markdown",
      "metadata": {},
      "source": [
        "\nNEXRAD Level 3 File\n===================\n\nUse MetPy to read information from a NEXRAD Level 3 (NIDS product) file and plot\n"
      ]
    },
    {
      "cell_type": "code",
      "execution_count": null,
      "metadata": {
        "collapsed": false
      },
      "outputs": [],
      "source": [
        "import matplotlib.pyplot as plt\nimport numpy as np\n\nfrom metpy.cbook import get_test_data\nfrom metpy.io import Level3File\nfrom metpy.plots import add_metpy_logo, add_timestamp, colortables"
      ]
    },
    {
      "cell_type": "code",
      "execution_count": null,
      "metadata": {
        "collapsed": false
      },
      "outputs": [],
      "source": [
        "fig, axes = plt.subplots(1, 2, figsize=(15, 8))\nadd_metpy_logo(fig, 190, 85, size='large')\nfor v, ctable, ax in zip(('N0Q', 'N0U'), ('NWSReflectivity', 'NWSVelocity'), axes):\n    # Open the file\n    name = get_test_data('nids/KOUN_SDUS54_{}TLX_201305202016'.format(v), as_file_obj=False)\n    f = Level3File(name)\n\n    # Pull the data out of the file object\n    datadict = f.sym_block[0][0]\n\n    # Turn into an array, then mask\n    data = np.ma.array(datadict['data'])\n    data[data == 0] = np.ma.masked\n\n    # Grab azimuths and calculate a range based on number of gates\n    az = np.array(datadict['start_az'] + [datadict['end_az'][-1]])\n    rng = np.linspace(0, f.max_range, data.shape[-1] + 1)\n\n    # Convert az,range to x,y\n    xlocs = rng * np.sin(np.deg2rad(az[:, np.newaxis]))\n    ylocs = rng * np.cos(np.deg2rad(az[:, np.newaxis]))\n\n    # Plot the data\n    norm, cmap = colortables.get_with_steps(ctable, 16, 16)\n    ax.pcolormesh(xlocs, ylocs, data, norm=norm, cmap=cmap)\n    ax.set_aspect('equal', 'datalim')\n    ax.set_xlim(-40, 20)\n    ax.set_ylim(-30, 30)\n    add_timestamp(ax, f.metadata['prod_time'], y=0.02, high_contrast=True)\n\nplt.show()"
      ]
    }
  ],
  "metadata": {
    "kernelspec": {
      "display_name": "Python 3",
      "language": "python",
      "name": "python3"
    },
    "language_info": {
      "codemirror_mode": {
        "name": "ipython",
        "version": 3
      },
      "file_extension": ".py",
      "mimetype": "text/x-python",
      "name": "python",
      "nbconvert_exporter": "python",
      "pygments_lexer": "ipython3",
      "version": "3.7.6"
    }
  },
  "nbformat": 4,
  "nbformat_minor": 0
}