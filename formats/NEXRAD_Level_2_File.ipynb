{
  "cells": [
    {
      "cell_type": "code",
      "execution_count": null,
      "metadata": {
        "collapsed": false
      },
      "outputs": [],
      "source": [
        "%matplotlib inline"
      ]
    },
    {
      "cell_type": "markdown",
      "metadata": {},
      "source": [
        "\nNEXRAD Level 2 File\n===================\n\nUse MetPy to read information from a NEXRAD Level 2 (volume) file and plot\n"
      ]
    },
    {
      "cell_type": "code",
      "execution_count": null,
      "metadata": {
        "collapsed": false
      },
      "outputs": [],
      "source": [
        "import matplotlib.pyplot as plt\nimport numpy as np\n\nfrom metpy.cbook import get_test_data\nfrom metpy.io import Level2File\nfrom metpy.plots import add_metpy_logo, add_timestamp"
      ]
    },
    {
      "cell_type": "code",
      "execution_count": null,
      "metadata": {
        "collapsed": false
      },
      "outputs": [],
      "source": [
        "# Open the file\nname = get_test_data('KTLX20130520_201643_V06.gz', as_file_obj=False)\nf = Level2File(name)\n\nprint(f.sweeps[0][0])"
      ]
    },
    {
      "cell_type": "code",
      "execution_count": null,
      "metadata": {
        "collapsed": false
      },
      "outputs": [],
      "source": [
        "# Pull data out of the file\nsweep = 0\n\n# First item in ray is header, which has azimuth angle\naz = np.array([ray[0].az_angle for ray in f.sweeps[sweep]])\n\n# 5th item is a dict mapping a var name (byte string) to a tuple\n# of (header, data array)\nref_hdr = f.sweeps[sweep][0][4][b'REF'][0]\nref_range = np.arange(ref_hdr.num_gates) * ref_hdr.gate_width + ref_hdr.first_gate\nref = np.array([ray[4][b'REF'][1] for ray in f.sweeps[sweep]])\n\nrho_hdr = f.sweeps[sweep][0][4][b'RHO'][0]\nrho_range = (np.arange(rho_hdr.num_gates + 1) - 0.5) * rho_hdr.gate_width + rho_hdr.first_gate\nrho = np.array([ray[4][b'RHO'][1] for ray in f.sweeps[sweep]])"
      ]
    },
    {
      "cell_type": "code",
      "execution_count": null,
      "metadata": {
        "collapsed": false
      },
      "outputs": [],
      "source": [
        "fig, axes = plt.subplots(1, 2, figsize=(15, 8))\nadd_metpy_logo(fig, 190, 85, size='large')\nfor var_data, var_range, ax in zip((ref, rho), (ref_range, rho_range), axes):\n    # Turn into an array, then mask\n    data = np.ma.array(var_data)\n    data[np.isnan(data)] = np.ma.masked\n\n    # Convert az,range to x,y\n    xlocs = var_range * np.sin(np.deg2rad(az[:, np.newaxis]))\n    ylocs = var_range * np.cos(np.deg2rad(az[:, np.newaxis]))\n\n    # Plot the data\n    ax.pcolormesh(xlocs, ylocs, data, cmap='viridis')\n    ax.set_aspect('equal', 'datalim')\n    ax.set_xlim(-40, 20)\n    ax.set_ylim(-30, 30)\n    add_timestamp(ax, f.dt, y=0.02, high_contrast=True)\n\nplt.show()"
      ]
    }
  ],
  "metadata": {
    "kernelspec": {
      "display_name": "Python 3",
      "language": "python",
      "name": "python3"
    },
    "language_info": {
      "codemirror_mode": {
        "name": "ipython",
        "version": 3
      },
      "file_extension": ".py",
      "mimetype": "text/x-python",
      "name": "python",
      "nbconvert_exporter": "python",
      "pygments_lexer": "ipython3",
      "version": "3.7.6"
    }
  },
  "nbformat": 4,
  "nbformat_minor": 0
}