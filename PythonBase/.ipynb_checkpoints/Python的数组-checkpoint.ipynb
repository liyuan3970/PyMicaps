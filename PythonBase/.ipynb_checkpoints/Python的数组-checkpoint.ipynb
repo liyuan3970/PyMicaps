{
 "cells": [
  {
   "cell_type": "markdown",
   "metadata": {},
   "source": [
    "## 探究列表长度和底层大小的关系"
   ]
  },
  {
   "cell_type": "code",
   "execution_count": 11,
   "metadata": {},
   "outputs": [
    {
     "name": "stdout",
     "output_type": "stream",
     "text": [
      "Length:   0; Size in bytes   64\n",
      "Length:   1; Size in bytes   96\n",
      "Length:   2; Size in bytes   96\n",
      "Length:   3; Size in bytes   96\n",
      "Length:   4; Size in bytes   96\n",
      "Length:   5; Size in bytes  128\n",
      "Length:   6; Size in bytes  128\n",
      "Length:   7; Size in bytes  128\n",
      "Length:   8; Size in bytes  128\n",
      "Length:   9; Size in bytes  192\n"
     ]
    }
   ],
   "source": [
    "import sys\n",
    "data = []\n",
    "for k in range(10):\n",
    "    a = len(data)\n",
    "    b = sys.getsizeof(data)\n",
    "    print('Length: {0:3d}; Size in bytes {1:4d}'.format(a,b))\n",
    "    data.append(None)\n",
    "#print(dir(data))c"
   ]
  },
  {
   "cell_type": "markdown",
   "metadata": {},
   "source": [
    "## 使用ctypes 模块提供的原始数组实现DynamicArray类"
   ]
  },
  {
   "cell_type": "code",
   "execution_count": 13,
   "metadata": {},
   "outputs": [],
   "source": [
    "'''\n",
    "\n",
    "代码源于Python数据结构与算法，目的在于重写list数据结构，暂时搞不懂，后面再看！\n",
    "\n",
    "'''\n",
    "import ctypes\n",
    "class DynamicArray:\n",
    "    '''A dynamic array class akin to a simplified Python list'''\n",
    "    def __init__(self):\n",
    "        '''Create an empty array'''\n",
    "        self._n = 0\n",
    "        self._capacity = 1\n",
    "        self._A = self._make_array(self._capacity)\n",
    "    def __len__(self):\n",
    "        '''Return number of elements stored in the array'''\n",
    "        return self._n\n",
    "    def __getitem__(self,k):\n",
    "        '''Return element at index k'''\n",
    "        if not 0<=k<self._n:\n",
    "            raise IndexError('invalid index')\n",
    "        return self._A[k]\n",
    "    def append(self,obj):\n",
    "        '''Add object to end of the array.'''\n",
    "        if self._n==self._capacity:\n",
    "            self._resize(2*self._capacity)\n",
    "        self._A[self._n]=obj\n",
    "        self._n+=1\n",
    "    def _resize(self,c):\n",
    "        '''Resize internal array to capacity c.'''\n",
    "        B = self._make_array(c)\n",
    "        for k in range(self._n):\n",
    "            B[k]=self._A[k]\n",
    "        self._A=B\n",
    "        self._capacity = c\n",
    "    def _make_array(self,c):\n",
    "        '''Return new array with capacity c'''\n",
    "        return (c*ctypes.py_object)()\n",
    "    "
   ]
  },
  {
   "cell_type": "markdown",
   "metadata": {},
   "source": [
    "## 测试Python列表类增添操作的摊销花费"
   ]
  },
  {
   "cell_type": "code",
   "execution_count": 15,
   "metadata": {},
   "outputs": [
    {
     "data": {
      "text/plain": [
       "1.049041748046875e-07"
      ]
     },
     "execution_count": 15,
     "metadata": {},
     "output_type": "execute_result"
    }
   ],
   "source": [
    "from time import time\n",
    "def computer_average(n):\n",
    "    '''Perform n appends to an empty list and return average time elapsed'''\n",
    "    data = [] \n",
    "    start = time()\n",
    "    for k in range(n):\n",
    "        data.append(None)\n",
    "    end =time()\n",
    "    return (end - start)/n\n",
    "computer_average(100)"
   ]
  },
  {
   "cell_type": "markdown",
   "metadata": {},
   "source": [
    "## 记录游戏的最高分\n",
    "### 记录游戏的分数和姓名\n"
   ]
  },
  {
   "cell_type": "code",
   "execution_count": 2,
   "metadata": {},
   "outputs": [],
   "source": [
    "class GameEntry:\n",
    "    '''Represents one entry of a list high scores'''\n",
    "    def __init__(self,name,score):\n",
    "        self._name = name\n",
    "        self._score = score\n",
    "    def get_name(self):\n",
    "        return self._name\n",
    "    def get_score(self):\n",
    "        return self._score\n",
    "    def __str__(self):\n",
    "        return '({0},{1})'.format(self._name,self._score)\n",
    "\n",
    "class ScoreBoard:\n",
    "    '''Fixed-length sequence of high scorces in nondecreasing order'''\n",
    "    def __init__(self,capacity=10):\n",
    "        '''Initialize scoreboard with given maximum capacity'''\n",
    "        self._board = [None]*capacity\n",
    "        self._n = 0\n",
    "    def __getitem__(self,k):\n",
    "        '''Return entry at index k'''\n",
    "        return self._board[k]\n",
    "    def __str__(self):\n",
    "        '''Return string representation of the high scroes'''\n",
    "        return '\\n'.join(str(self._board[j]) for  j in range(self._n))\n",
    "    def add(self,entry):\n",
    "        '''Consider adding entry to high scores'''\n",
    "        score = entry.get_score()\n",
    "        # Does new entry quality as a high score\n",
    "        # answer is yes if board not full or score is higher than last entry \n",
    "        good = self._n < len(self._board) or score > self._board[-1].get_score()\n",
    "        if good:\n",
    "            if self._n < len(self._board):\n",
    "                self._n +=1\n",
    "            j = self._n - 1 \n",
    "            while j >0 and self._board[j-1].get_score()<score:\n",
    "                self._board[j]=self._board[j-1]\n",
    "                j-=1\n",
    "                self._board[j] =entry"
   ]
  },
  {
   "cell_type": "markdown",
   "metadata": {},
   "source": [
    "## 插入排序法"
   ]
  },
  {
   "cell_type": "code",
   "execution_count": 4,
   "metadata": {},
   "outputs": [],
   "source": [
    "def insertion_sort(A):\n",
    "    '''Sort list of comparable elements into nonderceasing order.'''\n",
    "    for k in range(1,len(A)):\n",
    "        cur = A[k]\n",
    "        j = k\n",
    "        while j >0 and A[j-1] >cur:\n",
    "            A[j] = A[j-1]\n",
    "            j-=1\n",
    "        A[j] = cur    "
   ]
  },
  {
   "cell_type": "markdown",
   "metadata": {},
   "source": [
    "## 凯撒密码的一个完整的python类"
   ]
  },
  {
   "cell_type": "code",
   "execution_count": 5,
   "metadata": {},
   "outputs": [
    {
     "name": "stdout",
     "output_type": "stream",
     "text": [
      "Secret: WKH HDJOH LV LQ SODB;PHHW DW MRH'V.\n",
      "Message: THE EAGLE IS IN PLAY;MEET AT JOE'S.\n"
     ]
    }
   ],
   "source": [
    "class CaesarCipher:\n",
    "    '''Class for doing encyrption and using a Caesar cipher'''\n",
    "    def __init__(self,shift):\n",
    "        '''Construct Caesar cipher using given interger shift for rotation.'''\n",
    "        encoder = [None]*26\n",
    "        decoder = [None]*26\n",
    "        for k in range(26):\n",
    "            encoder[k] = chr((k + shift)%26+ord('A'))\n",
    "            decoder[k] = chr((k - shift)%26+ord('A'))\n",
    "        self._forward = ''.join(encoder)\n",
    "        self._backward = ''.join(decoder)\n",
    "    def encrypt(self,message):\n",
    "        '''Return string representing encrypted message.'''\n",
    "        return self._transform(message,self._forward)\n",
    "    def decrypt(self,secret):\n",
    "        '''Return decryted message given encyrpted secrect'''\n",
    "        return self._transform(secret,self._backward)\n",
    "    def _transform(self,original,code):\n",
    "        '''Utility to perform transformation based on given code string.'''\n",
    "        msg = list(original)\n",
    "        for k in range(len(msg)):\n",
    "            if msg[k].isupper():\n",
    "                j = ord(msg[k])-ord('A')\n",
    "                msg[k] = code[j]\n",
    "        return ''.join(msg)\n",
    "if __name__ == '__main__':\n",
    "    cipher = CaesarCipher(3)\n",
    "    message = \"THE EAGLE IS IN PLAY;MEET AT JOE'S.\"\n",
    "    coded = cipher.encrypt(message)\n",
    "    print('Secret:',coded)\n",
    "    answer = cipher.decrypt(coded)\n",
    "    print('Message:',answer)"
   ]
  },
  {
   "cell_type": "markdown",
   "metadata": {},
   "source": [
    "## 多维数组（对三连旗）的应用\n"
   ]
  },
  {
   "cell_type": "code",
   "execution_count": 13,
   "metadata": {},
   "outputs": [
    {
     "ename": "ValueError",
     "evalue": "Board position occupied",
     "output_type": "error",
     "traceback": [
      "\u001b[0;31m---------------------------------------------------------------------------\u001b[0m",
      "\u001b[0;31mValueError\u001b[0m                                Traceback (most recent call last)",
      "\u001b[0;32m<ipython-input-13-05c4d5730311>\u001b[0m in \u001b[0;36m<module>\u001b[0;34m\u001b[0m\n\u001b[1;32m     48\u001b[0m \u001b[0mgame\u001b[0m \u001b[0;34m=\u001b[0m \u001b[0mTicTacToe\u001b[0m\u001b[0;34m(\u001b[0m\u001b[0;34m)\u001b[0m\u001b[0;34m\u001b[0m\u001b[0;34m\u001b[0m\u001b[0m\n\u001b[1;32m     49\u001b[0m \u001b[0;31m# X moves   # O moves\u001b[0m\u001b[0;34m\u001b[0m\u001b[0;34m\u001b[0m\u001b[0;34m\u001b[0m\u001b[0m\n\u001b[0;32m---> 50\u001b[0;31m \u001b[0mgame\u001b[0m\u001b[0;34m.\u001b[0m\u001b[0mmark\u001b[0m\u001b[0;34m(\u001b[0m\u001b[0;36m1\u001b[0m\u001b[0;34m,\u001b[0m\u001b[0;36m1\u001b[0m\u001b[0;34m)\u001b[0m \u001b[0;34m;\u001b[0m \u001b[0mgame\u001b[0m\u001b[0;34m.\u001b[0m\u001b[0mmark\u001b[0m\u001b[0;34m(\u001b[0m\u001b[0;36m0\u001b[0m\u001b[0;34m,\u001b[0m\u001b[0;36m2\u001b[0m\u001b[0;34m)\u001b[0m\u001b[0;34m\u001b[0m\u001b[0;34m\u001b[0m\u001b[0m\n\u001b[0m\u001b[1;32m     51\u001b[0m \u001b[0mgame\u001b[0m\u001b[0;34m.\u001b[0m\u001b[0mmark\u001b[0m\u001b[0;34m(\u001b[0m\u001b[0;36m2\u001b[0m\u001b[0;34m,\u001b[0m\u001b[0;36m2\u001b[0m\u001b[0;34m)\u001b[0m \u001b[0;34m;\u001b[0m \u001b[0mgame\u001b[0m\u001b[0;34m.\u001b[0m\u001b[0mmark\u001b[0m\u001b[0;34m(\u001b[0m\u001b[0;36m0\u001b[0m\u001b[0;34m,\u001b[0m\u001b[0;36m0\u001b[0m\u001b[0;34m)\u001b[0m\u001b[0;34m\u001b[0m\u001b[0;34m\u001b[0m\u001b[0m\n\u001b[1;32m     52\u001b[0m \u001b[0mgame\u001b[0m\u001b[0;34m.\u001b[0m\u001b[0mmark\u001b[0m\u001b[0;34m(\u001b[0m\u001b[0;36m0\u001b[0m\u001b[0;34m,\u001b[0m\u001b[0;36m1\u001b[0m\u001b[0;34m)\u001b[0m \u001b[0;34m;\u001b[0m \u001b[0mgame\u001b[0m\u001b[0;34m.\u001b[0m\u001b[0mmark\u001b[0m\u001b[0;34m(\u001b[0m\u001b[0;36m2\u001b[0m\u001b[0;34m,\u001b[0m\u001b[0;36m1\u001b[0m\u001b[0;34m)\u001b[0m\u001b[0;34m\u001b[0m\u001b[0;34m\u001b[0m\u001b[0m\n",
      "\u001b[0;32m<ipython-input-13-05c4d5730311>\u001b[0m in \u001b[0;36mmark\u001b[0;34m(self, i, j)\u001b[0m\n\u001b[1;32m     11\u001b[0m             \u001b[0;32mraise\u001b[0m \u001b[0mValueError\u001b[0m\u001b[0;34m(\u001b[0m\u001b[0;34m'Invaild board position'\u001b[0m\u001b[0;34m)\u001b[0m\u001b[0;34m\u001b[0m\u001b[0;34m\u001b[0m\u001b[0m\n\u001b[1;32m     12\u001b[0m         \u001b[0;32mif\u001b[0m \u001b[0mself\u001b[0m\u001b[0;34m.\u001b[0m\u001b[0m_board\u001b[0m\u001b[0;34m[\u001b[0m\u001b[0mi\u001b[0m\u001b[0;34m]\u001b[0m\u001b[0;34m[\u001b[0m\u001b[0mj\u001b[0m\u001b[0;34m]\u001b[0m\u001b[0;34m!=\u001b[0m\u001b[0;34m' '\u001b[0m\u001b[0;34m:\u001b[0m\u001b[0;34m\u001b[0m\u001b[0;34m\u001b[0m\u001b[0m\n\u001b[0;32m---> 13\u001b[0;31m             \u001b[0;32mraise\u001b[0m \u001b[0mValueError\u001b[0m\u001b[0;34m(\u001b[0m\u001b[0;34m'Board position occupied'\u001b[0m\u001b[0;34m)\u001b[0m\u001b[0;34m\u001b[0m\u001b[0;34m\u001b[0m\u001b[0m\n\u001b[0m\u001b[1;32m     14\u001b[0m         \u001b[0;32mif\u001b[0m \u001b[0mself\u001b[0m\u001b[0;34m.\u001b[0m\u001b[0mwinner\u001b[0m\u001b[0;34m(\u001b[0m\u001b[0;34m)\u001b[0m \u001b[0;32mis\u001b[0m \u001b[0;32mnot\u001b[0m \u001b[0;32mNone\u001b[0m\u001b[0;34m:\u001b[0m\u001b[0;34m\u001b[0m\u001b[0;34m\u001b[0m\u001b[0m\n\u001b[1;32m     15\u001b[0m             \u001b[0;32mraise\u001b[0m \u001b[0mValueError\u001b[0m\u001b[0;34m(\u001b[0m\u001b[0;34m'Game is already complete'\u001b[0m\u001b[0;34m)\u001b[0m\u001b[0;34m\u001b[0m\u001b[0;34m\u001b[0m\u001b[0m\n",
      "\u001b[0;31mValueError\u001b[0m: Board position occupied"
     ]
    }
   ],
   "source": [
    "class TicTacToe:\n",
    "    '''Management of a Tic-Tac-Toe game (does not do strategy)'''\n",
    "    \n",
    "    def __init__(self):\n",
    "        '''Start a new game'''\n",
    "        self._board = [[' ']*3 for j in range(3)]\n",
    "        self._player = 'X'\n",
    "    def mark(self,i,j):\n",
    "        '''Put an X or O mark at position(i,j) for next player's turn .'''\n",
    "        if not (0<=i<=2 and 0<=j<=2):\n",
    "            raise ValueError('Invaild board position')\n",
    "        if self._board[i][j]!=' ':\n",
    "            raise ValueError('Board position occupied')\n",
    "        if self.winner() is not None:\n",
    "            raise ValueError('Game is already complete')\n",
    "            self._board[i][j]= self._player\n",
    "            if self._player == 'X':\n",
    "                self._player == 'O'\n",
    "            else:\n",
    "                self._player ='X'\n",
    "    def _is_win(self,mark):\n",
    "        '''Check whether the board configuration is a win for the given player.'''\n",
    "        board = self._board\n",
    "        return (mark == board[0][0]==board[0][1]==board[0][2]or #row 0\n",
    "               mark == board[1][0]==board[1][1]==board[1][2]or #row 1\n",
    "               mark == board[2][0]==board[2][1]==board[2][2]or #row 2\n",
    "               \n",
    "               mark == board[0][0]==board[1][0]==board[2][0]or #column 0\n",
    "               mark == board[0][1]==board[1][1]==board[2][1]or #column 1\n",
    "               mark == board[0][2]==board[1][2]==board[2][2]or #column 2\n",
    "               \n",
    "               mark == board[0][0]==board[1][1]==board[2][2]or #diagonal\n",
    "               mark == board[0][2]==board[1][1]==board[2][0]) #rev diag\n",
    "\n",
    "    def winner(self):\n",
    "        '''Return mark of winning player ,or None to indicate to a tie'''\n",
    "        for mark in \"XO\":\n",
    "            if self._is_win(mark):\n",
    "                return mark\n",
    "        return None\n",
    "    def __str__(self):\n",
    "        '''Return string representation of current game board'''\n",
    "        rows = ['|'.join(self._board[r]) for r in range(3)]\n",
    "        return '\\n-----\\n'.join(rows)\n",
    "\n",
    "\n",
    "    \n",
    "game = TicTacToe() \n",
    "# X moves   # O moves\n",
    "game.mark(1,1) ; game.mark(0,2)\n",
    "game.mark(2,2) ; game.mark(0,0)\n",
    "game.mark(0,1) ; game.mark(2,1) \n",
    "game.mark(1,2) ; game.mark(1,0) \n",
    "game.mark(2,0)\n",
    "print(game)\n",
    "winner = game.winner()\n",
    "if winner is None:\n",
    "    print('Tie')\n",
    "else:\n",
    "    print(winner,'wins')\n",
    "    \n",
    "    \n",
    "    "
   ]
  }
 ],
 "metadata": {
  "kernelspec": {
   "display_name": "Python 3",
   "language": "python",
   "name": "python3"
  },
  "language_info": {
   "codemirror_mode": {
    "name": "ipython",
    "version": 3
   },
   "file_extension": ".py",
   "mimetype": "text/x-python",
   "name": "python",
   "nbconvert_exporter": "python",
   "pygments_lexer": "ipython3",
   "version": "3.7.1"
  }
 },
 "nbformat": 4,
 "nbformat_minor": 2
}
