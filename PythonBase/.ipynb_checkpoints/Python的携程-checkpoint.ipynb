{
 "cells": [
  {
   "cell_type": "code",
   "execution_count": 1,
   "metadata": {},
   "outputs": [
    {
     "name": "stdout",
     "output_type": "stream",
     "text": [
      "12\n",
      "56\n",
      "34\n",
      "78\n"
     ]
    }
   ],
   "source": [
    "#!/usr/bin/python\n",
    "# -*- coding : utf-8 -*-\n",
    "# 作者： Presley\n",
    "# 时间： 2018-12-4\n",
    "# 邮箱：1209989516@qq.com\n",
    "# 这是我用来练习python 协程的测试脚本\n",
    "\n",
    "from greenlet import greenlet\n",
    "\n",
    "def test1():\n",
    "    print(12)\n",
    "    gr2.switch() \n",
    "    print(34)\n",
    "    gr2.switch()\n",
    "\n",
    "def test2():\n",
    "    print(56)\n",
    "    gr1.switch()\n",
    "    print(78)\n",
    "\n",
    "gr1 = greenlet(test1)\n",
    "gr2 = greenlet(test2)\n",
    "gr1.switch()"
   ]
  },
  {
   "cell_type": "markdown",
   "metadata": {},
   "source": [
    "# Python的携程"
   ]
  },
  {
   "cell_type": "markdown",
   "metadata": {},
   "source": [
    "### 用yield实现一个简单的携程程序"
   ]
  },
  {
   "cell_type": "code",
   "execution_count": 1,
   "metadata": {},
   "outputs": [
    {
     "name": "stdout",
     "output_type": "stream",
     "text": [
      "starting eating baozi...\n",
      "starting eating baozi...\n",
      "[c1] is eating baozi 1\n",
      "[c2] is eating baozi 1\n",
      "\u001b[32;1m[producer]\u001b[0m is making\n",
      "[c1] is eating baozi 2\n",
      "[c2] is eating baozi 2\n",
      "\u001b[32;1m[producer]\u001b[0m is making\n",
      "[c1] is eating baozi 3\n",
      "[c2] is eating baozi 3\n",
      "\u001b[32;1m[producer]\u001b[0m is making\n",
      "[c1] is eating baozi 4\n",
      "[c2] is eating baozi 4\n",
      "\u001b[32;1m[producer]\u001b[0m is making\n",
      "[c1] is eating baozi 5\n",
      "[c2] is eating baozi 5\n",
      "\u001b[32;1m[producer]\u001b[0m is making\n"
     ]
    }
   ],
   "source": [
    "#!/usr/bin/python\n",
    "# -*- coding : utf-8 -*-\n",
    "# 作者： liyuan\n",
    "# 时间： 2019-7-31\n",
    "# 邮箱：857956255@qq.com\n",
    "# 这是我用来练习python 协程的测试脚本\n",
    "\n",
    "import time\n",
    "import queue\n",
    "\n",
    "def consumer(name):\n",
    "    print(\"starting eating baozi...\")\n",
    "    while True:\n",
    "        new_baozi = yield\n",
    "        print(\"[%s] is eating baozi %s\" %(name,new_baozi))\n",
    "\n",
    "def producer():\n",
    "    r = con.__next__()\n",
    "    r = con2.__next__()\n",
    "    n = 0\n",
    "    while n < 5:\n",
    "        n += 1\n",
    "        con.send(n)\n",
    "        con2.send(n)\n",
    "        print(\"\\033[32;1m[producer]\\033[0m is making\")\n",
    "\n",
    "if __name__ == \"__main__\":\n",
    "    con = consumer(\"c1\")\n",
    "    con2 = consumer(\"c2\")\n",
    "\n",
    "\n",
    "    p = producer()"
   ]
  }
 ],
 "metadata": {
  "kernelspec": {
   "display_name": "Python 3",
   "language": "python",
   "name": "python3"
  },
  "language_info": {
   "codemirror_mode": {
    "name": "ipython",
    "version": 3
   },
   "file_extension": ".py",
   "mimetype": "text/x-python",
   "name": "python",
   "nbconvert_exporter": "python",
   "pygments_lexer": "ipython3",
   "version": "3.7.1"
  }
 },
 "nbformat": 4,
 "nbformat_minor": 2
}
