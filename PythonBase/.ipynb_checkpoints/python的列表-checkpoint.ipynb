{
 "cells": [
  {
   "cell_type": "markdown",
   "metadata": {},
   "source": [
    "# 列表的常用方法"
   ]
  },
  {
   "cell_type": "code",
   "execution_count": 2,
   "metadata": {},
   "outputs": [
    {
     "name": "stdout",
     "output_type": "stream",
     "text": [
      "[1, 12, 2, 3, 5, 6, 'liyuan']\n"
     ]
    }
   ],
   "source": [
    "# list 中添加元素\n",
    "a = [1,12,2,3,5,6]\n",
    "a.append('liyuan')\n",
    "print(a)"
   ]
  },
  {
   "cell_type": "code",
   "execution_count": 4,
   "metadata": {},
   "outputs": [
    {
     "name": "stdout",
     "output_type": "stream",
     "text": [
      "befor: [1, 12, 2, 3, 5, 6]\n",
      "after: []\n"
     ]
    }
   ],
   "source": [
    "# 清空列表\n",
    "a = [1,12,2,3,5,6]\n",
    "print('befor:',a)\n",
    "a.clear()\n",
    "print('after:',a)"
   ]
  },
  {
   "cell_type": "code",
   "execution_count": 5,
   "metadata": {},
   "outputs": [
    {
     "name": "stdout",
     "output_type": "stream",
     "text": [
      "[1, 2, 3]\n"
     ]
    }
   ],
   "source": [
    "# 拷贝列表\n",
    "a = [1,2,3]\n",
    "b= a.copy()\n",
    "print(b)"
   ]
  },
  {
   "cell_type": "code",
   "execution_count": 6,
   "metadata": {},
   "outputs": [
    {
     "name": "stdout",
     "output_type": "stream",
     "text": [
      "2\n"
     ]
    }
   ],
   "source": [
    "# 计算元素出现的次数\n",
    "a= [1,1,1,1,2,3,5,5]\n",
    "print(a.count(5))"
   ]
  },
  {
   "cell_type": "code",
   "execution_count": 8,
   "metadata": {},
   "outputs": [
    {
     "name": "stdout",
     "output_type": "stream",
     "text": [
      "[1, 2, 3, 4, 7, 8, 9, 10]\n"
     ]
    }
   ],
   "source": [
    "# 将另一个列表扩展\n",
    "a=[1,2,3,4]\n",
    "b=[7,8,9,10]\n",
    "a.extend(b)\n",
    "print(a)"
   ]
  },
  {
   "cell_type": "code",
   "execution_count": 10,
   "metadata": {},
   "outputs": [
    {
     "name": "stdout",
     "output_type": "stream",
     "text": [
      "3\n"
     ]
    }
   ],
   "source": [
    "# 根据值获取当前值索引位置（左边优先，找到后就不会找下一个元素了）\n",
    "li=[11,22,33,'aa','bb','cc','aa']\n",
    "r1=li.index('aa')\n",
    "print(r1)"
   ]
  },
  {
   "cell_type": "code",
   "execution_count": 11,
   "metadata": {},
   "outputs": [
    {
     "data": {
      "text/plain": [
       "[1, 2, 3, 5, 7, 9]"
      ]
     },
     "execution_count": 11,
     "metadata": {},
     "output_type": "execute_result"
    }
   ],
   "source": [
    "#在指定索引位置的前面插入元素\n",
    "a= [1,3,5,7,9]\n",
    "a.insert(1,2)\n",
    "a"
   ]
  },
  {
   "cell_type": "code",
   "execution_count": 14,
   "metadata": {},
   "outputs": [
    {
     "data": {
      "text/plain": [
       "[2, 3, 4, 5]"
      ]
     },
     "execution_count": 14,
     "metadata": {},
     "output_type": "execute_result"
    }
   ],
   "source": [
    "#删除某个值(1.指定索引；2. 默认最后一个)，并获取删除的值\n",
    "a= [1,2,3,4,5,6]\n",
    "a.pop()\n",
    "a\n",
    "b=a.copy()\n",
    "b.pop(0)\n",
    "b\n",
    "# pop 默认删除最后一个数据，但是也可以指定索引进行删除"
   ]
  },
  {
   "cell_type": "code",
   "execution_count": 16,
   "metadata": {},
   "outputs": [
    {
     "data": {
      "text/plain": [
       "[1, 2, 3, 4, 8, 9]"
      ]
     },
     "execution_count": 16,
     "metadata": {},
     "output_type": "execute_result"
    }
   ],
   "source": [
    "# 删除列表中的指定值，左边优先\n",
    "a=[1,2,3,4,5,8,9]\n",
    "a.remove(5)\n",
    "a"
   ]
  },
  {
   "cell_type": "code",
   "execution_count": 17,
   "metadata": {},
   "outputs": [
    {
     "data": {
      "text/plain": [
       "[5, 4, 3, 2, 1]"
      ]
     },
     "execution_count": 17,
     "metadata": {},
     "output_type": "execute_result"
    }
   ],
   "source": [
    "# 将当前列表进行翻转\n",
    "a=[1,2,3,4,5]\n",
    "a.reverse()\n",
    "a"
   ]
  },
  {
   "cell_type": "code",
   "execution_count": 18,
   "metadata": {},
   "outputs": [
    {
     "name": "stdout",
     "output_type": "stream",
     "text": [
      "[11, 22, 33, 44, 55]\n",
      "[55, 44, 33, 22, 11]\n"
     ]
    }
   ],
   "source": [
    "#列表数据进行排序\n",
    "li=[11,22,33,44,55]\n",
    "li.sort()\n",
    "print(li)\n",
    "\n",
    "li2=[11,22,33,44,55]\n",
    "li2.sort(reverse=True)\n",
    "print(li2)"
   ]
  },
  {
   "cell_type": "code",
   "execution_count": 19,
   "metadata": {},
   "outputs": [
    {
     "name": "stdout",
     "output_type": "stream",
     "text": [
      "ageaaBBdd\n",
      "ageaaBBdd101213\n"
     ]
    }
   ],
   "source": [
    "#列表转换成字符串\n",
    "li = [ \"age\",\"aa\", \"BB\", \"dd\"]\n",
    "v1=''.join(li)\n",
    "print (v1)\n",
    "\n",
    "li2 = [ \"age\",\"aa\", \"BB\", \"dd\",10,12,13]\n",
    "v3=''\n",
    "for i in li2:\n",
    "    v3=v3 + str(i)\n",
    "print(v3)"
   ]
  },
  {
   "cell_type": "markdown",
   "metadata": {},
   "source": [
    "# 列表的推倒式"
   ]
  },
  {
   "cell_type": "code",
   "execution_count": 30,
   "metadata": {},
   "outputs": [
    {
     "data": {
      "text/plain": [
       "[6, 7, 8, 9]"
      ]
     },
     "execution_count": 30,
     "metadata": {},
     "output_type": "execute_result"
    }
   ],
   "source": [
    "a = [1,2,3,4,5,6,7,8,9]\n",
    "b=[x for x in a if x > 5 ]\n",
    "b"
   ]
  },
  {
   "cell_type": "markdown",
   "metadata": {},
   "source": [
    "# python的三目运算"
   ]
  },
  {
   "cell_type": "code",
   "execution_count": 35,
   "metadata": {},
   "outputs": [
    {
     "name": "stdout",
     "output_type": "stream",
     "text": [
      "4\n"
     ]
    }
   ],
   "source": [
    "x=3\n",
    "y=4\n",
    "print(x if (x>y) else y)"
   ]
  },
  {
   "cell_type": "markdown",
   "metadata": {},
   "source": [
    "### 列表中常用的方法\n",
    "方法|\t意义\n",
    "----|----\n",
    "L.index(v [, begin[, end]])\t|返回对应元素的索引下标, begin为开始索引，end为结束索引,当 value 不存在时触发ValueError错误\n",
    "L.insert(index, obj)|\t将某个元素插放到列表中指定的位置\n",
    "L.count(x)|\t返回列表中元素的个数\n",
    "L.remove(x)|\t从列表中删除第一次出现在列表中的值\n",
    "L.copy()\t|复制此列表（只复制一层，不会复制深层对象)\n",
    "L.append(x)\t|向列表中追加单个元素\n",
    "L.extend(lst)\t|向列表追加另一个列表\n",
    "L.clear()\t|清空列表,等同于 L[:] = []\n",
    "L.sort(reverse=False)|\t将列表中的元素进行排序，默认顺序按值的小到大的顺序排列\n",
    "L.reverse()\t|列表的反转，用来改变原列表的先后顺序\n",
    "L.pop([index])\t|删除索引对应的元素，如果不加索引，默认删除最后元素，同时返回删除元素的引用关系"
   ]
  }
 ],
 "metadata": {
  "kernelspec": {
   "display_name": "Python 3",
   "language": "python",
   "name": "python3"
  },
  "language_info": {
   "codemirror_mode": {
    "name": "ipython",
    "version": 3
   },
   "file_extension": ".py",
   "mimetype": "text/x-python",
   "name": "python",
   "nbconvert_exporter": "python",
   "pygments_lexer": "ipython3",
   "version": "3.7.6"
  }
 },
 "nbformat": 4,
 "nbformat_minor": 4
}
