{
 "cells": [
  {
   "cell_type": "markdown",
   "metadata": {},
   "source": [
    "## python的项目包结构\n",
    "- 包的定义\n",
    "    - 包是将模块以文件夹的形式进行分组管理的方法\n",
    "- 作用:\n",
    "    - 将一系列模块进行分类管理,有利于防止命名冲突可以在需要时加载一个或部分模块而不是全部模块\n",
    "    \n",
    "- 包的导入:\n",
    "    - import 包名 [as 包别名]\n",
    "    - import 包名.模块名 [as 模块新名]\n",
    "    - import 包名.子包名.模块名 [as 模块新名]\n",
    "    - from 包名 import 模块名 [as 模块新名]\n",
    "    - from 包名.子包名 import 模块名 [as 模块新名]\n",
    "    - from 包名.子包名.模块名 import 属性名 [as 属性新名]\n",
    "    - from 包名 import *\n",
    "    - from 包名.模块名 import *\n",
    "    \n",
    "\n",
    "###  --init--.py\n",
    "- 作用:\n",
    "    - 编写此包的内容在内部填写文档字符串\n",
    "    - 在__init__.py文件内可以加载此包所依懒的一些其它模块\n",
    "    - --all--列表只对 from import *语句起作用 e.g:__all__ = ['contra', 'tanks']\n",
    "    "
   ]
  },
  {
   "cell_type": "code",
   "execution_count": 1,
   "metadata": {},
   "outputs": [
    {
     "name": "stdout",
     "output_type": "stream",
     "text": [
      "mypack/__init__.py被调用!!!\n",
      "mypack/games/__init__.py 被加载执行\n",
      "魂斗罗模块被加载!\n",
      "正在玩魂斗罗....\n",
      "正在玩魂斗罗....\n",
      "正在玩魂斗罗....\n",
      "超级玛丽模块被加载!\n",
      "正在玩超级玛丽....\n"
     ]
    }
   ],
   "source": [
    "# test_mypack.py\n",
    "\n",
    "# 玩魂斗罗\n",
    "# 1. 用import 语句导入\n",
    "import mypack.games.contra\n",
    "mypack.games.contra.play()\n",
    "import mypack.games.contra as con  # 为mypack.games.contra 取别名为con\n",
    "con.play()  \n",
    "# 2. 用from import 语句导入\n",
    "from mypack.games.contra import play\n",
    "play()  # 魂斗罗里的play()\n",
    "\n",
    "# 3. 用 from  import *语句导入\n",
    "from mypack.games.supermario import *\n",
    "play()  # 超级玛丽里的play()"
   ]
  }
 ],
 "metadata": {
  "kernelspec": {
   "display_name": "Python 3",
   "language": "python",
   "name": "python3"
  },
  "language_info": {
   "codemirror_mode": {
    "name": "ipython",
    "version": 3
   },
   "file_extension": ".py",
   "mimetype": "text/x-python",
   "name": "python",
   "nbconvert_exporter": "python",
   "pygments_lexer": "ipython3",
   "version": "3.7.1"
  }
 },
 "nbformat": 4,
 "nbformat_minor": 2
}
