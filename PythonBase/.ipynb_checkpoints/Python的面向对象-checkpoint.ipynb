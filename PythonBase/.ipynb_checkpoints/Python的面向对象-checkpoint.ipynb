{
 "cells": [
  {
   "cell_type": "markdown",
   "metadata": {},
   "source": [
    "## Python的面向对象\n",
    "### 类的共有和私有方法"
   ]
  },
  {
   "cell_type": "code",
   "execution_count": 1,
   "metadata": {},
   "outputs": [
    {
     "name": "stdout",
     "output_type": "stream",
     "text": [
      "这是一个公共的方法\n",
      "这是一个私有的方法\n"
     ]
    },
    {
     "ename": "AttributeError",
     "evalue": "'Persion' object has no attribute 'method2'",
     "output_type": "error",
     "traceback": [
      "\u001b[0;31m---------------------------------------------------------------------------\u001b[0m",
      "\u001b[0;31mAttributeError\u001b[0m                            Traceback (most recent call last)",
      "\u001b[0;32m<ipython-input-1-98f900f9c03f>\u001b[0m in \u001b[0;36m<module>\u001b[0;34m\u001b[0m\n\u001b[1;32m     13\u001b[0m \u001b[0;34m\u001b[0m\u001b[0m\n\u001b[1;32m     14\u001b[0m \u001b[0;31m#回报异常\u001b[0m\u001b[0;34m\u001b[0m\u001b[0;34m\u001b[0m\u001b[0;34m\u001b[0m\u001b[0m\n\u001b[0;32m---> 15\u001b[0;31m \u001b[0ma\u001b[0m\u001b[0;34m.\u001b[0m\u001b[0mmethod2\u001b[0m\u001b[0;34m(\u001b[0m\u001b[0;34m)\u001b[0m\u001b[0;34m\u001b[0m\u001b[0;34m\u001b[0m\u001b[0m\n\u001b[0m",
      "\u001b[0;31mAttributeError\u001b[0m: 'Persion' object has no attribute 'method2'"
     ]
    }
   ],
   "source": [
    "class Persion:\n",
    "    def method1(self):\n",
    "        print('这是一个公共的方法')\n",
    "    def __method2(self):\n",
    "        print('这是一个私有的方法')\n",
    "a=Persion()\n",
    "#调用公共方法的技巧\n",
    "a.method1()\n",
    "\n",
    "\n",
    "#调用私有方法的技巧\n",
    "a._Persion__method2()\n",
    "\n",
    "#回报异常\n",
    "a.method2()\n"
   ]
  },
  {
   "cell_type": "markdown",
   "metadata": {},
   "source": [
    "### 添加变量"
   ]
  },
  {
   "cell_type": "code",
   "execution_count": 2,
   "metadata": {},
   "outputs": [
    {
     "name": "stdout",
     "output_type": "stream",
     "text": [
      "MyClass\n",
      "1 1\n",
      "2 2\n",
      "3 abc\n"
     ]
    },
    {
     "ename": "TypeError",
     "evalue": "can only concatenate str (not \"int\") to str",
     "output_type": "error",
     "traceback": [
      "\u001b[0;31m---------------------------------------------------------------------------\u001b[0m",
      "\u001b[0;31mTypeError\u001b[0m                                 Traceback (most recent call last)",
      "\u001b[0;32m<ipython-input-2-8230399d0021>\u001b[0m in \u001b[0;36m<module>\u001b[0;34m\u001b[0m\n\u001b[1;32m     12\u001b[0m \u001b[0mmy\u001b[0m\u001b[0;34m.\u001b[0m\u001b[0mcount\u001b[0m\u001b[0;34m=\u001b[0m\u001b[0;34m\"abc\"\u001b[0m\u001b[0;34m\u001b[0m\u001b[0;34m\u001b[0m\u001b[0m\n\u001b[1;32m     13\u001b[0m \u001b[0mprint\u001b[0m\u001b[0;34m(\u001b[0m\u001b[0;34m'3'\u001b[0m\u001b[0;34m,\u001b[0m\u001b[0mmy\u001b[0m\u001b[0;34m.\u001b[0m\u001b[0mcount\u001b[0m\u001b[0;34m)\u001b[0m\u001b[0;34m\u001b[0m\u001b[0;34m\u001b[0m\u001b[0m\n\u001b[0;32m---> 14\u001b[0;31m \u001b[0mmy\u001b[0m\u001b[0;34m.\u001b[0m\u001b[0mconter\u001b[0m\u001b[0;34m(\u001b[0m\u001b[0;34m)\u001b[0m\u001b[0;34m\u001b[0m\u001b[0;34m\u001b[0m\u001b[0m\n\u001b[0m\u001b[1;32m     15\u001b[0m \u001b[0mprint\u001b[0m\u001b[0;34m(\u001b[0m\u001b[0;34m'3'\u001b[0m\u001b[0;34m,\u001b[0m\u001b[0mmy\u001b[0m\u001b[0;34m.\u001b[0m\u001b[0mcount\u001b[0m\u001b[0;34m)\u001b[0m\u001b[0;34m\u001b[0m\u001b[0;34m\u001b[0m\u001b[0m\n\u001b[1;32m     16\u001b[0m \u001b[0mmy\u001b[0m\u001b[0;34m.\u001b[0m\u001b[0mname\u001b[0m \u001b[0;34m=\u001b[0m \u001b[0;34m\"hello word\"\u001b[0m\u001b[0;34m\u001b[0m\u001b[0;34m\u001b[0m\u001b[0m\n",
      "\u001b[0;32m<ipython-input-2-8230399d0021>\u001b[0m in \u001b[0;36mconter\u001b[0;34m(self)\u001b[0m\n\u001b[1;32m      3\u001b[0m     \u001b[0mcount\u001b[0m \u001b[0;34m=\u001b[0m \u001b[0;36m0\u001b[0m\u001b[0;34m\u001b[0m\u001b[0;34m\u001b[0m\u001b[0m\n\u001b[1;32m      4\u001b[0m     \u001b[0;32mdef\u001b[0m \u001b[0mconter\u001b[0m\u001b[0;34m(\u001b[0m\u001b[0mself\u001b[0m\u001b[0;34m)\u001b[0m\u001b[0;34m:\u001b[0m\u001b[0;34m\u001b[0m\u001b[0;34m\u001b[0m\u001b[0m\n\u001b[0;32m----> 5\u001b[0;31m         \u001b[0mself\u001b[0m\u001b[0;34m.\u001b[0m\u001b[0mcount\u001b[0m \u001b[0;34m+=\u001b[0m \u001b[0;36m1\u001b[0m\u001b[0;34m\u001b[0m\u001b[0;34m\u001b[0m\u001b[0m\n\u001b[0m\u001b[1;32m      6\u001b[0m \u001b[0;34m\u001b[0m\u001b[0m\n\u001b[1;32m      7\u001b[0m \u001b[0mmy\u001b[0m\u001b[0;34m=\u001b[0m\u001b[0mMyClass\u001b[0m\u001b[0;34m(\u001b[0m\u001b[0;34m)\u001b[0m\u001b[0;34m\u001b[0m\u001b[0;34m\u001b[0m\u001b[0m\n",
      "\u001b[0;31mTypeError\u001b[0m: can only concatenate str (not \"int\") to str"
     ]
    }
   ],
   "source": [
    "class MyClass:\n",
    "    print(\"MyClass\")\n",
    "    count = 0\n",
    "    def conter(self):\n",
    "        self.count += 1\n",
    "        \n",
    "my=MyClass()\n",
    "my.conter()\n",
    "print('1',my.count)\n",
    "my.conter()\n",
    "print('2',my.count)\n",
    "my.count=\"abc\"\n",
    "print('3',my.count)\n",
    "my.name = \"hello word\"\n",
    "print('4',my.name)\n",
    "\n",
    "b=MyClass()\n",
    "b.conter()\n",
    "print(b.count)\n",
    "b.conter()\n",
    "print(b.count)"
   ]
  },
  {
   "cell_type": "markdown",
   "metadata": {},
   "source": [
    "### 类的继承"
   ]
  },
  {
   "cell_type": "code",
   "execution_count": 12,
   "metadata": {},
   "outputs": [
    {
     "name": "stdout",
     "output_type": "stream",
     "text": [
      "method1\n",
      "method2\n",
      "30\n"
     ]
    }
   ],
   "source": [
    "class ParentClass:\n",
    "    name = 30\n",
    "    def method1(self):\n",
    "        print(\"method1\")\n",
    "class ChildClass(ParentClass):\n",
    "    def method2(self):\n",
    "        print(\"method2\")\n",
    "        #print(self.name)\n",
    "\n",
    "child = ChildClass()\n",
    "child.method1()\n",
    "child.method2()\n",
    "print(child.name)"
   ]
  },
  {
   "cell_type": "code",
   "execution_count": 13,
   "metadata": {},
   "outputs": [
    {
     "name": "stdout",
     "output_type": "stream",
     "text": [
      "result:16\n",
      "(<class '__main__.Calculator'>, <class '__main__.MyPrint'>)\n",
      "(<class '__main__.MyPrint'>, <class '__main__.Calculator'>)\n",
      "计算结果：16\n"
     ]
    }
   ],
   "source": [
    "class Calculator:\n",
    "    def calculate(self,expression):\n",
    "        self.value = eval(expression)\n",
    "    def printResult(self):\n",
    "        print(\"result:{}\".format(self.value))\n",
    "\n",
    "    \n",
    "class MyPrint:\n",
    "    def printResult(self):\n",
    "        print(\"计算结果：{}\".format(self.value))\n",
    "    def aa(self,a):\n",
    "        return 30\n",
    "# 多继承时，当有多个可以继承的对象有公共的属性时，\n",
    "class NewCalculator(Calculator, MyPrint):\n",
    "    pass\n",
    "class NewCalculator1(MyPrint,Calculator):\n",
    "    pass\n",
    "calc = NewCalculator()\n",
    "calc.calculate(\"1 + 3 * 5\")\n",
    "calc.printResult()\n",
    "print(NewCalculator.__bases__)\n",
    "\n",
    "calc1 = NewCalculator1()\n",
    "print(NewCalculator1.__bases__)\n",
    "calc1.calculate(\"1 + 3 * 5\")\n",
    "calc1.printResult()"
   ]
  },
  {
   "cell_type": "markdown",
   "metadata": {},
   "source": [
    "### 与类相关的方法\n",
    "1. 判断是否为继承关系\n",
    "\n",
    "```python\n",
    "print(issubclass(childclass,parentclass))\n",
    "```\n",
    "2. 判断类里面有没有该方法\n",
    "\n",
    "```python\n",
    "print(hasattr(class,\"fun\"))\n",
    "```"
   ]
  },
  {
   "cell_type": "markdown",
   "metadata": {},
   "source": [
    "### 初始化方法\n"
   ]
  },
  {
   "cell_type": "code",
   "execution_count": 5,
   "metadata": {},
   "outputs": [
    {
     "name": "stdout",
     "output_type": "stream",
     "text": [
      "构造方法已经被调用\n",
      "Bill\n",
      "构造方法已经被调用\n",
      "Mike\n",
      "John\n"
     ]
    }
   ],
   "source": [
    "class Person:\n",
    "    def __init__(self,name = \"Bill\"):\n",
    "        print(\"构造方法已经被调用\")\n",
    "        self.name = name\n",
    "    def getName(self):\n",
    "        return self.name\n",
    "    def setName(self,name):\n",
    "        self.name= name\n",
    "\n",
    "person = Person()\n",
    "print(person.getName())\n",
    "person1 = Person(name = \"Mike\")\n",
    "print(person1.getName())\n",
    "person1.setName(name = \"John\")\n",
    "print(person1.getName())"
   ]
  },
  {
   "cell_type": "markdown",
   "metadata": {},
   "source": [
    "### Super函数\n",
    "**在类的继承中，如果重定义某个方法，该方法会覆盖父类的同名方法，但有时，我们希望能同时实现父类的功能，这时，我们就需要调用父类的方法了，可通过使用 super 来实现**"
   ]
  },
  {
   "cell_type": "code",
   "execution_count": 6,
   "metadata": {},
   "outputs": [
    {
     "name": "stdout",
     "output_type": "stream",
     "text": [
      "Animal init\n",
      "已经吃过饭了，不饿了！\n",
      "已经吃过饭了，不饿了！\n",
      "Animal init\n",
      "向天再借五百年\n",
      "已经吃了虫子！\n"
     ]
    }
   ],
   "source": [
    "class Animal:\n",
    "    def __init__(self):\n",
    "        print(\"Animal init\")\n",
    "class Bird(Animal):\n",
    "    def __init__(self, hungry):\n",
    "        super().__init__()\n",
    "        self.hungry= hungry\n",
    "    def eat(self):\n",
    "        if self.hungry:\n",
    "            print(\"已经吃了虫子！\")\n",
    "            self.hungry = False\n",
    "        else:\n",
    "            print(\"已经吃过饭了，不饿了！\")\n",
    "b = Bird(False)\n",
    "b.eat()\n",
    "b.eat()\n",
    "\n",
    "class SongBird(Bird):\n",
    "    def __init__(self,hungry):\n",
    "        super(SongBird,self).__init__(hungry)\n",
    "        self.sound = '向天再借五百年'\n",
    "        \n",
    "    def sing(self):\n",
    "        print(self.sound)\n",
    "\n",
    "        \n",
    "sb = SongBird(True)\n",
    "sb.sing()\n",
    "sb.eat()"
   ]
  },
  {
   "cell_type": "code",
   "execution_count": 8,
   "metadata": {},
   "outputs": [
    {
     "name": "stdout",
     "output_type": "stream",
     "text": [
      "Calling method on Base Class\n",
      "Calling method on right SubClass\n",
      "Calling method on left SubClass\n",
      "Calling method on SubClass\n",
      "None\n",
      "1 1 1 1\n"
     ]
    }
   ],
   "source": [
    "class baseClass:\n",
    "    num_base_calls = 0\n",
    "    def call_me(self):\n",
    "        print(\"Calling method on Base Class\")\n",
    "        self.num_base_calls += 1\n",
    "\n",
    "class leftSubClass(baseClass):\n",
    "    num_left_calls = 0\n",
    "    def call_me(self):\n",
    "        super().call_me()\n",
    "        print(\"Calling method on left SubClass\")\n",
    "        self.num_left_calls += 1\n",
    "\n",
    "class rightSubClass(baseClass):\n",
    "    num_right_calls = 0\n",
    "    def call_me(self):\n",
    "        super().call_me()\n",
    "        print(\"Calling method on right SubClass\")\n",
    "        self.num_right_calls += 1\n",
    "\n",
    "class SubClass(leftSubClass, rightSubClass):\n",
    "    num_sub_calls = 0\n",
    "    def call_me(self):\n",
    "        super().call_me()\n",
    "        print(\"Calling method on SubClass\")\n",
    "        self.num_sub_calls += 1\n",
    "# 使用super()实例化一个超类对象可以实现，每个层次只是进行且只进行一次调用\n",
    "# 就拿这个例子来说\n",
    "s = SubClass()\n",
    "print(s.call_me())\n",
    "print(s.num_sub_calls, s.num_left_calls, s.num_right_calls, s.num_base_calls)\n",
    "\n"
   ]
  },
  {
   "cell_type": "markdown",
   "metadata": {},
   "source": [
    "### Python类的特殊成员的方法\n",
    "https://www.cnblogs.com/xiangsikai/p/7827021.html\n",
    "\n",
    "1.　__doc__ ：打印类的描述信息\n",
    "```python\n",
    "class Foo:\n",
    "    \"\"\" 描述类信息，这是用于看片的神奇 \"\"\"\n",
    " \n",
    "    def func(self):\n",
    "        pass\n",
    " \n",
    "print Foo.__doc__\n",
    "#输出：类的描述信息\n",
    "\n",
    "```\n",
    "2. __module__:表示当前操作的对象在那个模块\n",
    "\n",
    "```python\n",
    "\n",
    "\n",
    "class C:\n",
    "\n",
    "    def __init__(self):\n",
    "        self.name = 'wupeiqi'\n",
    "\n",
    "```\n",
    "\n",
    "3. __class__：表示当前操作的对象的类是什么\n",
    "\n",
    "```python\n",
    "\n",
    "\n",
    "from lib.aa import C\n",
    "\n",
    "obj = C()\n",
    "print obj.__module__  # 输出 lib.aa，即：输出模块\n",
    "print obj.__class__      # 输出 lib.aa.C，即：输出类\n",
    "\n",
    "\n",
    "\n",
    "```\n",
    "\n",
    "4. __init__ ：构造方法，通过类创建对象时，自动触发执行\n",
    "\n",
    "```python\n",
    "class Role(object):    \n",
    "#初始化函数，在生成一个角色时要    初始化的一些属性就填写在这里    \n",
    "    def __init__(self,name,role,weapon,life_value=100,money=15000):\n",
    "        \n",
    "#__init__中的第一个参数self,和这里的self都 是什么意思？ 看下面解释\n",
    "self.name = name\n",
    "        self.role = role\n",
    "\n",
    "```\n",
    "\n",
    "5. __del__:析构方法，当对象在内存中被释放时，自动触发执行\n",
    "\n",
    "```python\n",
    "class Role(object):\n",
    "    def __init__(self,name,role,weapon:\n",
    "        self.name = name\n",
    "        self.role = role\n",
    "        self.weapon = weapon\n",
    "\n",
    "    def __del__(self):             #析构函数\n",
    "        print(\"del.....run...\")\n",
    "r1 = Role('Alex','police','AK47')    #生成一个角色\n",
    "\n",
    "```\n",
    "\n",
    "6. __call__:对象后面加括号，触发执行\n",
    "\n",
    "```python\n",
    "\n",
    "\n",
    "#注：构造方法的执行是由创建对象触发的，即：对象 = 类名() ；而对于 __call__ 方法的执行是由对象后加括号触发的，即：对象() 或者 类()()\n",
    "class Foo:\n",
    " \n",
    "    def __init__(self):\n",
    "        pass\n",
    "     \n",
    "    def __call__(self, *args, **kwargs):\n",
    " \n",
    "        print '__call__'\n",
    " \n",
    "obj = Foo() # 执行 __init__\n",
    "obj()       # 执行 __call__\n",
    "\n",
    "```\n",
    "\n",
    "\n",
    "7. __dict__:查看类或对象中的所有成员\n",
    "\n",
    "```python\n",
    "\n",
    "\n",
    "print(类.__dict__) # 打印类里所有属性，不包括实例属性\n",
    "print(实例.__dict__) #打印实例所有属性，不包括类属性\n",
    "\n",
    "\n",
    "\n",
    "```\n",
    "\n",
    "8. __str__：如果一个类中定义了__str__方法，那么在打印 对象 时，默认输出该方法的返回值\n",
    "\n",
    "```python\n",
    "class Foo:\n",
    " \n",
    "    def __str__(self):\n",
    "        return 'alex li'\n",
    " \n",
    "obj = Foo()\n",
    "print obj\n",
    "# 输出：alex li\n",
    "```\n",
    "9. __getitem__、__setitem__、__delitem__:\n",
    "\n",
    "```python\n",
    "\n",
    "class Foo(object):\n",
    " \n",
    "    def __getitem__(self, key):\n",
    "        print('__getitem__',key)\n",
    " \n",
    "    def __setitem__(self, key, value):\n",
    "        print('__setitem__',key,value)\n",
    " \n",
    "    def __delitem__(self, key):\n",
    "        print('__delitem__',key)\n",
    "\n",
    "obj = Foo()\n",
    " \n",
    "result = obj['k1']      # 自动触发执行 __getitem__\n",
    "obj['k2'] = 'alex'   # 自动触发执行 __setitem__\n",
    "del obj['k1']  \n",
    "\n",
    "```\n",
    "\n",
    "10. __new__ \\ __metaclass__ *（自定义类）\n",
    "\n",
    "```python\n",
    "\n",
    "#类的生成 调用 顺序依次是 __new__ --> __init__ --> __call__\n",
    "#__new__:是用来创建实例的，对类实例化之前进行定制，可以用到。\n",
    "#__metaclass__：定义一个类如何被创建\n",
    "\n",
    "```\n",
    "\n",
    "```python\n",
    "#创建类特殊方式\n",
    "def func(self):\n",
    "    print(self.name,self.age)\n",
    "\n",
    "def __init__(self,name,age):\n",
    "    self.name = name\n",
    "    self.age = age\n",
    "\n",
    "#通过Type实例化产生的Foo类，Foo是Type的对象。\n",
    "#(object，)加入“,”是为了让括号知道他是个元组。\n",
    "#type第一个参数：类名\n",
    "#type第二个参数：当前类的基类\n",
    "#type第三个参数：类的成员\n",
    "Foo = type('Foo',(object,),{'talk':func,\n",
    "                            '__init__':__init__})\n",
    "\n",
    "f= Foo(\"Chrn\",22)\n",
    "f.talk()\n",
    "print(type(Foo))\n",
    "#Type 为 类的类，所有类都是Type创建的\n",
    "\n",
    "```\n",
    "\n",
    " "
   ]
  },
  {
   "cell_type": "code",
   "execution_count": 9,
   "metadata": {},
   "outputs": [
    {
     "name": "stdout",
     "output_type": "stream",
     "text": [
      "__setitem__方法被调用,key=4!\n",
      "__setitem__方法被调用,key=7!\n",
      "__setitem__方法被调用,key=12!\n",
      "__getitem__方法被调用,key=4!\n",
      "4! = 24\n",
      "__getitem__方法被调用,key=7!\n",
      "7! = 5040\n",
      "__getitem__方法被调用,key=12!\n",
      "12! = 479001600\n",
      "__len__方法被调用\n",
      "len = 3\n",
      "__delitem__方法被调用,key=7!\n",
      "__getitem__方法被调用,key=7!\n",
      "7! = 0\n",
      "__len__方法被调用\n",
      "len = 2\n"
     ]
    }
   ],
   "source": [
    "class FactorialDict:\n",
    "    def __init__(self):\n",
    "        self.numDict = {}\n",
    "    def factorial(self,n):\n",
    "        if n == 0 or n == 1:\n",
    "            return 1\n",
    "        else:\n",
    "            return n * self.factorial(n -1)\n",
    "    def __getitem__(self,key):\n",
    "        print('__getitem__方法被调用,key={}'.format(key))\n",
    "        if key in self.numDict:\n",
    "            return self.factorial(self.numDict[key])\n",
    "        else:\n",
    "            return 0\n",
    "    def __setitem__(self,key, value):\n",
    "        print('__setitem__方法被调用,key={}'.format(key))\n",
    "        self.numDict[key] = int(value)\n",
    "    def __delitem__(self,key):\n",
    "        print('__delitem__方法被调用,key={}'.format(key))\n",
    "        del self.numDict[key]\n",
    "    def __len__(self):\n",
    "        print('__len__方法被调用')\n",
    "        return len(self.numDict)\n",
    "\n",
    "d = FactorialDict()\n",
    "d['4!'] = 4\n",
    "d['7!'] = 7\n",
    "d['12!'] = '12'\n",
    "\n",
    "\n",
    "\n",
    "print('4!', '=', d['4!'])\n",
    "print('7!', '=',d['7!'])\n",
    "print('12!', '=',d['12!'])\n",
    "print('len','=',len(d))\n",
    "del d['7!']\n",
    "print('7!', '=',d['7!'])\n",
    "print('len','=',len(d))"
   ]
  },
  {
   "cell_type": "markdown",
   "metadata": {},
   "source": [
    "### Python内建列表、字符串、字典"
   ]
  },
  {
   "cell_type": "code",
   "execution_count": 10,
   "metadata": {},
   "outputs": [
    {
     "name": "stdout",
     "output_type": "stream",
     "text": [
      "[0, 1, 2, 3, 4, 5, 6, 7, 8, 9]\n",
      "[9, 8, 7, 6, 5, 4, 3, 2, 1, 0]\n",
      "[9, 8, 2, 1, 0]\n",
      "0\n",
      "10\n",
      "2\n",
      "Bill\n",
      "None\n",
      "30\n",
      "2\n",
      "[a b c]\n",
      "[a,b,c]\n",
      "[abc]\n"
     ]
    }
   ],
   "source": [
    "class CounterList(list):\n",
    "    def __init__(self,*args):\n",
    "        super().__init__(*args)\n",
    "        self.counter = 0\n",
    "    def __getitem__(self,index):\n",
    "        self.counter += 1\n",
    "        return super(CounterList, self).__getitem__(index)\n",
    "c = CounterList(range(10))\n",
    "print(c)\n",
    "c.reverse()\n",
    "print(c)\n",
    "del c[2:7]\n",
    "print(c)\n",
    "print(c.counter)\n",
    "print(c[1] + c[2])\n",
    "print(c.counter)\n",
    "\n",
    "class CounterDict(dict):\n",
    "    def __init__(self,*args):\n",
    "        super().__init__(*args)\n",
    "        self.counter = 0\n",
    "    def __getitem__(self,key):\n",
    "        self.counter += 1\n",
    "        return super(CounterDict, self).__getitem__(key)\n",
    "d = CounterDict({'name':'Bill'})\n",
    "print(d['name'])\n",
    "print(d.get('age'))    \n",
    "d['age'] = 30\n",
    "print(d['age'])\n",
    "print(d.counter)\n",
    "\n",
    "\n",
    "class MultiString(str):\n",
    "    def __new__(cls, *args, sep = ' '):\n",
    "        s = ''\n",
    "        for arg in args:\n",
    "            s += arg + sep\n",
    "        index = -len(sep)\n",
    "        if index == 0:\n",
    "            index = len(s)\n",
    "        return str.__new__(cls, s[:index])\n",
    "    def __init__(self, *args, sep = ' '):\n",
    "        pass\n",
    "cs1 = MultiString('a', 'b', 'c')\n",
    "\n",
    "cs2 = MultiString('a', 'b', 'c', sep=',')\n",
    "cs3 = MultiString('a', 'b', 'c', sep='')\n",
    "print('[' + cs1 + ']')\n",
    "print('[' + cs2 + ']')\n",
    "print('[' + cs3 + ']')"
   ]
  },
  {
   "cell_type": "markdown",
   "metadata": {},
   "source": [
    "### property函数"
   ]
  },
  {
   "cell_type": "code",
   "execution_count": 14,
   "metadata": {},
   "outputs": [
    {
     "name": "stdout",
     "output_type": "stream",
     "text": [
      "left = 10\n",
      "top = 20\n",
      "getPosition方法被调用\n",
      "position = (10, 20)\n",
      "setPosition方法被调用\n",
      "getPosition方法被调用\n",
      "position = (100, 200)\n",
      "position属性已经被删除\n",
      "getPosition方法被调用\n",
      "(0, 0)\n",
      "setPosition方法被调用\n",
      "getPosition方法被调用\n",
      "r.position = (30, 40)\n"
     ]
    }
   ],
   "source": [
    "class Rectangle:\n",
    "    def __init__(self):\n",
    "        self.left = 0\n",
    "        self.top = 0\n",
    "    # setPosition方法可以是其他的名字\n",
    "    def setPosition(self,position):\n",
    "        print('setPosition方法被调用')\n",
    "        self.left,self.top = position\n",
    "    # getPosition方法可以是其他的名字        \n",
    "    def getPosition(self):\n",
    "        print('getPosition方法被调用')\n",
    "        return self.left,self.top\n",
    "    def deletePosition(self):\n",
    "        print('position属性已经被删除')\n",
    "        self.left = 0\n",
    "        self.top = 0\n",
    " \n",
    "    position = property(getPosition, setPosition,deletePosition)\n",
    "\n",
    "r = Rectangle()\n",
    "r.left = 10\n",
    "r.top = 20\n",
    "print('left','=',r.left)\n",
    "print('top','=',r.top)\n",
    "print('position', '=', r.position)\n",
    "r.position = 100,200\n",
    "print('position', '=', r.position)\n",
    "del r.position\n",
    "print(r.position)\n",
    "r.position = 30,40\n",
    "print('r.position','=',r.position)"
   ]
  },
  {
   "cell_type": "code",
   "execution_count": 15,
   "metadata": {},
   "outputs": [
    {
     "name": "stdout",
     "output_type": "stream",
     "text": [
      "width被设置，新值为0\n",
      "height被设置，新值为0\n",
      "left被设置，新值为0\n",
      "top被设置，新值为0\n",
      "size被设置，新值为(300, 500)\n",
      "width被设置，新值为300\n",
      "height被设置，新值为500\n",
      "position被设置，新值为(100, 400)\n",
      "left被设置，新值为100\n",
      "top被设置，新值为400\n",
      "size被获取\n",
      "size = (300, 500)\n",
      "position被获取\n",
      "position = (100, 400)\n",
      "width被设置，新值为0\n",
      "height被设置，新值为0\n",
      "left被设置，新值为0\n",
      "top被设置，新值为0\n",
      "size被获取\n",
      "(0, 0)\n",
      "position被获取\n",
      "(0, 0)\n",
      "c.value = 20\n",
      "value属性的值必须大于0\n",
      "c.value = 20\n"
     ]
    }
   ],
   "source": [
    "class Rectangle:\n",
    "    def __init__(self):\n",
    "        self.width = 0\n",
    "        self.height = 0\n",
    "        self.left = 0\n",
    "        self.top = 0\n",
    "    def __setattr__(self,name,value):        \n",
    "        print(\"{}被设置，新值为{}\".format(name,value))\n",
    "        if name == 'size':\n",
    "            self.width, self.height = value\n",
    "        elif name == 'position':\n",
    "            self.left, self.top = value\n",
    "        else:\n",
    "            self.__dict__[name] = value  # 必须加上\n",
    "\n",
    "    def __getattr__(self,name):\n",
    "        print(\"{}被获取\".format(name))\n",
    "        if name == 'size':\n",
    "            return self.width,self.height\n",
    "        elif name == 'position':\n",
    "            return self.left, self.top \n",
    "\n",
    "    def __delattr__(self,name):\n",
    "        if name == 'size':\n",
    "            self.width,self.height = 0, 0\n",
    "        elif name == 'position':\n",
    "            self.left, self.top = 0,0\n",
    "r = Rectangle()\n",
    "r.size = 300,500\n",
    "r.position = 100,400\n",
    "print('size', '=', r.size)\n",
    "print('position', '=', r.position)\n",
    "del r.size, r.position\n",
    "print(r.size)\n",
    "print(r.position)\n",
    "\n",
    "\n",
    "class MyClass:\n",
    "     def __setattr__(self,name,value):        \n",
    "        if name == 'value':\n",
    "            if value > 0:\n",
    "                self.__dict__[name] = value\n",
    "            else:\n",
    "                print('{}属性的值必须大于0'.format(name))\n",
    "        else:\n",
    "           self.__dict__[name] = value\n",
    "c = MyClass()\n",
    "c.value = 20\n",
    "print('c.value','=',c.value)\n",
    "c.value = -43\n",
    "print('c.value','=',c.value)"
   ]
  },
  {
   "cell_type": "markdown",
   "metadata": {},
   "source": [
    "### 静态方法和类方法\n",
    "在使用静态方法时，类中的self将不会再进行传值，此时，静态方法已经和类没什么关系了。普通方法：直接调用类下面的方法，类方法只能访问类变量，不能访问实例变量。\n"
   ]
  },
  {
   "cell_type": "code",
   "execution_count": 9,
   "metadata": {},
   "outputs": [
    {
     "name": "stdout",
     "output_type": "stream",
     "text": [
      "MyClass的构造方法被调用\n",
      "返回类的地址 <class '__main__.MyClass'>\n",
      "[ Bill ]\n",
      "调用静态方法run\n"
     ]
    },
    {
     "ename": "AttributeError",
     "evalue": "type object 'MyClass' has no attribute 'value'",
     "output_type": "error",
     "traceback": [
      "\u001b[0;31m---------------------------------------------------------------------------\u001b[0m",
      "\u001b[0;31mAttributeError\u001b[0m                            Traceback (most recent call last)",
      "\u001b[0;32m<ipython-input-9-4829d05335df>\u001b[0m in \u001b[0;36m<module>\u001b[0;34m\u001b[0m\n\u001b[1;32m     27\u001b[0m \u001b[0mc\u001b[0m \u001b[0;34m=\u001b[0m \u001b[0mMyClass\u001b[0m\u001b[0;34m(\u001b[0m\u001b[0;34m)\u001b[0m\u001b[0;34m\u001b[0m\u001b[0;34m\u001b[0m\u001b[0m\n\u001b[1;32m     28\u001b[0m \u001b[0;31m#c.run()\u001b[0m\u001b[0;34m\u001b[0m\u001b[0;34m\u001b[0m\u001b[0;34m\u001b[0m\u001b[0m\n\u001b[0;32m---> 29\u001b[0;31m \u001b[0mc\u001b[0m\u001b[0;34m.\u001b[0m\u001b[0mdo\u001b[0m\u001b[0;34m(\u001b[0m\u001b[0;34m)\u001b[0m\u001b[0;34m\u001b[0m\u001b[0;34m\u001b[0m\u001b[0m\n\u001b[0m\u001b[1;32m     30\u001b[0m \u001b[0;31m# print('MyClass2.name','=',MyClass.name)\u001b[0m\u001b[0;34m\u001b[0m\u001b[0;34m\u001b[0m\u001b[0;34m\u001b[0m\u001b[0m\n\u001b[1;32m     31\u001b[0m \u001b[0;31m# MyClass.do()\u001b[0m\u001b[0;34m\u001b[0m\u001b[0;34m\u001b[0m\u001b[0;34m\u001b[0m\u001b[0m\n",
      "\u001b[0;32m<ipython-input-9-4829d05335df>\u001b[0m in \u001b[0;36mdo\u001b[0;34m(self)\u001b[0m\n\u001b[1;32m     14\u001b[0m         \u001b[0mprint\u001b[0m\u001b[0;34m(\u001b[0m\u001b[0;34m'['\u001b[0m\u001b[0;34m,\u001b[0m \u001b[0mself\u001b[0m\u001b[0;34m.\u001b[0m\u001b[0mname\u001b[0m\u001b[0;34m,\u001b[0m \u001b[0;34m']'\u001b[0m\u001b[0;34m)\u001b[0m\u001b[0;34m\u001b[0m\u001b[0;34m\u001b[0m\u001b[0m\n\u001b[1;32m     15\u001b[0m         \u001b[0mprint\u001b[0m\u001b[0;34m(\u001b[0m\u001b[0;34m'调用静态方法run'\u001b[0m\u001b[0;34m)\u001b[0m\u001b[0;34m\u001b[0m\u001b[0;34m\u001b[0m\u001b[0m\n\u001b[0;32m---> 16\u001b[0;31m         \u001b[0mprint\u001b[0m\u001b[0;34m(\u001b[0m\u001b[0mself\u001b[0m\u001b[0;34m.\u001b[0m\u001b[0mvalue\u001b[0m\u001b[0;34m)\u001b[0m\u001b[0;34m\u001b[0m\u001b[0;34m\u001b[0m\u001b[0m\n\u001b[0m\u001b[1;32m     17\u001b[0m         \u001b[0mself\u001b[0m\u001b[0;34m.\u001b[0m\u001b[0mrun\u001b[0m\u001b[0;34m(\u001b[0m\u001b[0;34m)\u001b[0m\u001b[0;34m\u001b[0m\u001b[0;34m\u001b[0m\u001b[0m\n\u001b[1;32m     18\u001b[0m         \u001b[0;31m# 如果是类方法，就无法访问self中的成员变量了\u001b[0m\u001b[0;34m\u001b[0m\u001b[0;34m\u001b[0m\u001b[0;34m\u001b[0m\u001b[0m\n",
      "\u001b[0;31mAttributeError\u001b[0m: type object 'MyClass' has no attribute 'value'"
     ]
    }
   ],
   "source": [
    "class MyClass:\n",
    "    name = \"Bill\"\n",
    "    def __init__(self):\n",
    "        print(\"MyClass的构造方法被调用\")\n",
    "        self.value = 20\n",
    "    @staticmethod\n",
    "    def run():\n",
    "        print('*', MyClass.name, '*')\n",
    "        print(\"MyClass的静态方法run被调用\")\n",
    "    @classmethod\n",
    "    # 这里self是元数据\n",
    "    def do(self):\n",
    "        print(\"返回类的地址\",self)\n",
    "        print('[', self.name, ']')\n",
    "        print('调用静态方法run')\n",
    "        print(self.value)\n",
    "        self.run()\n",
    "        # 如果是类方法，就无法访问self中的成员变量了\n",
    "        #print(self.value)\n",
    "        print(\"成员方法do被调用\")\n",
    "    def do1(self):\n",
    "        print(self.value)\n",
    "        print('<',self.name, '>')\n",
    "        print(self)\n",
    "# 静态方法不调用初始化方法，不需要实例化        \n",
    "#MyClass.run()\n",
    "c = MyClass()\n",
    "#c.run()\n",
    "c.do()\n",
    "# print('MyClass2.name','=',MyClass.name)\n",
    "# MyClass.do()\n",
    "#c.do1()"
   ]
  },
  {
   "cell_type": "markdown",
   "metadata": {},
   "source": [
    "### 自定义的类的迭代器和生成器"
   ]
  },
  {
   "cell_type": "code",
   "execution_count": 30,
   "metadata": {},
   "outputs": [
    {
     "name": "stdout",
     "output_type": "stream",
     "text": [
      "*\n",
      "***\n",
      "*****\n",
      "*******\n",
      "*********\n",
      "***********\n",
      "*************\n",
      "***************\n",
      "*****************\n",
      "*******************\n",
      "0 1 1 2 3 5 8 13 21 34 55 89 144 233 377 610 "
     ]
    }
   ],
   "source": [
    "class RightTriangle:\n",
    "    def __init__(self):\n",
    "        self.n = 1\n",
    "    def __next__(self):        \n",
    "        result = '*' * (2 * self.n - 1)\n",
    "        self.n += 1\n",
    "        return result\n",
    "    def __iter__(self):\n",
    "        return self\n",
    "rt = RightTriangle()\n",
    "for e in rt:\n",
    "    if len(e) > 20:\n",
    "        break;\n",
    "    print(e)\n",
    "class Fibonacci:\n",
    "    def __init__(self):\n",
    "        self.a = 0\n",
    "        self.b = 1\n",
    "    def __next__(self):\n",
    "        result = self.a\n",
    "        self.a, self.b = self.b, self.a + self.b\n",
    "        return result\n",
    "    def __iter__(self):\n",
    "        return self\n",
    "\n",
    "fibs = Fibonacci()\n",
    "for fib in fibs:\n",
    "    print(fib, end = \" \")\n",
    "    if fib > 500:\n",
    "        break;"
   ]
  },
  {
   "cell_type": "markdown",
   "metadata": {},
   "source": [
    "### 将迭代器转换为列表"
   ]
  },
  {
   "cell_type": "code",
   "execution_count": 31,
   "metadata": {},
   "outputs": [
    {
     "name": "stdout",
     "output_type": "stream",
     "text": [
      "[0, 1, 1, 2, 3, 5, 8, 13, 21, 34, 55, 89, 144, 233, 377]\n",
      "0 1 1 2 3 5 8 13 21 34 55 89 144 233 377 "
     ]
    }
   ],
   "source": [
    "class Fibonacci:\n",
    "    def __init__(self):\n",
    "        self.a = 0\n",
    "        self.b = 1\n",
    "    def __next__(self):\n",
    "        result = self.a\n",
    "        self.a, self.b = self.b, self.a + self.b\n",
    "        if result > 500: raise StopIteration\n",
    "        return result\n",
    "    def __iter__(self):\n",
    "        return self\n",
    "\n",
    "fibs1 = Fibonacci()\n",
    "print(list(fibs1))\n",
    "fibs2 = Fibonacci()\n",
    "for fib in fibs2:\n",
    "    print(fib, end = ' ')"
   ]
  },
  {
   "cell_type": "markdown",
   "metadata": {},
   "source": [
    "### 类的生成器"
   ]
  },
  {
   "cell_type": "code",
   "execution_count": 34,
   "metadata": {},
   "outputs": [
    {
     "name": "stdout",
     "output_type": "stream",
     "text": [
      "1 2 3 4 5 6 7 8 \n",
      "1 2 3 4 3 2 1 2 4 5 7 \n",
      "[1, 2, 3, 4, 3, 2, 1, 2, 4, 5, 7]\n",
      "[2, 3, 4]\n"
     ]
    }
   ],
   "source": [
    "def myGenerator():\n",
    "    numList = [1,2,3,4,5,6,7,8]\n",
    "    for num in numList:\n",
    "        yield num\n",
    "\n",
    "for num in myGenerator():\n",
    "    print(num, end = ' ')\n",
    "print()\n",
    "nestedList = [[1,2,3],[4,3,2],[1,2,4,5,7]]\n",
    "def enumList(nestedList):\n",
    "    for subList in nestedList:\n",
    "        for element in subList:\n",
    "            yield element\n",
    "for num in enumList(nestedList):\n",
    "    print(num, end=' ')\n",
    "print()\n",
    "numList = list(enumList(nestedList))\n",
    "print(numList)\n",
    "print(numList[1:4])"
   ]
  },
  {
   "cell_type": "code",
   "execution_count": 35,
   "metadata": {},
   "outputs": [
    {
     "name": "stdout",
     "output_type": "stream",
     "text": [
      "4 1 2 3 5 6 4 3 1 2 4 5 2 1 2 4 5 7 "
     ]
    }
   ],
   "source": [
    "# 递归生成器\n",
    "def enumList(nestedList):\n",
    "    try:\n",
    "        for subList in nestedList:\n",
    "           for element in enumList(subList):\n",
    "                yield element\n",
    "    except TypeError:\n",
    "        yield nestedList\n",
    "        \n",
    "nestedList = [4,[1,2,[3,5,6]],[4,3,[1,2,[4,5]],2],[1,2,4,5,7]]\n",
    "for num in enumList(nestedList):\n",
    "    print(num, end=' ')"
   ]
  },
  {
   "cell_type": "code",
   "execution_count": 37,
   "metadata": {},
   "outputs": [
    {
     "name": "stdout",
     "output_type": "stream",
     "text": [
      "a b c 20 123 hello world "
     ]
    }
   ],
   "source": [
    "#将多维列表转化成一维的字符串\n",
    "def enumList(nestedList):\n",
    "    try:\n",
    "        try: nestedList + ''\n",
    "        except TypeError:\n",
    "            pass\n",
    "        else:\n",
    "            raise TypeError\n",
    "        for subList in nestedList:\n",
    "           for element in enumList(subList):\n",
    "                yield element\n",
    "    except TypeError:\n",
    "        yield nestedList\n",
    "nestedList = ['a',['b',['c'],20,123,[['hello world']]]]\n",
    "for num in enumList(nestedList):\n",
    "    print(num, end=' ')\n"
   ]
  },
  {
   "cell_type": "markdown",
   "metadata": {},
   "source": [
    "### Python的魔法方法之　str"
   ]
  },
  {
   "cell_type": "code",
   "execution_count": 1,
   "metadata": {},
   "outputs": [
    {
     "name": "stdout",
     "output_type": "stream",
     "text": [
      "名字是:汤姆 , 年龄是:30\n"
     ]
    }
   ],
   "source": [
    "# return 返回的是一个\n",
    "class Cat:\n",
    "    \"\"\"定义一个猫类\"\"\"\n",
    " \n",
    "    def __init__(self, new_name, new_age):\n",
    "        \"\"\"在创建完对象之后 会自动调用, 它完成对象的初始化的功能\"\"\"\n",
    "        # self.name = \"汤姆\"\n",
    "        # self.age = 20\n",
    "        self.name = new_name\n",
    "        self.age = new_age  # 它是一个对象中的属性,在对象中存储,即只要这个对象还存在,那么这个变量就可以使用\n",
    "        # num = 100  # 它是一个局部变量,当这个函数执行完之后,这个变量的空间就没有了,因此其他方法不能使用这个变量\n",
    " \n",
    "    def __str__(self):\n",
    "        \"\"\"返回一个对象的描述信息\"\"\"\n",
    "        # print(num)\n",
    "        return \"名字是:%s , 年龄是:%d\" % (self.name, self.age)\n",
    " \n",
    "    def eat(self):\n",
    "        print(\"%s在吃鱼....\" % self.name)\n",
    " \n",
    "    def drink(self):\n",
    "        print(\"%s在喝可乐...\" % self.name)\n",
    " \n",
    "    def introduce(self):\n",
    "        # print(\"名字是:%s, 年龄是:%d\" % (汤姆的名字, 汤姆的年龄))\n",
    "        # print(\"名字是:%s, 年龄是:%d\" % (tom.name, tom.age))\n",
    "        print(\"名字是:%s, 年龄是:%d\" % (self.name, self.age))\n",
    " \n",
    "# 创建了一个对象\n",
    "tom = Cat(\"汤姆\", 30)\n",
    "print(tom)"
   ]
  }
 ],
 "metadata": {
  "kernelspec": {
   "display_name": "Python 3",
   "language": "python",
   "name": "python3"
  },
  "language_info": {
   "codemirror_mode": {
    "name": "ipython",
    "version": 3
   },
   "file_extension": ".py",
   "mimetype": "text/x-python",
   "name": "python",
   "nbconvert_exporter": "python",
   "pygments_lexer": "ipython3",
   "version": "3.7.1"
  },
  "toc": {
   "base_numbering": 1,
   "nav_menu": {},
   "number_sections": true,
   "sideBar": true,
   "skip_h1_title": false,
   "title_cell": "Table of Contents",
   "title_sidebar": "Contents",
   "toc_cell": false,
   "toc_position": {},
   "toc_section_display": true,
   "toc_window_display": false
  }
 },
 "nbformat": 4,
 "nbformat_minor": 2
}
