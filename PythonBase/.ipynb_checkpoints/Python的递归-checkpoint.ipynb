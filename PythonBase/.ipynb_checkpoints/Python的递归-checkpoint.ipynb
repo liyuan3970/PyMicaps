{
 "cells": [
  {
   "cell_type": "markdown",
   "metadata": {},
   "source": [
    "## 阶乘函数"
   ]
  },
  {
   "cell_type": "code",
   "execution_count": 3,
   "metadata": {},
   "outputs": [
    {
     "data": {
      "text/plain": [
       "6"
      ]
     },
     "execution_count": 3,
     "metadata": {},
     "output_type": "execute_result"
    }
   ],
   "source": [
    "def factorial(n):\n",
    "    if n == 0:\n",
    "        return 1\n",
    "    else:\n",
    "        return n*factorial(n-1)\n",
    "factorial(3)"
   ]
  },
  {
   "cell_type": "markdown",
   "metadata": {},
   "source": [
    "## 绘制英式标尺"
   ]
  },
  {
   "cell_type": "code",
   "execution_count": 8,
   "metadata": {},
   "outputs": [
    {
     "name": "stdout",
     "output_type": "stream",
     "text": [
      "--- 0\n",
      "-\n",
      "--\n",
      "-\n",
      "--- 1\n",
      "-\n",
      "--\n",
      "-\n",
      "--- 2\n"
     ]
    }
   ],
   "source": [
    "def draw_line(tick_length,tick_label=''):\n",
    "    '''draw one line with given tick length(followed by optional label)'''\n",
    "    line = '-'*tick_length\n",
    "    if tick_label:\n",
    "        line +=' '+tick_label\n",
    "    print(line)\n",
    "    \n",
    "def draw_interval(center_length):\n",
    "    '''draw tick interval based upon a center tick length'''\n",
    "    if center_length > 0:                  #stop when length drops to 0\n",
    "        draw_interval(center_length-1)     #draw inch 0 line \n",
    "        draw_line(center_length)           #draw center tivk\n",
    "        draw_interval(center_length-1)     #recursively draw bottom ticks\n",
    "def drew_ruler(num_inches,major_length):\n",
    "    '''draw english ruler with given number of inches,major tick length'''\n",
    "    draw_line(major_length,'0')            # draw inches 0 line\n",
    "    for j in range(1,1+num_inches):        # \n",
    "        draw_interval(major_length-1)      # draw interior ticks for inch\n",
    "        draw_line(major_length,str(j))     # draw inch j line and label\n",
    "\n",
    "# 绘制4刻度的4英寸的标尺\n",
    "\n",
    "drew_ruler(2,3)\n",
    "    \n",
    "    "
   ]
  },
  {
   "cell_type": "markdown",
   "metadata": {},
   "source": [
    "## 二分查找"
   ]
  },
  {
   "cell_type": "code",
   "execution_count": 13,
   "metadata": {},
   "outputs": [
    {
     "name": "stdout",
     "output_type": "stream",
     "text": [
      "****************************************\n"
     ]
    },
    {
     "data": {
      "text/plain": [
       "2"
      ]
     },
     "execution_count": 13,
     "metadata": {},
     "output_type": "execute_result"
    }
   ],
   "source": [
    "def binary_search(data,target,low,high):\n",
    "    '''\n",
    "    Return True if target is found in indicated portion of a Python list.\n",
    "    The search only considers the portion from data[low] to data[high] inclusive.\n",
    "    '''\n",
    "    if low > high:\n",
    "        return False                  # interval is empty no match\n",
    "    else:\n",
    "        mid = (low + high) // 2\n",
    "        if target == data[mid]:       # found a match \n",
    "            return data[mid]\n",
    "        elif target < data[mid]:\n",
    "            # recur on the portion left of the middle\n",
    "            return binary_search(data,target,low,mid-1)\n",
    "        else:\n",
    "            # return on the portion right of the middle\n",
    "            return binary_search(data,target,mid+1,high)\n",
    "\n",
    "\n",
    "print(\"**\"*20)\n",
    "target = 2\n",
    "low = 0\n",
    "high = 7\n",
    "data=[1,2,3,4,5,6,7,8] #必须是有排序的列表 \n",
    "binary_search(data,target,low,high) \n",
    "    \n",
    "    \n",
    "    "
   ]
  },
  {
   "cell_type": "markdown",
   "metadata": {},
   "source": [
    "## 文件系统"
   ]
  },
  {
   "cell_type": "code",
   "execution_count": 2,
   "metadata": {},
   "outputs": [
    {
     "name": "stdout",
     "output_type": "stream",
     "text": [
      "17331   /home/liyuan3970/data/study_demo/PythonBase/.ipynb_checkpoints/data_stracture-checkpoint.ipynb\n",
      "4265    /home/liyuan3970/data/study_demo/PythonBase/.ipynb_checkpoints/递归-checkpoint.ipynb\n",
      "14903   /home/liyuan3970/data/study_demo/PythonBase/.ipynb_checkpoints/异常处理和迭代器-checkpoint.ipynb\n",
      "40595   /home/liyuan3970/data/study_demo/PythonBase/.ipynb_checkpoints\n",
      "192     /home/liyuan3970/data/study_demo/PythonBase/python的数据结构.md\n",
      "4633    /home/liyuan3970/data/study_demo/PythonBase/闭包和装饰器.md\n",
      "15399   /home/liyuan3970/data/study_demo/PythonBase/异常处理和迭代器.ipynb\n",
      "17331   /home/liyuan3970/data/study_demo/PythonBase/data_stracture.ipynb\n",
      "67933   /home/liyuan3970/data/study_demo/PythonBase/递归.ipynb\n",
      "150179  /home/liyuan3970/data/study_demo/PythonBase\n"
     ]
    },
    {
     "data": {
      "text/plain": [
       "150179"
      ]
     },
     "execution_count": 2,
     "metadata": {},
     "output_type": "execute_result"
    }
   ],
   "source": [
    "import os\n",
    "def disk_usage(path):\n",
    "    '''\n",
    "    Return the number of bytes used by a file / folder and any descendents\n",
    "    '''\n",
    "    total = os.path.getsize(path)\n",
    "    if os.path.isdir(path):\n",
    "        for filename in os.listdir(path):\n",
    "            chiledpath = os.path.join(path,filename)\n",
    "            total += disk_usage(chiledpath)\n",
    "    print('{0:<7}'.format(total),path)\n",
    "    return total\n",
    "\n",
    "path = '/home/liyuan3970/data/study_demo/PythonBase'\n",
    "disk_usage(path)    \n",
    "    \n",
    "    \n",
    "    \n",
    "    "
   ]
  },
  {
   "cell_type": "markdown",
   "metadata": {},
   "source": [
    "## 递归的不足\n",
    "### 斐波那契数列"
   ]
  },
  {
   "cell_type": "code",
   "execution_count": 7,
   "metadata": {},
   "outputs": [
    {
     "data": {
      "text/plain": [
       "21"
      ]
     },
     "execution_count": 7,
     "metadata": {},
     "output_type": "execute_result"
    }
   ],
   "source": [
    "'''\n",
    "坏的递归模式\n",
    "'''\n",
    "def bad_fibonacci(n):\n",
    "    '''Return the Fibonacci number'''\n",
    "    if n <= 1:\n",
    "        return n\n",
    "    else:\n",
    "        return bad_fibonacci(n-2) + bad_fibonacci(n-1)\n",
    "bad_fibonacci(8)\n"
   ]
  },
  {
   "cell_type": "code",
   "execution_count": 61,
   "metadata": {},
   "outputs": [
    {
     "name": "stdout",
     "output_type": "stream",
     "text": [
      "1\n",
      "0\n"
     ]
    },
    {
     "data": {
      "text/plain": [
       "(1, 1)"
      ]
     },
     "execution_count": 61,
     "metadata": {},
     "output_type": "execute_result"
    }
   ],
   "source": [
    "'''\n",
    "好的递归模式--------------????????????????不理解\n",
    "'''\n",
    "def good_fibonacci(n):\n",
    "    '''Return the Fibonacci number'''\n",
    "    if n <=1:\n",
    "        return n,0\n",
    "    else:\n",
    "        a,b = good_fibonacci(n-1)\n",
    "        print(a)\n",
    "        print(b)\n",
    "        return a+b,a\n",
    "# m=(1,0)\n",
    "# n=(1,0)\n",
    "# print(m+n,m)\n",
    "\n",
    "good_fibonacci(2)"
   ]
  },
  {
   "cell_type": "markdown",
   "metadata": {},
   "source": [
    "## 无限递归\n",
    "### 取消无限递归\n",
    "```python\n",
    "'''\n",
    "自定义递归的次数\n",
    "'''\n",
    "import sys\n",
    "old = sys.getrecursionlimit()\n",
    "sys.getrecursionlimit(100000000000)\n",
    "\n",
    "\n",
    "```"
   ]
  },
  {
   "cell_type": "markdown",
   "metadata": {},
   "source": [
    "## 二路递归\n",
    "### 用二路递归计算一个序列的元素之和"
   ]
  },
  {
   "cell_type": "code",
   "execution_count": 7,
   "metadata": {
    "slideshow": {
     "slide_type": "-"
    }
   },
   "outputs": [
    {
     "data": {
      "text/plain": [
       "36"
      ]
     },
     "execution_count": 7,
     "metadata": {},
     "output_type": "execute_result"
    }
   ],
   "source": [
    "def binary_sum(S,start,stop):\n",
    "    '''Return the sum of the numbers in implicit slice S[start:stop]'''\n",
    "    if start >=stop:\n",
    "        return 0\n",
    "    elif start ==stop-1:\n",
    "        return S[start]\n",
    "    else:\n",
    "        mid = (start+stop)//2\n",
    "        return binary_sum(S,start,mid)+binary_sum(S,mid,stop)\n",
    "\n",
    "S=[1,2,3,4,5,6,7,8,9]\n",
    "binary_sum(S,0,8)"
   ]
  },
  {
   "cell_type": "markdown",
   "metadata": {},
   "source": [
    "## 多重递归\n",
    "\n",
    "略\n",
    "\n",
    "\n",
    "\n",
    "\n",
    "\n",
    "\n",
    "\n",
    "\n"
   ]
  },
  {
   "cell_type": "code",
   "execution_count": null,
   "metadata": {},
   "outputs": [],
   "source": []
  }
 ],
 "metadata": {
  "kernelspec": {
   "display_name": "Python 3",
   "language": "python",
   "name": "python3"
  },
  "language_info": {
   "codemirror_mode": {
    "name": "ipython",
    "version": 3
   },
   "file_extension": ".py",
   "mimetype": "text/x-python",
   "name": "python",
   "nbconvert_exporter": "python",
   "pygments_lexer": "ipython3",
   "version": "3.7.1"
  }
 },
 "nbformat": 4,
 "nbformat_minor": 2
}
