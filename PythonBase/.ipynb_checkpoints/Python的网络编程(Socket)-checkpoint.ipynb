{
 "cells": [
  {
   "cell_type": "markdown",
   "metadata": {},
   "source": [
    "## TCP"
   ]
  },
  {
   "cell_type": "markdown",
   "metadata": {},
   "source": [
    "### 客户端"
   ]
  },
  {
   "cell_type": "code",
   "execution_count": null,
   "metadata": {},
   "outputs": [],
   "source": [
    "#tcp_client.py\n",
    "\n",
    "from socket import *\n",
    "\n",
    "#创建套接字\n",
    "sockfd = socket()\n",
    "\n",
    "#发起连接请求\n",
    "server_addr = ('127.0.0.1',8888)\n",
    "sockfd.connect(server_addr)\n",
    "\n",
    "#消息收发\n",
    "data = input(\">>\")\n",
    "sockfd.send(data.encode())\n",
    "data = sockfd.recv(1024)\n",
    "print(\"From server:\",data.decode())\n",
    "\n",
    "sockfd.close()"
   ]
  },
  {
   "cell_type": "markdown",
   "metadata": {},
   "source": [
    "### 服务端"
   ]
  },
  {
   "cell_type": "code",
   "execution_count": null,
   "metadata": {},
   "outputs": [],
   "source": [
    "#tcp_server.py\n",
    "#coding =utf8\n",
    "import socket\n",
    "\n",
    "#创建TCP套接子\n",
    "sockfd=socket.socket(socket.AF_INET,socket.SOCK_STREAM)\n",
    "\n",
    "#绑定地址\n",
    "sockfd.bind(('0.0.0.0',8888))\n",
    "\n",
    "#设置监听\n",
    "sockfd.listen(5)\n",
    "\n",
    "#等待处理客户端连接\n",
    "print(\"Waiting for connect...\")\n",
    "connfd,addr = sockfd.accept()\n",
    "print(\"Connect from\",addr)  #打印客户端地址\n",
    "\n",
    "#消息收发\n",
    "data = connfd.recv(1024)\n",
    "print(\"Receive Msg:\",data.decode())\n",
    "\n",
    "n = connfd.send(b\"I see\")\n",
    "print(\"Send %d bytes\"%n)\n",
    "\n",
    "#关闭套接子\n",
    "connfd.close()\n",
    "sockfd.close()"
   ]
  },
  {
   "cell_type": "markdown",
   "metadata": {},
   "source": [
    "## UDP\n"
   ]
  },
  {
   "cell_type": "markdown",
   "metadata": {},
   "source": [
    "### 发送"
   ]
  },
  {
   "cell_type": "code",
   "execution_count": null,
   "metadata": {},
   "outputs": [],
   "source": [
    "from socket import * \n",
    "\n",
    "# 创建数据报套接字\n",
    "s = socket(AF_INET,SOCK_DGRAM)\n",
    "\n",
    "#设置套接字可以接受广播\n",
    "s.setsockopt(SOL_SOCKET,SO_BROADCAST,1)\n",
    "\n",
    "s.bind(('0.0.0.0',9999))\n",
    "\n",
    "while True:\n",
    "    try:\n",
    "        msg,addr = s.recvfrom(1024)\n",
    "        print(\"接收广播:\",msg.decode())\n",
    "    except KeyboardInterrupt:\n",
    "        print(\"停止接收\")\n",
    "        break \n",
    "    except Exception as e:\n",
    "        print(e)\n",
    "\n",
    "s.close()"
   ]
  },
  {
   "cell_type": "markdown",
   "metadata": {},
   "source": [
    "### 接收"
   ]
  },
  {
   "cell_type": "code",
   "execution_count": null,
   "metadata": {},
   "outputs": [],
   "source": [
    "from socket import *\n",
    "from time import sleep \n",
    "\n",
    "#设置广播目标地址\n",
    "dest = ('192.168.207.255',9999)\n",
    "\n",
    "s = socket(AF_INET,SOCK_DGRAM) \n",
    "s.setsockopt(SOL_SOCKET,SO_BROADCAST,1)\n",
    "\n",
    "while True:\n",
    "    sleep(2)\n",
    "    s.sendto(\"往后余生,风雪是你\".encode(),dest)\n",
    "\n",
    "s.close()\n"
   ]
  },
  {
   "cell_type": "markdown",
   "metadata": {},
   "source": [
    "### 升级版TCP"
   ]
  },
  {
   "cell_type": "code",
   "execution_count": null,
   "metadata": {},
   "outputs": [],
   "source": [
    "#tcp_server.py\n",
    "\n",
    "import socket\n",
    "\n",
    "#创建TCP套接子\n",
    "sockfd=socket.socket(socket.AF_INET,socket.SOCK_STREAM)\n",
    "\n",
    "#绑定地址\n",
    "sockfd.bind(('0.0.0.0',8888))\n",
    "\n",
    "#设置监听\n",
    "sockfd.listen(5)\n",
    "\n",
    "while True:\n",
    "    #等待处理客户端连接\n",
    "    print(\"Waiting for connect...\")\n",
    "    connfd,addr = sockfd.accept()\n",
    "    print(\"Connect from\",addr)  #打印客户端地址\n",
    "    #消息收发\n",
    "    while True:\n",
    "        data = connfd.recv(1024) \n",
    "        #客户端退出,服务端recv立即返回空字串\n",
    "        if not data:\n",
    "            break\n",
    "        print(\"Receive Msg:\",data.decode())\n",
    "        n = connfd.send(b\"I see\")\n",
    "        print(\"Send %d bytes\"%n) \n",
    "    connfd.close()\n",
    "\n",
    "#关闭套接子\n",
    "sockfd.close()\n",
    "\n",
    "\n",
    "\n",
    "\n",
    "\n",
    "\n",
    "\n"
   ]
  },
  {
   "cell_type": "code",
   "execution_count": null,
   "metadata": {},
   "outputs": [],
   "source": [
    "#tcp_client.py\n",
    "\n",
    "from socket import *\n",
    "\n",
    "#创建套接字\n",
    "sockfd = socket()\n",
    "\n",
    "#发起连接请求\n",
    "server_addr = ('127.0.0.1',8888)\n",
    "sockfd.connect(server_addr)\n",
    "\n",
    "#消息收发\n",
    "while True:\n",
    "    data = input(\">>\")\n",
    "    if not data:\n",
    "        break\n",
    "    sockfd.send(data.encode())\n",
    "    data = sockfd.recv(1024)\n",
    "    print(\"From server:\",data.decode())\n",
    "\n",
    "sockfd.close()\n",
    "\n",
    "\n",
    "\n",
    "\n",
    "\n",
    "\n",
    "\n"
   ]
  },
  {
   "cell_type": "markdown",
   "metadata": {},
   "source": [
    "### 升级版UDP"
   ]
  },
  {
   "cell_type": "code",
   "execution_count": null,
   "metadata": {},
   "outputs": [],
   "source": [
    "#udp_server.py\n",
    "\n",
    "from socket import *\n",
    "\n",
    "#创建数据报套接子\n",
    "sockfd = socket(AF_INET,SOCK_DGRAM)\n",
    "\n",
    "#绑定地址\n",
    "sockfd.bind(('0.0.0.0',8888))\n",
    "\n",
    "#消息收发\n",
    "while True:\n",
    "    data,addr = sockfd.recvfrom(1024)\n",
    "    print(\"Receive from %s:%s\"%(addr,data.decode()))\n",
    "    sockfd.sendto(b\"Thanks for your msg\",addr)\n",
    "\n",
    "#关闭套接子\n",
    "sockfd.close()\n",
    "\n",
    "\n",
    "\n"
   ]
  },
  {
   "cell_type": "code",
   "execution_count": null,
   "metadata": {},
   "outputs": [],
   "source": [
    "from socket import *\n",
    "import sys \n",
    "\n",
    "#从命令行传入服务器IP PORT\n",
    "HOST = sys.argv[1]\n",
    "PORT = int(sys.argv[2])\n",
    "ADDR = (HOST,PORT)\n",
    "\n",
    "#创建套接字\n",
    "sockfd = socket(AF_INET,SOCK_DGRAM)\n",
    "\n",
    "#消息收发\n",
    "while True:\n",
    "    data = input(\"Msg>>\")\n",
    "    if not data:\n",
    "        break \n",
    "    sockfd.sendto(data.encode(),ADDR)\n",
    "    msg,addr = sockfd.recvfrom(1024)\n",
    "    print(\"From server:\",msg)\n",
    "\n",
    "sockfd.close()\n",
    "\n",
    "\n",
    "\n",
    "\n",
    "\n",
    "\n"
   ]
  }
 ],
 "metadata": {
  "kernelspec": {
   "display_name": "Python 3",
   "language": "python",
   "name": "python3"
  },
  "language_info": {
   "codemirror_mode": {
    "name": "ipython",
    "version": 3
   },
   "file_extension": ".py",
   "mimetype": "text/x-python",
   "name": "python",
   "nbconvert_exporter": "python",
   "pygments_lexer": "ipython3",
   "version": "3.7.1"
  }
 },
 "nbformat": 4,
 "nbformat_minor": 2
}
