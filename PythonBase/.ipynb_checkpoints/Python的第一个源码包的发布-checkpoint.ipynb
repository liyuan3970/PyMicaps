{
 "cells": [
  {
   "cell_type": "markdown",
   "metadata": {},
   "source": [
    "# Python发布自己的第一个源码包\n",
    "\n",
    "## 编写setup.py"
   ]
  },
  {
   "cell_type": "code",
   "execution_count": null,
   "metadata": {},
   "outputs": [],
   "source": [
    "# coding:utf-8\n",
    "from setuptools import setup, find_packages\n",
    "\n",
    "\n",
    "setup(\n",
    "    name='typeidea', #名称\n",
    "    version='${version}', # 版本\n",
    "    description='Blog System base on Django',#描述\n",
    "    author='the5fire',　# 作者\n",
    "    author_email='thefivefire@gmail.com', # 邮箱\n",
    "    url='https://www.the5fire.com',　# 链接\n",
    "    license='MIT',　# 证书\n",
    "    packages=find_packages('typeidea'),# 源码包的位置\n",
    "    \n",
    "    package_dir={'': 'typeidea'},\n",
    "    # package_data={'': [    # 打包数据文件，方法一\n",
    "        # 'themes/*/*/*/*',  # 需要按目录层级匹配\n",
    "    # ]},\n",
    "    package_data={'cmaps': ['colormaps/ncar_ncl/*',\n",
    "                        'colormaps/self_defined/*'], }, #查找cmaps/colormaps/ncar_ncl/下所的有文件/\n",
    "    #include_package_data=True,  # 方法二 配合 MANIFEST.in文件\n",
    "    install_requires=[\n",
    "        #'django~=2.0',\n",
    "        #'gunicorn==19.8.1',\n",
    "        #'supervisor==4.0.0dev0',\n",
    "        #'xadmin==2.0.1',\n",
    "        #'mysqlclient==1.3.12',\n",
    "        #'django-ckeditor==5.4.0',\n",
    "        #'django-rest-framework==0.1.0',\n",
    "        #'django-redis==4.8.0',\n",
    "        #'django-autocomplete-light==3.2.10',\n",
    "        #'mistune==0.8.3',\n",
    "        #'Pillow==4.3.0',\n",
    "        #'coreapi==2.3.3',\n",
    "        #'django-redis==4.8.0',\n",
    "        #'hiredis==0.2.0',\n",
    "        # debug\n",
    "        #'django-debug-toolbar==1.9.1',\n",
    "        #'django-silk==2.0.0',\n",
    "    ],\n",
    "    scripts=[\n",
    "        'typeidea/manage.py',\n",
    "        'typeidea/typeidea/wsgi.py',\n",
    "    ],\n",
    "    entry_points={\n",
    "        'console_scripts': [\n",
    "            'typeidea_manage = manage:main',\n",
    "        ]\n",
    "    },\n",
    "    classifiers=[  # Optional\n",
    "        # How mature is this project? Common values are\n",
    "        #   3 - Alpha\n",
    "        #   4 - Beta\n",
    "        #   5 - Production/Stable\n",
    "        'Development Status :: 3 - Alpha',\n",
    "\n",
    "        # Indicate who your project is intended for\n",
    "        'Intended Audience :: Developers',\n",
    "        'Topic :: Blog :: Django Blog',\n",
    "\n",
    "        # Pick your license as you wish\n",
    "        'License :: OSI Approved :: MIT License',\n",
    "\n",
    "        # Specify the Python versions you support here. In particular, ensure\n",
    "        # that you indicate whether you support Python 2, Python 3 or both.\n",
    "        'Programming Language :: Python :: 3.6',\n",
    "    ],\n",
    "\n",
    ")\n"
   ]
  },
  {
   "cell_type": "markdown",
   "metadata": {},
   "source": [
    "## 构建源码\n",
    "\n",
    "**在构建前确保pip 和　wheel 是最新版本** \n",
    "\n",
    "```shell\n",
    "#方法１\n",
    "python setup.py sdist build\n",
    "#方法２\n",
    "python setup.py bdist_wheel --universal\n",
    "\n",
    "```"
   ]
  },
  {
   "cell_type": "markdown",
   "metadata": {},
   "source": [
    "## 安装源码库\n",
    "\n",
    "```shell\n",
    "python setup.py install\n",
    "\n",
    "```"
   ]
  },
  {
   "cell_type": "markdown",
   "metadata": {},
   "source": [
    "## 上传源码包到Pypi服务器上\n",
    "\n",
    "```shell\n",
    "# 上传source 包\n",
    "python setup.py sdist upload\n",
    "     \n",
    "# 上传pre-compiled包\n",
    "python setup.py bdist_wheel upload\n",
    "```\n"
   ]
  }
 ],
 "metadata": {
  "kernelspec": {
   "display_name": "Python 3",
   "language": "python",
   "name": "python3"
  },
  "language_info": {
   "codemirror_mode": {
    "name": "ipython",
    "version": 3
   },
   "file_extension": ".py",
   "mimetype": "text/x-python",
   "name": "python",
   "nbconvert_exporter": "python",
   "pygments_lexer": "ipython3",
   "version": "3.7.1"
  }
 },
 "nbformat": 4,
 "nbformat_minor": 2
}
