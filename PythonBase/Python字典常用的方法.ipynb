{
 "cells": [
  {
   "cell_type": "markdown",
   "metadata": {},
   "source": [
    "# Python常用的方法\n"
   ]
  },
  {
   "cell_type": "markdown",
   "metadata": {},
   "source": [
    "### 字典的方法\n",
    "方法|\t说明\n",
    "---|---\n",
    "D.clear()\t|清空字典\n",
    "D.pop(key)\t|移除键，同时返回此键所对应的值\n",
    "D.copy()\t|返回字典D的副本,只复制一层(浅拷贝)\n",
    "D.update(D2)|\t将字典 D2 合并到D中，如果键相同，则此键的值取D2的值作为新值\n",
    "D.get(key, default=None)|\t返回键key所对应的值,如果没有此键，则返回default\n",
    "D.keys()\t|返回可迭代的 dict_keys 集合对象\n",
    "D.values()\t|返回可迭代的 dict_values 值对象\n",
    "D.items()\t|返回可迭代的 dict_items 对象"
   ]
  },
  {
   "cell_type": "code",
   "execution_count": 10,
   "metadata": {},
   "outputs": [
    {
     "name": "stdout",
     "output_type": "stream",
     "text": [
      "{'name': 5, 'k': 'liyuan'}\n",
      "5\n",
      "i的值: name\n",
      "i的值: k\n"
     ]
    },
    {
     "data": {
      "text/plain": [
       "{'name': 5}"
      ]
     },
     "execution_count": 10,
     "metadata": {},
     "output_type": "execute_result"
    }
   ],
   "source": [
    "# 创建\n",
    "dic = {'name':5,'k':'liyuan'}\n",
    "print(dic)\n",
    "\n",
    "# 访问\n",
    "print(dic['name'])\n",
    "\n",
    "# 迭代的时候是迭代的字典中键值\n",
    "for i in dic:\n",
    "    print('i的值:',i)\n",
    "    \n",
    "# 修改\n",
    "dic['k'] = 20\n",
    "dic\n",
    "# 删除\n",
    "del dic['k']\n",
    "dic"
   ]
  },
  {
   "cell_type": "code",
   "execution_count": 12,
   "metadata": {},
   "outputs": [
    {
     "data": {
      "text/plain": [
       "{}"
      ]
     },
     "execution_count": 12,
     "metadata": {},
     "output_type": "execute_result"
    }
   ],
   "source": [
    "# 删除所有\n",
    "dic = {'name':5,'k':'liyuan'}\n",
    "dic.clear()\n",
    "dic"
   ]
  },
  {
   "cell_type": "code",
   "execution_count": 13,
   "metadata": {},
   "outputs": [
    {
     "data": {
      "text/plain": [
       "{'name': 5, 'k': 'liyuan', 'work': 'student'}"
      ]
     },
     "execution_count": 13,
     "metadata": {},
     "output_type": "execute_result"
    }
   ],
   "source": [
    "# 更新\n",
    "dic = {'name':5,'k':'liyuan'}\n",
    "\n",
    "dic2= {'work':'student'}\n",
    "dic.update(dic2)\n",
    "dic"
   ]
  },
  {
   "cell_type": "code",
   "execution_count": 14,
   "metadata": {},
   "outputs": [
    {
     "data": {
      "text/plain": [
       "{'x': 1, 'y': 2}"
      ]
     },
     "execution_count": 14,
     "metadata": {},
     "output_type": "execute_result"
    }
   ],
   "source": [
    "# 映射一些函数\n",
    "dict(x=1, y=2)  "
   ]
  },
  {
   "cell_type": "code",
   "execution_count": 21,
   "metadata": {},
   "outputs": [
    {
     "name": "stdout",
     "output_type": "stream",
     "text": [
      "字典的值 dict_values([5, 'liyuan', 'student'])\n",
      "字典的键 dict_keys(['name', 'k', 'work'])\n",
      "字典的键值对 dict_items([('name', 5), ('k', 'liyuan'), ('work', 'student')])\n"
     ]
    }
   ],
   "source": [
    "# 遍历字典的方法\n",
    "dic = {'name': 5, 'k': 'liyuan', 'work': 'student'}\n",
    "print('字典的值',dic.values())\n",
    "print('字典的键',dic.keys())\n",
    "print('字典的键值对',dic.items())"
   ]
  },
  {
   "cell_type": "code",
   "execution_count": 23,
   "metadata": {},
   "outputs": [
    {
     "data": {
      "text/plain": [
       "{'name': '1', 'work': '2', 'tel': '3'}"
      ]
     },
     "execution_count": 23,
     "metadata": {},
     "output_type": "execute_result"
    }
   ],
   "source": [
    "# zip函数的使用：创建字典\n",
    "key=['name','work','tel']\n",
    "values=['1','2','3']\n",
    "dic =dict(zip(key,values))\n",
    "dic"
   ]
  },
  {
   "cell_type": "code",
   "execution_count": 26,
   "metadata": {},
   "outputs": [
    {
     "data": {
      "text/plain": [
       "{'name': '222', 'work': '222', 'tel': '222'}"
      ]
     },
     "execution_count": 26,
     "metadata": {},
     "output_type": "execute_result"
    }
   ],
   "source": [
    "# 依据已有的列表进行对应的键值赋值\n",
    "key=['name','work','tel']\n",
    "d = dict.fromkeys(key,\"222\")\n",
    "d"
   ]
  },
  {
   "cell_type": "code",
   "execution_count": 29,
   "metadata": {},
   "outputs": [
    {
     "name": "stdout",
     "output_type": "stream",
     "text": [
      "{10: 'a', 34: 'b'}\n"
     ]
    },
    {
     "data": {
      "text/plain": [
       "{'a': 34, 'b': 34}"
      ]
     },
     "execution_count": 29,
     "metadata": {},
     "output_type": "execute_result"
    }
   ],
   "source": [
    "# 字典的推导式\n",
    "mcase = {'a': 10, 'b': 34}\n",
    "mcase_frequency = {v: k for k, v in mcase.items()}\n",
    "print(mcase_frequency)\n",
    "\n",
    "dic = {i:j for i in mcase.keys() for j in mcase.values()}\n",
    "dic"
   ]
  }
 ],
 "metadata": {
  "kernelspec": {
   "display_name": "Python 3",
   "language": "python",
   "name": "python3"
  },
  "language_info": {
   "codemirror_mode": {
    "name": "ipython",
    "version": 3
   },
   "file_extension": ".py",
   "mimetype": "text/x-python",
   "name": "python",
   "nbconvert_exporter": "python",
   "pygments_lexer": "ipython3",
   "version": "3.7.1"
  }
 },
 "nbformat": 4,
 "nbformat_minor": 2
}
