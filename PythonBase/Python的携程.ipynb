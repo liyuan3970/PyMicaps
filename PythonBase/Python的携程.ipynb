{
 "cells": [
  {
   "cell_type": "code",
   "execution_count": 1,
   "metadata": {},
   "outputs": [
    {
     "name": "stdout",
     "output_type": "stream",
     "text": [
      "12\n",
      "56\n",
      "34\n",
      "78\n"
     ]
    }
   ],
   "source": [
    "#!/usr/bin/python\n",
    "# -*- coding : utf-8 -*-\n",
    "# 作者： Presley\n",
    "# 时间： 2018-12-4\n",
    "# 邮箱：1209989516@qq.com\n",
    "# 这是我用来练习python 协程的测试脚本\n",
    "\n",
    "from greenlet import greenlet\n",
    "\n",
    "def test1():\n",
    "    print(12)\n",
    "    gr2.switch() \n",
    "    print(34)\n",
    "    gr2.switch()\n",
    "\n",
    "def test2():\n",
    "    print(56)\n",
    "    gr1.switch()\n",
    "    print(78)\n",
    "\n",
    "gr1 = greenlet(test1)\n",
    "gr2 = greenlet(test2)\n",
    "gr1.switch()"
   ]
  },
  {
   "cell_type": "markdown",
   "metadata": {},
   "source": [
    "# Python的携程"
   ]
  },
  {
   "cell_type": "markdown",
   "metadata": {},
   "source": [
    "### 用yield实现一个简单的携程程序"
   ]
  },
  {
   "cell_type": "code",
   "execution_count": 1,
   "metadata": {},
   "outputs": [
    {
     "name": "stdout",
     "output_type": "stream",
     "text": [
      "starting eating baozi...\n",
      "starting eating baozi...\n",
      "[c1] is eating baozi 1\n",
      "[c2] is eating baozi 1\n",
      "\u001b[32;1m[producer]\u001b[0m is making\n",
      "[c1] is eating baozi 2\n",
      "[c2] is eating baozi 2\n",
      "\u001b[32;1m[producer]\u001b[0m is making\n",
      "[c1] is eating baozi 3\n",
      "[c2] is eating baozi 3\n",
      "\u001b[32;1m[producer]\u001b[0m is making\n",
      "[c1] is eating baozi 4\n",
      "[c2] is eating baozi 4\n",
      "\u001b[32;1m[producer]\u001b[0m is making\n",
      "[c1] is eating baozi 5\n",
      "[c2] is eating baozi 5\n",
      "\u001b[32;1m[producer]\u001b[0m is making\n"
     ]
    }
   ],
   "source": [
    "#!/usr/bin/python\n",
    "# -*- coding : utf-8 -*-\n",
    "# 作者： liyuan\n",
    "# 时间： 2019-7-31\n",
    "# 邮箱：857956255@qq.com\n",
    "# 这是我用来练习python 协程的测试脚本\n",
    "\n",
    "import time\n",
    "import queue\n",
    "\n",
    "def consumer(name):\n",
    "    print(\"starting eating baozi...\")\n",
    "    while True:\n",
    "        new_baozi = yield\n",
    "        print(\"[%s] is eating baozi %s\" %(name,new_baozi))\n",
    "\n",
    "def producer():\n",
    "    r = con.__next__()\n",
    "    r = con2.__next__()\n",
    "    n = 0\n",
    "    while n < 5:\n",
    "        n += 1\n",
    "        con.send(n)\n",
    "        con2.send(n)\n",
    "        print(\"\\033[32;1m[producer]\\033[0m is making\")\n",
    "\n",
    "if __name__ == \"__main__\":\n",
    "    con = consumer(\"c1\")\n",
    "    con2 = consumer(\"c2\")\n",
    "\n",
    "\n",
    "    p = producer()"
   ]
  },
  {
   "cell_type": "code",
   "execution_count": 2,
   "metadata": {},
   "outputs": [
    {
     "name": "stdout",
     "output_type": "stream",
     "text": [
      "Running in foo\n",
      "Explicit context to bar\n",
      "Explicit context to ex\n",
      "Explicit context switch to foo again\n",
      "Implicit context switch back to bar\n",
      "Implicit context switch back to ex\n"
     ]
    },
    {
     "data": {
      "text/plain": [
       "[<Greenlet \"Greenlet-0\" at 0x7fd1f08abe18: _run>,\n",
       " <Greenlet \"Greenlet-1\" at 0x7fd1ec3a3048: _run>,\n",
       " <Greenlet \"Greenlet-2\" at 0x7fd1ec3a3158: _run>]"
      ]
     },
     "execution_count": 2,
     "metadata": {},
     "output_type": "execute_result"
    }
   ],
   "source": [
    "#!/usr/bin/python\n",
    "# -*- coding : utf-8 -*-\n",
    "# 作者： Presley\n",
    "# 时间： 2018-12-1\n",
    "# 邮箱：1209989516@qq.com\n",
    "# 这是我用来练习python 协程的测试脚本\n",
    "\n",
    "import gevent\n",
    "\n",
    "def foo():\n",
    "    print(\"Running in foo\")\n",
    "    gevent.sleep(1)\n",
    "    print(\"Explicit context switch to foo again\")\n",
    "\n",
    "def bar():\n",
    "    print(\"Explicit context to bar\")\n",
    "    gevent.sleep(1)\n",
    "    print(\"Implicit context switch back to bar\")\n",
    "\n",
    "def ex():\n",
    "    print(\"Explicit context to ex\")\n",
    "    gevent.sleep(1)\n",
    "    print(\"Implicit context switch back to ex\")\n",
    "\n",
    "gevent.joinall([\n",
    "    gevent.spawn(foo),  #类似产生一个协程的foo\n",
    "    gevent.spawn(bar),  #产生一个协程的bar\n",
    "    gevent.spawn(ex)\n",
    "])\n",
    "\n",
    "#代码的效果为：第一个协程切换到第二个，第二个切换到第三个，然后又遇到sleep(模拟io)又切换到下一个，然后实现并发的协程的效果"
   ]
  }
 ],
 "metadata": {
  "kernelspec": {
   "display_name": "Python 3",
   "language": "python",
   "name": "python3"
  },
  "language_info": {
   "codemirror_mode": {
    "name": "ipython",
    "version": 3
   },
   "file_extension": ".py",
   "mimetype": "text/x-python",
   "name": "python",
   "nbconvert_exporter": "python",
   "pygments_lexer": "ipython3",
   "version": "3.7.1"
  }
 },
 "nbformat": 4,
 "nbformat_minor": 2
}
