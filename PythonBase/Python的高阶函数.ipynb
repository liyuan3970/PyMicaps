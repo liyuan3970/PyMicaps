{
 "cells": [
  {
   "cell_type": "markdown",
   "metadata": {},
   "source": [
    "# Python的高级函数\n",
    "\n",
    "## 定义\n",
    "**满足下列两个条件之一的函数即为高阶函数**\n",
    "1. 函数接受一个或多个函数作为参数传入\n",
    "2. 函数返回一个函数"
   ]
  },
  {
   "cell_type": "markdown",
   "metadata": {},
   "source": [
    "## map 函数\n",
    "**map(func, iterable1, iterable2, ....)**\n",
    "- 形参列表可能定义如下:\n",
    "     - def map(func, *args)\n",
    "- 作用:\n",
    "    - 返回一个可迭代对象,此可迭代对象用func函数对可迭代对象iterable 中的每一个元素作为参数传入func计算,得到计算后的结果再返回, 当最短的一个可迭代对象不再提供数时时,此可迭代对象生成结束"
   ]
  },
  {
   "cell_type": "code",
   "execution_count": 1,
   "metadata": {},
   "outputs": [
    {
     "name": "stdout",
     "output_type": "stream",
     "text": [
      "++++++++++++++++\n",
      "1\n",
      "++++++++++++++++\n",
      "4\n",
      "++++++++++++++++\n",
      "9\n",
      "++++++++++++++++\n",
      "16\n",
      "++++++++++++++++\n",
      "25\n",
      "++++++++++++++++\n",
      "36\n",
      "++++++++++++++++\n",
      "49\n",
      "++++++++++++++++\n",
      "64\n",
      "++++++++++++++++\n",
      "81\n"
     ]
    }
   ],
   "source": [
    "# map.py\n",
    "\n",
    "def power2(x):\n",
    "    print(\"++++++++++++++++\")\n",
    "    return x ** 2\n",
    "\n",
    "# 生成一个可迭代对象,此可迭代对象可以生成1~9的自然数的平方\n",
    "# 1 4 9 16 .....\n",
    "for x in map(power2, range(1, 10)):\n",
    "    print(x)"
   ]
  },
  {
   "cell_type": "code",
   "execution_count": 5,
   "metadata": {},
   "outputs": [
    {
     "name": "stdout",
     "output_type": "stream",
     "text": [
      "1\n",
      "8\n",
      "9\n",
      "4\n",
      "25\n"
     ]
    }
   ],
   "source": [
    "# map2.py\n",
    "\n",
    "\n",
    "# 生成一个迭代器,此迭代器可以生成\n",
    "#   1 ** 4   , 2**3  ,  3**2,  4 ** 1\n",
    "#      1         8        9      4\n",
    "for x in map(pow, [1, 2, 3, 4, 5, 6, 7], [4, 3, 2, 1,2]):\n",
    "    print(x)\n",
    "\n",
    "    "
   ]
  },
  {
   "cell_type": "markdown",
   "metadata": {},
   "source": [
    "## filter函数\n",
    "- 格式:\n",
    "    - filter(func, iterable)\n",
    "- 作用:\n",
    "    - 筛选可迭代对象iteralbe 中的数据,返回一个可迭代对象,此可迭代对象只返回iterable提供的数据中满足条件的数据\n",
    "- 参数:\n",
    "    - func 含有一个形参的数据处理函数,此函数传入的值为iterable中提供的数据,返回True,则保留此数据,返回False则将此数据丢弃\n",
    "    - iterable为可迭代对象,此可迭代对象提供的数据将传入func判断后决定是否提供给调用者\n",
    "\n",
    "\n",
    "\n"
   ]
  },
  {
   "cell_type": "code",
   "execution_count": 26,
   "metadata": {},
   "outputs": [
    {
     "name": "stdout",
     "output_type": "stream",
     "text": [
      "L2= [1, 5, 1, 3, 9]\n",
      "L3= [1, 5, 1, 3, 9]\n",
      "L4= [1, 5, 1, 3, 9]\n"
     ]
    }
   ],
   "source": [
    "# filter.py\n",
    "\n",
    "# 把一个可迭代对象中的所有奇数放在一个列表内\n",
    "L = [1, 2, 6, 8, 5, 4, 2, 1, 3, 6, 8, 9]\n",
    "\n",
    "def isodd(x):\n",
    "    '''如果x为奇数返回True,否则返回False'''\n",
    "    return x % 2 == 1\n",
    "\n",
    "L2 = []\n",
    "for x in filter(isodd, L):\n",
    "    # print(x)\n",
    "    L2.append(x)\n",
    "print(\"L2=\", L2)\n",
    "\n",
    "L3 = [x for x in filter(isodd, L)]\n",
    "print(\"L3=\", L3)\n",
    "\n",
    "L4 = list(filter(isodd, L))\n",
    "print(\"L4=\", L4)"
   ]
  },
  {
   "cell_type": "markdown",
   "metadata": {},
   "source": [
    "## sorted 函数\n",
    "- 作用:\n",
    "    - 将原可迭代对象的数据进行排序,生成排序后的列表\n",
    "- 格式:\n",
    "    - sorted(iterable, key=None, reverse=False)\n",
    "- 参数说明:\n",
    "    - iterable   可迭代对象\n",
    "    - key 函数,用来提供一个值,这个值将作为排序的依据\n",
    "    - reverse 标志用来设置是否降序排序(默认为升序排序)\n"
   ]
  },
  {
   "cell_type": "code",
   "execution_count": 33,
   "metadata": {},
   "outputs": [
    {
     "name": "stdout",
     "output_type": "stream",
     "text": [
      "x= -5\n",
      "x= -2\n",
      "x= -4\n",
      "x= 0\n",
      "x= 3\n",
      "x= 1\n",
      "L6= [0, 1, -2, 3, -4, -5]\n"
     ]
    }
   ],
   "source": [
    "L = [-5, -2, -4, 0, 3, 1]\n",
    "\n",
    "def myabs(x):\n",
    "    print(\"x=\", x)\n",
    "    if x < 0:\n",
    "        return -x\n",
    "    else:\n",
    "        return x\n",
    "\n",
    "L6 = sorted(L, key=myabs)\n",
    "print(\"L6=\", L6)"
   ]
  }
 ],
 "metadata": {
  "kernelspec": {
   "display_name": "Python 3",
   "language": "python",
   "name": "python3"
  },
  "language_info": {
   "codemirror_mode": {
    "name": "ipython",
    "version": 3
   },
   "file_extension": ".py",
   "mimetype": "text/x-python",
   "name": "python",
   "nbconvert_exporter": "python",
   "pygments_lexer": "ipython3",
   "version": "3.7.1"
  }
 },
 "nbformat": 4,
 "nbformat_minor": 2
}
