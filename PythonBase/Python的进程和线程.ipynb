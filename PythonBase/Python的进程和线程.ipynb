{
 "cells": [
  {
   "cell_type": "markdown",
   "metadata": {},
   "source": [
    "## 进程线程\n"
   ]
  },
  {
   "cell_type": "markdown",
   "metadata": {},
   "source": [
    "一. fork()创建子进程特点\n",
    "    1. 子进程会复制父进程全部的内存空间和代码段\n",
    "    2. 子进程会从fork的下一句开始执行\n",
    "    3. if...elif...else结构正是根据父子进程fork的返回值不同让父子进程执行不同的内容，几乎是fork的固    定搭配\n",
    "    4. 父子进程运行互不影响，使用同一个终端，运行顺序不定\n",
    "    5. 子进程有自己特有的PID，PCB，命令集等\n",
    "    6. 进入阻塞状态的进程一定会让出cpu时间片\n",
    "    7. 子进程连同fork之前开辟的空间也会复制。但是父子进程各自空间独立，操作各自空间内容，互不影响\n",
    "\n",
    "二、进程相关函数使用\n",
    "    \n",
    "    os.getpid()\n",
    "    功能： 获取当前进程的PID号\n",
    "    返回值： 返回PID号\n",
    "\n",
    "    os.getppid()\n",
    "    功能: 获取父进程的PID号\n",
    "    返回值：返回 父进程PID号\n",
    "\n",
    "    os._exit(status)\n",
    "    功能： 退出一个进程\n",
    "    参数： 表示进程退出状态 \n",
    "\n",
    "    sys.exit([status])\n",
    "    功能： 退出一个进程\n",
    "    参数： 默认为0 整数表示进程退出状态 \n",
    "           字符串 则在进程退出时打印该字符串\n",
    "\n",
    "二、进程相关函数使用\n",
    "    \n",
    "    os.getpid()\n",
    "    功能： 获取当前进程的PID号\n",
    "    返回值： 返回PID号\n",
    "\n",
    "    os.getppid()\n",
    "    功能: 获取父进程的PID号\n",
    "    返回值：返回 父进程PID号\n",
    "\n",
    "    os._exit(status)\n",
    "    功能： 退出一个进程\n",
    "    参数： 表示进程退出状态 \n",
    "\n",
    "    sys.exit([status])\n",
    "    功能： 退出一个进程\n",
    "    参数： 默认为0 整数表示进程退出状态 \n",
    "           字符串 则在进程退出时打印该字符串\n"
   ]
  },
  {
   "cell_type": "code",
   "execution_count": null,
   "metadata": {},
   "outputs": [],
   "source": [
    "# 最简单的进程创建方法\n",
    "import os\n",
    "from time import sleep \n",
    "\n",
    "pid = os.fork()\n",
    "\n",
    "if pid < 0:\n",
    "    print(\"Create process error\")\n",
    "elif pid == 0:\n",
    "    sleep(2)\n",
    "    print(\"New process\")\n",
    "else:\n",
    "    sleep(3)\n",
    "    print(\"The old process\")\n",
    "\n",
    "print(\"fork test end...\")"
   ]
  },
  {
   "cell_type": "code",
   "execution_count": null,
   "metadata": {},
   "outputs": [],
   "source": [
    "# 主进程等待子进程结束后退出\n",
    "import os \n",
    "from time import sleep \n",
    "\n",
    "pid = os.fork()\n",
    "\n",
    "if pid < 0:\n",
    "    print(\"Create process failed\")\n",
    "elif pid == 0:\n",
    "    sleep(3)\n",
    "    print(\"Child %d process exit\"%os.getpid())\n",
    "    os._exit(3)\n",
    "else:\n",
    "    #阻塞等待处理子进程退出\n",
    "    pid,status = os.wait()\n",
    "    print(\"pid:\",pid) #退出的子进程PID\n",
    "    print(\"status:\",os.WEXITSTATUS(status)) #子进程退出状态\n",
    "    print(\"Parent process...\")\n",
    "    while True:\n",
    "        pass "
   ]
  },
  {
   "cell_type": "markdown",
   "metadata": {},
   "source": [
    "## Python创建进程"
   ]
  },
  {
   "cell_type": "code",
   "execution_count": 2,
   "metadata": {},
   "outputs": [
    {
     "name": "stdout",
     "output_type": "stream",
     "text": [
      "I'm Levi\n",
      "I'm working...\n",
      "I'm Levi\n",
      "I'm working...\n",
      "I'm Levi\n",
      "I'm working...\n"
     ]
    }
   ],
   "source": [
    "from multiprocessing import Process \n",
    "from time import sleep \n",
    "\n",
    "#带参数的进程函数\n",
    "def worker(sec,name):\n",
    "    for i in range(3):\n",
    "        sleep(sec)\n",
    "        print(\"I'm %s\"%name)\n",
    "        print(\"I'm working...\")\n",
    "\n",
    "# 按照位置传递参数\n",
    "# p = Process(target=worker,args=(2,'Levi'))\n",
    "\n",
    "# 按照键的名称传递参数\n",
    "p = Process(target = worker,args = (2,),\\\n",
    "kwargs = {'name':\"Levi\"})\n",
    "\n",
    "p.start()\n",
    "p.join()"
   ]
  },
  {
   "cell_type": "code",
   "execution_count": 3,
   "metadata": {},
   "outputs": [
    {
     "name": "stdout",
     "output_type": "stream",
     "text": [
      "The time is Sun Jul 21 20:11:46 2019\n",
      "The time is Sun Jul 21 20:11:48 2019\n",
      "The time is Sun Jul 21 20:11:50 2019\n",
      "The time is Sun Jul 21 20:11:52 2019\n",
      "The time is Sun Jul 21 20:11:54 2019\n"
     ]
    }
   ],
   "source": [
    "# 自定义进程类\n",
    "from multiprocessing import Process \n",
    "import time \n",
    "\n",
    "class ClockProcess(Process):\n",
    "    def __init__(self,value):\n",
    "        self.value = value\n",
    "        super().__init__()\n",
    "\n",
    "    # def funcname(self, parameter_list):\n",
    "    #     pass\n",
    "\n",
    "    #重写run方法\n",
    "    def run(self):\n",
    "        for i in range(5):\n",
    "            print(\"The time is\",time.ctime())\n",
    "            time.sleep(self.value)\n",
    "\n",
    "#创建自定义类进程对象\n",
    "p = ClockProcess(2)\n",
    "p.start()  #自动调用run\n",
    "p.join()"
   ]
  },
  {
   "cell_type": "markdown",
   "metadata": {},
   "source": [
    "## 进程池"
   ]
  },
  {
   "cell_type": "code",
   "execution_count": 5,
   "metadata": {},
   "outputs": [
    {
     "name": "stdout",
     "output_type": "stream",
     "text": [
      "hello 0\n",
      "hello 3\n",
      "hello 1\n",
      "hello 2\n",
      "hello 4\n",
      "hello 5\n",
      "hello 6\n",
      "hello 7\n",
      "hello 8\n",
      "hello 9\n",
      "Sun Jul 21 20:15:23 2019\n",
      "Sun Jul 21 20:15:23 2019\n",
      "Sun Jul 21 20:15:23 2019\n",
      "Sun Jul 21 20:15:23 2019\n",
      "Sun Jul 21 20:15:25 2019\n",
      "Sun Jul 21 20:15:25 2019\n",
      "Sun Jul 21 20:15:25 2019\n",
      "Sun Jul 21 20:15:25 2019\n",
      "Sun Jul 21 20:15:27 2019\n",
      "Sun Jul 21 20:15:27 2019\n"
     ]
    }
   ],
   "source": [
    "from multiprocessing import Pool \n",
    "from time import sleep,ctime \n",
    "\n",
    "#事件函数\n",
    "def worker(msg):\n",
    "    sleep(2)\n",
    "    print(msg)\n",
    "    return ctime()\n",
    "\n",
    "#创建进程池\n",
    "pool = Pool(4)\n",
    "\n",
    "result = []\n",
    "\n",
    "#向进程池添加事件\n",
    "for i in range(10):\n",
    "    msg = \"hello %d\"%i\n",
    "\n",
    "    # 异步执行: 多个一同执行\n",
    "    r = pool.apply_async(func=worker,args=(msg,))\n",
    "    result.append(r)\n",
    "\n",
    "    # 同步执行: 一个一个执行\n",
    "    #pool.apply(func=worker,args=(msg,))\n",
    "\n",
    "#关闭进程池\n",
    "pool.close()\n",
    "#回收进程\n",
    "pool.join()\n",
    "\n",
    "for i in result:\n",
    "    print(i.get()) #可以获取进程事件函数返回值\n",
    "\n"
   ]
  },
  {
   "cell_type": "code",
   "execution_count": 4,
   "metadata": {},
   "outputs": [
    {
     "name": "stdout",
     "output_type": "stream",
     "text": [
      "[1, 4, 9, 16, 25]\n"
     ]
    }
   ],
   "source": [
    "from multiprocessing import Pool \n",
    "import time \n",
    "\n",
    "def fun(n):\n",
    "    time.sleep(1)\n",
    "    return n ** 2\n",
    "\n",
    "pool = Pool()\n",
    "\n",
    "#使用map将事件放入进程池\n",
    "r = pool.map(fun,[1,2,3,4,5])\n",
    "pool.close()\n",
    "pool.join()\n",
    "print(r)"
   ]
  },
  {
   "cell_type": "markdown",
   "metadata": {},
   "source": [
    "## 进程间通信"
   ]
  },
  {
   "cell_type": "markdown",
   "metadata": {},
   "source": [
    "### 管道通信"
   ]
  },
  {
   "cell_type": "code",
   "execution_count": 8,
   "metadata": {},
   "outputs": [
    {
     "name": "stdout",
     "output_type": "stream",
     "text": [
      "[<Process(Process-21, started)>, <Process(Process-22, started)>, <Process(Process-23, started)>, <Process(Process-24, started)>, <Process(Process-25, started)>]\n",
      "[1, 2, 3, 4, 5]\n",
      "[1, 2, 3, 4, 5]\n",
      "[1, 2, 3, 4, 5]\n",
      "[1, 2, 3, 4, 5]\n",
      "[1, 2, 3, 4, 5]\n"
     ]
    }
   ],
   "source": [
    "from multiprocessing import Process,Pipe \n",
    "import os,time \n",
    "\n",
    "#创建管道对象\n",
    "# fd1 --> 只读 recv\n",
    "# fd2 --> 只写 send\n",
    "fd1,fd2 = Pipe(False)\n",
    "\n",
    "def fun(name):\n",
    "    time.sleep(3)\n",
    "    fd2.send([1,2,3,4,5])\n",
    "\n",
    "jobs = []\n",
    "for i in range(5):\n",
    "    p = Process(target = fun,args = (i,))\n",
    "    jobs.append(p)\n",
    "    p.start()\n",
    "print(jobs)\n",
    "#父进程从管道读取消息\n",
    "for i in range(5):\n",
    "    data = fd1.recv()\n",
    "    print(data)\n",
    "\n",
    "for i in jobs:\n",
    "    i.join()\n"
   ]
  },
  {
   "cell_type": "markdown",
   "metadata": {},
   "source": [
    "## 消息列队"
   ]
  },
  {
   "cell_type": "code",
   "execution_count": 10,
   "metadata": {},
   "outputs": [
    {
     "name": "stdout",
     "output_type": "stream",
     "text": [
      "sum =  12\n",
      "sum =  12\n",
      "sum =  12\n"
     ]
    }
   ],
   "source": [
    "from multiprocessing import Process,Queue\n",
    "import time \n",
    "\n",
    "#创建消息队列\n",
    "q = Queue()\n",
    "\n",
    "def fun1():\n",
    "    for i in range(5):\n",
    "        time.sleep(1)\n",
    "        q.put((10,2))  #存储消息\n",
    "\n",
    "def fun2():\n",
    "    for i in range(3):\n",
    "        time.sleep(1.5)\n",
    "        a,b = q.get() #取出消息\n",
    "        print(\"sum = \",a + b)\n",
    "\n",
    "p1 = Process(target = fun1)\n",
    "p2 = Process(target = fun2)\n",
    "p1.start()\n",
    "p2.start()\n",
    "p1.join()\n",
    "p2.join()"
   ]
  },
  {
   "cell_type": "markdown",
   "metadata": {},
   "source": [
    "## 共享内存"
   ]
  },
  {
   "cell_type": "code",
   "execution_count": 14,
   "metadata": {},
   "outputs": [
    {
     "name": "stdout",
     "output_type": "stream",
     "text": [
      "b'H' fun\n",
      "b'e' fun\n",
      "b'l' fun\n",
      "b'l' fun\n",
      "b'o' fun\n",
      "b'h' shm\n",
      "b'e' shm\n",
      "b'l' shm\n",
      "b'l' shm\n",
      "b'o' shm\n",
      "b'hello' value\n"
     ]
    }
   ],
   "source": [
    "from multiprocessing import Process,Array \n",
    "import time \n",
    "\n",
    "\n",
    "\n",
    "\n",
    "#创建共享内存\n",
    "# shm = Array('i',[1,2,3,4])\n",
    "\n",
    "#开辟5个int空间\n",
    "# shm = Array('i',5)\n",
    "\n",
    "#存入字符串\n",
    "shm = Array('c',b'Hello')\n",
    "\n",
    "\n",
    "def fun():\n",
    "    for i in shm:\n",
    "        print(i,'fun')\n",
    "    shm[0] = b'h' #修改共享内存\n",
    "\n",
    "p = Process(target = fun)\n",
    "p.start()\n",
    "p.join()\n",
    "\n",
    "for i in shm:\n",
    "    print(i,'shm')\n",
    "\n",
    "print(shm.value,'value') #打印字符串\n"
   ]
  },
  {
   "cell_type": "markdown",
   "metadata": {},
   "source": [
    "## 信号量"
   ]
  },
  {
   "cell_type": "code",
   "execution_count": 15,
   "metadata": {},
   "outputs": [
    {
     "name": "stdout",
     "output_type": "stream",
     "text": [
      "26765 想执行事件\n",
      "26765 执行事件......\n",
      "26768 想执行事件\n",
      "26768 执行事件......\n",
      "26771 想执行事件\n",
      "26772 想执行事件\n",
      "26775 想执行事件\n",
      "26771 执行事件......\n",
      "26765 执行完毕\n",
      "26772 执行事件......\n",
      "26768 执行完毕\n",
      "26775 执行事件......\n",
      "26771 执行完毕\n",
      "26772 执行完毕\n",
      "26775 执行完毕\n",
      "Sem: 3\n"
     ]
    }
   ],
   "source": [
    "from multiprocessing import Process,Semaphore \n",
    "from time import sleep \n",
    "import os \n",
    "\n",
    "#创建信号量\n",
    "sem = Semaphore(3)\n",
    "\n",
    "def fun():\n",
    "    print(\"%d 想执行事件\"%os.getpid())\n",
    "    #消耗一个信号量\n",
    "    sem.acquire()\n",
    "    print(\"%d 执行事件......\"%os.getpid())\n",
    "    sleep(3)\n",
    "    print(\"%d 执行完毕\"%os.getpid())\n",
    "    sem.release() #执行完成后添加一个信号量\n",
    "\n",
    "jobs = []\n",
    "#5个进程想执行事件\n",
    "for i in range(5):\n",
    "    p = Process(target = fun)\n",
    "    jobs.append(p)\n",
    "    p.start()\n",
    "\n",
    "for i in jobs:\n",
    "    i.join()\n",
    "\n",
    "print(\"Sem:\",sem.get_value()) #最后剩3个"
   ]
  },
  {
   "cell_type": "markdown",
   "metadata": {},
   "source": [
    "## 线程"
   ]
  },
  {
   "cell_type": "code",
   "execution_count": null,
   "metadata": {},
   "outputs": [],
   "source": [
    "from threading import Thread \n",
    "from time import sleep \n",
    "\n",
    "#线程函数\n",
    "def fun(sec,name):\n",
    "    print(\"线程函数传参\")\n",
    "    sleep(sec)\n",
    "    print(\"%s线程执行完毕\"%name)\n",
    "\n",
    "#创建多个线程\n",
    "thread = []\n",
    "for i in range(3):\n",
    "    t = Thread(target=fun,args=(2,),\\\n",
    "    kwargs={'name':\"t%d\"%i})\n",
    "    thread.append(t)\n",
    "    t.start()\n",
    "\n",
    "for i in thread:\n",
    "    i.join()\n"
   ]
  },
  {
   "cell_type": "code",
   "execution_count": null,
   "metadata": {},
   "outputs": [],
   "source": [
    "from threading import Thread,currentThread \n",
    "from time import sleep \n",
    "\n",
    "def fun():\n",
    "    print(\"当前线程:\",currentThread().getName())\n",
    "    sleep(3)\n",
    "    print(\"线程属性示例\")\n",
    "\n",
    "#创建线程对象\n",
    "t = Thread(target=fun,name=\"Tedu\")\n",
    "\n",
    "#设置daemon\n",
    "t.setDaemon(True)\n",
    "print(\"Daemon:\",t.isDaemon())\n",
    "\n",
    "t.start()\n",
    "\n",
    "#线程名称\n",
    "t.setName(\"tarena\")\n",
    "# print(\"name:\",t.name)\n",
    "print(\"name:\",t.getName())\n",
    "\n",
    "#线程状态\n",
    "print(\"Is alive:\",t.is_alive())\n",
    "\n",
    "# t.join()\n"
   ]
  },
  {
   "cell_type": "markdown",
   "metadata": {},
   "source": [
    "## 线程事件"
   ]
  },
  {
   "cell_type": "code",
   "execution_count": null,
   "metadata": {},
   "outputs": [],
   "source": [
    "from threading import Thread,Event \n",
    "from time import sleep \n",
    "\n",
    "s = None  #设置为通信变量\n",
    "e = Event()\n",
    "\n",
    "def bar():\n",
    "    print(\"Bar 拜山头\")\n",
    "    sleep(1)\n",
    "    global s \n",
    "    s = \"天王盖地虎\"\n",
    "    e.set()\n",
    "\n",
    "b = Thread(target=bar)\n",
    "b.start()\n",
    "\n",
    "print(\"说对口令就是自己人\")\n",
    "e.wait() #阻塞等待,分支线程set\n",
    "if s == \"天王盖地虎\":\n",
    "    print(\"确认过眼神,你是对的人\")\n",
    "else:\n",
    "    print(\"打死他\")\n",
    "\n",
    "b.join()"
   ]
  },
  {
   "cell_type": "markdown",
   "metadata": {},
   "source": [
    "## 线程锁"
   ]
  },
  {
   "cell_type": "code",
   "execution_count": null,
   "metadata": {},
   "outputs": [],
   "source": [
    "from threading import Thread,Lock \n",
    "\n",
    "a = b = 0\n",
    "lock = Lock()\n",
    "\n",
    "def value():\n",
    "    while True:\n",
    "        lock.acquire() #加锁\n",
    "        if a != b:\n",
    "            print(\"a = %d,b = %d\"%(a,b))\n",
    "        lock.release() #解锁\n",
    "\n",
    "t = Thread(target = value)\n",
    "t.start()\n",
    "\n",
    "while True:\n",
    "    with lock:   #加锁\n",
    "        a += 1\n",
    "        b += 1\n",
    "\n",
    "t.join()"
   ]
  },
  {
   "cell_type": "markdown",
   "metadata": {},
   "source": [
    "## 封装线程类"
   ]
  },
  {
   "cell_type": "code",
   "execution_count": null,
   "metadata": {},
   "outputs": [],
   "source": [
    "from threading import Thread \n",
    "from time import sleep,ctime \n",
    "\n",
    "#自定义线程类\n",
    "class MyThread(Thread):\n",
    "    def __init__(self,target,args=(),kwargs={},\\\n",
    "    name='Tedu'):\n",
    "        super().__init__()\n",
    "        self.target = target \n",
    "        self.args = args\n",
    "        self.kwargs = kwargs\n",
    "        self.name = name \n",
    "    \n",
    "    def run(self):\n",
    "        self.target(*self.args,**self.kwargs)\n",
    "\n",
    "#测试函数\n",
    "def player(sec,song):\n",
    "    for i in range(2):\n",
    "        print(\"Playing %s:%s\"%(song,ctime()))\n",
    "        sleep(sec)\n",
    "\n",
    "t = MyThread(target=player,args=(3,),\\\n",
    "kwargs={'song':'凉凉'},name='Tedu')\n",
    "t.start()\n",
    "t.join()\n",
    "\n"
   ]
  }
 ],
 "metadata": {
  "kernelspec": {
   "display_name": "Python 3",
   "language": "python",
   "name": "python3"
  },
  "language_info": {
   "codemirror_mode": {
    "name": "ipython",
    "version": 3
   },
   "file_extension": ".py",
   "mimetype": "text/x-python",
   "name": "python",
   "nbconvert_exporter": "python",
   "pygments_lexer": "ipython3",
   "version": "3.7.1"
  }
 },
 "nbformat": 4,
 "nbformat_minor": 2
}
