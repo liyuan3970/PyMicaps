{
 "cells": [
  {
   "cell_type": "markdown",
   "metadata": {},
   "source": [
    "## 闭包\n",
    "\n",
    "### 函数的基本调用与作用阈"
   ]
  },
  {
   "cell_type": "code",
   "execution_count": 1,
   "metadata": {},
   "outputs": [
    {
     "name": "stdout",
     "output_type": "stream",
     "text": [
      "---in test1 func---\n",
      "139875426321544\n",
      "139875426321544\n",
      "---in test1 func---\n"
     ]
    }
   ],
   "source": [
    "def test1():\n",
    "    print(\"---in test1 func---\")\n",
    "    \n",
    "#调用函数\n",
    "test1()\n",
    "\n",
    "#引用函数\n",
    "ret=test1\n",
    "\n",
    "print(id(ret))\n",
    "print(id(test1))\n",
    "\n",
    "#通过引用调用函数\n",
    "ret()"
   ]
  },
  {
   "cell_type": "markdown",
   "metadata": {},
   "source": [
    "## 闭包的解释"
   ]
  },
  {
   "cell_type": "markdown",
   "metadata": {},
   "source": [
    "#### 闭包的定义\n",
    "在计算机科学中，闭包（英语：Closure），又称词法闭包（Lexical Closure）或函数闭包（function closures），是引用了自由变量的函数。这个被引用的自由变量将和这个函数一同存在，即使已经离开了创造它的环境也不例外。所以，有另一种说法认为闭包是由函数和与其相关的引用环境组合而成的实体。闭包在运行时可以有多个实例，不同的引用环境和相同的函数组合可以产生不同的实例"
   ]
  },
  {
   "cell_type": "code",
   "execution_count": 6,
   "metadata": {},
   "outputs": [
    {
     "name": "stdout",
     "output_type": "stream",
     "text": [
      "in test_in 函数，number_in is 100\n",
      "110\n",
      "in test_in 函数，number_in is 200\n",
      "210\n"
     ]
    }
   ],
   "source": [
    "#定义一个函数\n",
    "def test(number):\n",
    "    \n",
    "    #在函数内部在定义一个函数，并且这个函数用到了外边函数的变量，那么将这个函数称为闭包\n",
    "    def test_in(number_in):\n",
    "        print(\"in test_in 函数，number_in is %d\"%number_in)\n",
    "        return number+number_in\n",
    "    return test_in\n",
    "\n",
    "#给test函数赋值，这个10就是给参数number    \n",
    "ret=test(10)\n",
    "\n",
    "#注意这里的100其实给参数number_in\n",
    "print(ret(100))\n",
    "\n",
    "#注意这里的200其实给参数number_in\n",
    "print(ret(200))"
   ]
  },
  {
   "cell_type": "markdown",
   "metadata": {},
   "source": [
    "## 闭包的应用"
   ]
  },
  {
   "cell_type": "markdown",
   "metadata": {},
   "source": [
    "```python\n",
    "#闭包的一般表现形式\n",
    "\n",
    "def funout(pram1,parm2):     #糖衣函数，对变量进行初始化\n",
    "    def funin(pram4,pram5):　#工程函数，干活的，对所给的参数进行加工　\n",
    "        a= parm1*parm4+parm2*parm5\n",
    "        return (a)\n",
    "    return funin\n",
    "\n",
    "\n",
    "#闭包的使用方法\n",
    "\n",
    "#1.给闭包赋予初始值\n",
    "res = funout(1,2)\n",
    "\n",
    "```"
   ]
  },
  {
   "cell_type": "code",
   "execution_count": 13,
   "metadata": {},
   "outputs": [
    {
     "name": "stdout",
     "output_type": "stream",
     "text": [
      "7\n",
      "22\n"
     ]
    }
   ],
   "source": [
    "\n",
    "\n",
    "\n",
    "def line_conf(a,b):\n",
    "    def line(x):\n",
    "        return a*x+b\n",
    "    return line\n",
    "\n",
    "\n",
    "line1=line_conf(1,2)\n",
    "line2=line_conf(3,4)\n",
    "print(line1(5))\n",
    "print(line2(6))\n"
   ]
  },
  {
   "cell_type": "markdown",
   "metadata": {},
   "source": [
    "## 装饰器"
   ]
  },
  {
   "cell_type": "code",
   "execution_count": 25,
   "metadata": {},
   "outputs": [
    {
     "name": "stdout",
     "output_type": "stream",
     "text": [
      "<b>hello world-1</b>\n"
     ]
    }
   ],
   "source": [
    "#定义函数：完成数据包裹\n",
    "def makeBold(fn):\n",
    "    def wrapped():\n",
    "        return \"<b>\"+fn()+\"</b>\"\n",
    "    return wrapped\n",
    "\n",
    "#定义函数：完成数据包裹\n",
    "def makeItalic(fn):\n",
    "    def wrapped():\n",
    "        print(a)\n",
    "        return \"<i>\"+fn()+\"</i>\"\n",
    "    return wrapped\n",
    "# 这一步等价于makeBold(test1)\n",
    "# ａ=makeBold(test1)\n",
    "# a()\n",
    "@makeBold \n",
    "def test1():\n",
    "    return \"hello world-1\"\n",
    "\n",
    "# @makeItalic\n",
    "# def test2():\n",
    "#     return \"hello world-2\"\n",
    "\n",
    "# @makeBold\n",
    "# @makeItalic\n",
    "# def test3():\n",
    "#     return \"hello world-3\"\n",
    "\n",
    "print(test1())\n",
    "# print(test2())\n",
    "# print(test3())\n",
    "# ａ=makeBold(test1)\n",
    "# a()\n"
   ]
  },
  {
   "cell_type": "markdown",
   "metadata": {},
   "source": [
    "## 被装饰的函数有参数"
   ]
  },
  {
   "cell_type": "code",
   "execution_count": 26,
   "metadata": {},
   "outputs": [
    {
     "name": "stdout",
     "output_type": "stream",
     "text": [
      "foo called at Wed Jul 17 22:09:35 2019\n",
      "2 8\n",
      "10\n",
      "foo called at Wed Jul 17 22:09:37 2019\n",
      "4 6\n",
      "10\n"
     ]
    }
   ],
   "source": [
    "from time import ctime,sleep\n",
    "\n",
    "def timefun(func):\n",
    "    def wrappedfunc(a,b):\n",
    "        print(\"%s called at %s\"%(func.__name__,ctime()))\n",
    "        print(a,b)\n",
    "        func(a,b)\n",
    "    return wrappedfunc\n",
    "\n",
    "@timefun\n",
    "def foo(a,b):\n",
    "    print(a+b)\n",
    "    \n",
    "    \n",
    "foo(2,8)\n",
    "sleep(2)\n",
    "foo(4,6)"
   ]
  },
  {
   "cell_type": "markdown",
   "metadata": {},
   "source": [
    "## 不定参数的装饰器"
   ]
  },
  {
   "cell_type": "code",
   "execution_count": 30,
   "metadata": {},
   "outputs": [
    {
     "name": "stdout",
     "output_type": "stream",
     "text": [
      "foo called at Wed Jul 17 22:13:14 2019\n",
      "9\n",
      "foo called at Wed Jul 17 22:13:16 2019\n",
      "12\n"
     ]
    }
   ],
   "source": [
    "from time import ctime,sleep\n",
    "\n",
    "def timefun(func):\n",
    "    def wrappedfunc(*args,**kwargs):\n",
    "        print(\"%s called at %s\"%(func.__name__,ctime()))\n",
    "        func(*args,**kwargs)\n",
    "    return wrappedfunc\n",
    "\n",
    "@timefun\n",
    "def foo(a,b,c):\n",
    "    print(a+b+c)\n",
    "    \n",
    "foo(1,3,5)\n",
    "sleep(2)\n",
    "foo(2,4,6)\n"
   ]
  },
  {
   "cell_type": "markdown",
   "metadata": {},
   "source": [
    "## 装饰器中有return"
   ]
  },
  {
   "cell_type": "code",
   "execution_count": 33,
   "metadata": {},
   "outputs": [
    {
     "name": "stdout",
     "output_type": "stream",
     "text": [
      "foo called at Wed Jul 17 22:14:58 2019\n",
      "I am foo\n",
      "foo called at Wed Jul 17 22:15:00 2019\n",
      "I am foo\n",
      "getInfo called at Wed Jul 17 22:15:00 2019\n",
      "---hello---\n"
     ]
    }
   ],
   "source": [
    "def timefun(func):\n",
    "    def wrappedfunc():\n",
    "        print(\"%s called at %s\"%(func.__name__,ctime()))\n",
    "        ret=func()  #保存返回来的hello\n",
    "        return ret   #把hello返回给调用函数\n",
    "    return wrappedfunc\n",
    "\n",
    "@timefun\n",
    "def foo():\n",
    "    print('I am foo')\n",
    "    \n",
    "@timefun\n",
    "def getInfo():\n",
    "    return '---hello---'\n",
    "\n",
    "foo()\n",
    "sleep(2)\n",
    "foo()\n",
    "\n",
    "\n",
    "print(getInfo())"
   ]
  },
  {
   "cell_type": "markdown",
   "metadata": {},
   "source": [
    "## 装饰器带参数，在原有装饰器的基础上，设置外部变量"
   ]
  },
  {
   "cell_type": "code",
   "execution_count": 34,
   "metadata": {},
   "outputs": [
    {
     "name": "stdout",
     "output_type": "stream",
     "text": [
      "foo called at Wed Jul 17 22:17:22 2019 itcast\n",
      "I am foo\n",
      "foo called at Wed Jul 17 22:17:24 2019 itcast\n",
      "I am foo\n",
      "too called at Wed Jul 17 22:17:24 2019 python\n",
      "I am too\n",
      "too called at Wed Jul 17 22:17:26 2019 python\n",
      "I am too\n"
     ]
    }
   ],
   "source": [
    "from time import ctime, sleep\n",
    "\n",
    "def timefun_arg(pre=\"hello\"):\n",
    "    def timefun(func):\n",
    "        def wrappedfunc():\n",
    "            print(\"%s called at %s %s\"%(func.__name__, ctime(), pre))\n",
    "            return func()\n",
    "        return wrappedfunc\n",
    "    return timefun\n",
    "\n",
    "@timefun_arg(\"itcast\")\n",
    "def foo():\n",
    "    print(\"I am foo\")\n",
    "\n",
    "@timefun_arg(\"python\")\n",
    "def too():\n",
    "    print(\"I am too\")\n",
    "\n",
    "foo()\n",
    "sleep(2)\n",
    "foo()\n",
    "\n",
    "too()\n",
    "sleep(2)\n",
    "too()"
   ]
  }
 ],
 "metadata": {
  "kernelspec": {
   "display_name": "Python 3",
   "language": "python",
   "name": "python3"
  },
  "language_info": {
   "codemirror_mode": {
    "name": "ipython",
    "version": 3
   },
   "file_extension": ".py",
   "mimetype": "text/x-python",
   "name": "python",
   "nbconvert_exporter": "python",
   "pygments_lexer": "ipython3",
   "version": "3.7.1"
  }
 },
 "nbformat": 4,
 "nbformat_minor": 2
}
