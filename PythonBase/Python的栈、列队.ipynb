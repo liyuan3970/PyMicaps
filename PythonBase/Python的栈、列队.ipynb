{
 "cells": [
  {
   "cell_type": "markdown",
   "metadata": {},
   "source": [
    "### Python的列表作为存储实现一个栈"
   ]
  },
  {
   "cell_type": "code",
   "execution_count": 1,
   "metadata": {},
   "outputs": [],
   "source": [
    "class ArrayStack:\n",
    "    '''LIFO　Stack implementation using a Python list as underlying storage.'''\n",
    "    def __init__(self):\n",
    "        '''Create an empty stack.'''\n",
    "        self._data = []\n",
    "    def __len__(self):\n",
    "        '''Return the number of elements in the stack.'''\n",
    "        return len(self._data)\n",
    "    def is_empty(self):\n",
    "        '''Return True if the stack is empty '''\n",
    "        return len(self._data)\n",
    "    def push(self,e):\n",
    "        '''Add element e to the top of the stack.'''\n",
    "        self._data.append(e)\n",
    "    def top(self):\n",
    "        '''Return the element at the top of the stack'''\n",
    "        if self.is_empty():\n",
    "            raise Empty('Stack is empty ')\n",
    "        return self._data[-1]\n",
    "    def pop(self):\n",
    "        '''Remove and return the element from the top of the stack.'''\n",
    "        if self.is_empty():\n",
    "            raise Empty('Stack is empty')\n",
    "        return self._data.pop()"
   ]
  },
  {
   "cell_type": "code",
   "execution_count": 2,
   "metadata": {},
   "outputs": [
    {
     "ename": "NameError",
     "evalue": "name 'filename' is not defined",
     "output_type": "error",
     "traceback": [
      "\u001b[0;31m---------------------------------------------------------------------------\u001b[0m",
      "\u001b[0;31mNameError\u001b[0m                                 Traceback (most recent call last)",
      "\u001b[0;32m<ipython-input-2-c71add26d300>\u001b[0m in \u001b[0;36m<module>\u001b[0;34m\u001b[0m\n\u001b[1;32m      8\u001b[0m     \u001b[0moriginal\u001b[0m\u001b[0;34m.\u001b[0m\u001b[0mclose\u001b[0m\u001b[0;34m(\u001b[0m\u001b[0;34m)\u001b[0m\u001b[0;34m\u001b[0m\u001b[0;34m\u001b[0m\u001b[0m\n\u001b[1;32m      9\u001b[0m \u001b[0;34m\u001b[0m\u001b[0m\n\u001b[0;32m---> 10\u001b[0;31m \u001b[0moutput\u001b[0m \u001b[0;34m=\u001b[0m \u001b[0mopen\u001b[0m\u001b[0;34m(\u001b[0m\u001b[0mfilename\u001b[0m\u001b[0;34m,\u001b[0m\u001b[0;34m'w'\u001b[0m\u001b[0;34m)\u001b[0m\u001b[0;34m\u001b[0m\u001b[0;34m\u001b[0m\u001b[0m\n\u001b[0m\u001b[1;32m     11\u001b[0m \u001b[0;32mwhile\u001b[0m \u001b[0;32mnot\u001b[0m \u001b[0mS\u001b[0m\u001b[0;34m.\u001b[0m\u001b[0mis_empty\u001b[0m\u001b[0;34m(\u001b[0m\u001b[0;34m)\u001b[0m\u001b[0;34m:\u001b[0m\u001b[0;34m\u001b[0m\u001b[0;34m\u001b[0m\u001b[0m\n\u001b[1;32m     12\u001b[0m     \u001b[0moutput\u001b[0m\u001b[0;34m.\u001b[0m\u001b[0mwrite\u001b[0m\u001b[0;34m(\u001b[0m\u001b[0mS\u001b[0m\u001b[0;34m.\u001b[0m\u001b[0mopo\u001b[0m\u001b[0;34m(\u001b[0m\u001b[0;34m)\u001b[0m\u001b[0;34m+\u001b[0m\u001b[0;34m'\\n'\u001b[0m\u001b[0;34m)\u001b[0m\u001b[0;34m\u001b[0m\u001b[0;34m\u001b[0m\u001b[0m\n",
      "\u001b[0;31mNameError\u001b[0m: name 'filename' is not defined"
     ]
    }
   ],
   "source": [
    "#基于上述类实现一个文件各行的逆置函数\n",
    "def reverse_file(filename):\n",
    "    '''Overwrite given file with its contents line-by-line reversed'''\n",
    "    S = ArrayStack()\n",
    "    original = open(filename)\n",
    "    for line in original:\n",
    "        S.push(line,rstrip('\\n'))\n",
    "    original.close()\n",
    "\n",
    "output = open(filename,'w')\n",
    "while not S.is_empty():\n",
    "    output.write(S.opo()+'\\n')\n",
    "output.close()"
   ]
  },
  {
   "cell_type": "code",
   "execution_count": 3,
   "metadata": {},
   "outputs": [],
   "source": [
    "def is_matched(expr):\n",
    "    '''Return True if all delimiters are properly match;False otherwise'''\n",
    "    lefty = '({['\n",
    "    righty = ')}]'\n",
    "    S =ArrayStack()\n",
    "    for c in expr:\n",
    "        if c in lefty:\n",
    "            S.push(c)\n",
    "        elif c in righty:\n",
    "            if S.is_empty():\n",
    "                return False\n",
    "            if righty.index(c)!=lefty.index(S.pop()):\n",
    "                return False\n",
    "    return S.is_empty()\n",
    "    "
   ]
  },
  {
   "cell_type": "markdown",
   "metadata": {},
   "source": [
    "### 测试一个HTML文本是否有匹配标签的函数"
   ]
  },
  {
   "cell_type": "code",
   "execution_count": 5,
   "metadata": {},
   "outputs": [],
   "source": [
    "def is_matched_html(raw):\n",
    "    '''Return True if all HTML tags are properly match False otherwaise'''\n",
    "    S = ArrayStack()\n",
    "    j = raw.find('<')\n",
    "    while j !=-1:\n",
    "        k = raw.find('>',j+1)\n",
    "        if k == -1:\n",
    "            return False\n",
    "        tag = raw[j+1:k]\n",
    "        if not tag.startswith('/'):\n",
    "            S.push(tag)\n",
    "        else:\n",
    "            if S.is_empty():\n",
    "                return False\n",
    "        if tag[1:]!=S.pop():\n",
    "            return False\n",
    "        j = raw.find('<',k+1)\n",
    "    return S.is_empty()\n",
    "    \n",
    "        "
   ]
  },
  {
   "cell_type": "markdown",
   "metadata": {},
   "source": [
    "### Python基于数组的列队的实现"
   ]
  },
  {
   "cell_type": "code",
   "execution_count": 6,
   "metadata": {},
   "outputs": [],
   "source": [
    "class ArrayQueue:\n",
    "    '''FIFO quque implementations using a Python list as underlying storage.'''\n",
    "    DEFAULT_CAPACITY = 10\n",
    "    def __init__(self):\n",
    "        '''Create an empty queue.'''\n",
    "        self._data = [None]*ArrayQueue.DEFAULT_CAPACITY\n",
    "        self._size = 0\n",
    "        self._front = 0\n",
    "    def __len__(self):\n",
    "        '''Return The number if elements in the queue'''\n",
    "        return self._size\n",
    "    def is_empty(self):\n",
    "        '''Return True if the queue is empyt .'''\n",
    "        return self._size == 0\n",
    "    def first(self):\n",
    "        '''Return the elements at the front if the queue'''\n",
    "        if self.is_empty():\n",
    "            raise Empty('Queu is empty')\n",
    "        return self._data[self._front]\n",
    "    def dequeue(self):\n",
    "        '''Remove and return the first element if the queue Raise Empty exception if the queue is empty'''\n",
    "        if self.is_empty():\n",
    "            raise Empty('Queue is empty ')\n",
    "        answer = self._data[self._front]\n",
    "        self._front = (self._front+1)%len(self._data)\n",
    "        self._size -=1\n",
    "        return answer\n",
    "        "
   ]
  },
  {
   "cell_type": "code",
   "execution_count": 7,
   "metadata": {},
   "outputs": [],
   "source": [
    "# 一个基于数组的列队的实现\n",
    "def enqueue(self,e):\n",
    "    '''Add an element to the back of the queue'''\n",
    "    if self._size == len(self._data):\n",
    "        self.raize(2*len(self._data))\n",
    "    avail = (self._front + self._size) % len(self._data)\n",
    "    self._size -=1\n",
    "    return answer\n",
    "def enqueue(self,cap):\n",
    "    '''Add an element to the back of queue'''\n",
    "    old = self._data\n",
    "    self._data = [None]*cap\n",
    "    walk = self._front\n",
    "    for k in range(self._size):\n",
    "        self._data[k] = old[walk]\n",
    "        walk = (1+walk)%len(old)\n",
    "    self._front = 0\n",
    "    "
   ]
  },
  {
   "cell_type": "code",
   "execution_count": null,
   "metadata": {},
   "outputs": [],
   "source": []
  }
 ],
 "metadata": {
  "kernelspec": {
   "display_name": "Python 3",
   "language": "python",
   "name": "python3"
  },
  "language_info": {
   "codemirror_mode": {
    "name": "ipython",
    "version": 3
   },
   "file_extension": ".py",
   "mimetype": "text/x-python",
   "name": "python",
   "nbconvert_exporter": "python",
   "pygments_lexer": "ipython3",
   "version": "3.7.1"
  }
 },
 "nbformat": 4,
 "nbformat_minor": 2
}
