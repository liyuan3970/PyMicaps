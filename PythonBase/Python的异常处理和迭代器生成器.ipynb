{
 "cells": [
  {
   "cell_type": "markdown",
   "metadata": {},
   "source": [
    "# 异常处理\n",
    "\n",
    "## 异常的类型\n",
    "\n",
    "错误类型|\t说明\n",
    "---|---\n",
    "ZeroDivisionError|\t除(或取模)零 (所有数据类型)\n",
    "ValueError\t|传入无效的参数\n",
    "AssertionError|\t断言语句失败\n",
    "StopIteration|\t迭代器没有更多的值\n",
    "IndexError|\t序列中没有此索引(index)\n",
    "IndentationError|\t缩进错误\n",
    "OSError\t|输入/输出操作失败\n",
    "ImportError|\t导入模块/对象失败\n",
    "NameError\t|未声明/初始化对象 (没有属性)\n",
    "AttributeError|\t对象没有这个属性\n",
    "GeneratorExit|\t生成器(generator)发生异常来通知退出\n",
    "TypeError\t|对类型无效的操作\n",
    "KeyboardInterrupt|\t用户中断执行(通常是输入^C)\n",
    "OverflowError|\t数值运算超出最大限制\n",
    "FloatingPointError\t|浮点计算错误\n",
    "BaseException|\t所有异常的基类\n",
    "SystemExit|\t解释器请求退出\n",
    "Exception|\t常规错误的基类\n",
    "StandardError|\t所有的内建标准异常的基类\n",
    "ArithmeticError|\t所有数值计算错误的基类\n",
    "EOFError\t|没有内建输入,到达EOF 标记\n",
    "EnvironmentError|\t操作系统错误的基类\n",
    "WindowsError\t|系统调用失败\n",
    "LookupError\t|无效数据查询的基类\n",
    "KeyError\t|映射中没有这个键\n",
    "MemoryError\t|内存溢出错误(对于Python 解释器不是致命的)\n",
    "UnboundLocalError\t|访问未初始化的本地变量\n",
    "ReferenceError|\t弱引用(Weak reference)试图访问已经垃圾回收了的对象\n",
    "RuntimeError|\t一般的运行时错误\n",
    "NotImplementedError\t|尚未实现的方法\n",
    "SyntaxError Python\t|语法错误\n",
    "TabError\t|Tab 和空格混用\n",
    "SystemError|\t一般的解释器系统错误\n",
    "UnicodeError\t|Unicode 相关的错误\n",
    "UnicodeDecodeError\t|Unicode 解码时的错误\n",
    "UnicodeEncodeError\t|Unicode 编码时错误\n",
    "UnicodeTranslateError|\tUnicode 转换时错误\n",
    "DeprecationWarning\t|关于被弃用的特征的警告\n",
    "FutureWarning\t|关于构造将来语义会有改变的警告\n",
    "OverflowWarning\t|旧的关于自动提升为长整型(long)的警告\n",
    "PendingDeprecationWarning\t|关于特性将会被废弃的警告\n",
    "RuntimeWarning\t|可疑的运行时行为(runtime behavior)的警告\n",
    "SyntaxWarning\t|可疑的语法的警告\n",
    "UserWarning|\t用户代码生成的警告"
   ]
  },
  {
   "cell_type": "markdown",
   "metadata": {},
   "source": [
    "## try语句的用法\n",
    "### try-except-else-finally语句\n",
    "```python\n",
    "    try:\n",
    "        可以触发异常的语句\n",
    "    except 错误类型1 [as 变量名1]:\n",
    "        异常处理语句1\n",
    "    except 错误类型2 [as 变量名2]:\n",
    "        异常处理语法2\n",
    "    except (错误类型3, 错误类型4, ...) [as 变量名3]:\n",
    "        异常处理语句3\n",
    "    ...\n",
    "    except:\n",
    "        异常处理语法\n",
    "    else:\n",
    "        未发生异常语句\n",
    "    finally:\n",
    "        最终语句\n",
    "  作用:\n",
    "    偿试捕获异常,得到异常通知,将程序由异常流程转为正常流程并\n",
    "    继续执行\n",
    "  说明:\n",
    "    as 子句是用于绑定错误对象的变量,可以省略\n",
    "    except 子句可以有一个或多个,但至少要有一个\n",
    "    except: 子句必须放在所有的except之后\n",
    "    else 子句最多只有能一个,也可以省略不写\n",
    "    finally 子句最多只能有一个,也可以省略不写\n",
    "  说明2:\n",
    "    else 子句里的语句会在当前try中没有发生任何异常时被执行\n",
    "    finally 子句 里的语句无论在异常状态还是正常状态都一定会\n",
    "          被执行\n",
    "\n",
    "```\n",
    "\n",
    "\n",
    "\n",
    "\n"
   ]
  },
  {
   "cell_type": "code",
   "execution_count": 5,
   "metadata": {},
   "outputs": [
    {
     "name": "stdout",
     "output_type": "stream",
     "text": [
      "开始分苹果\n",
      "现在有10个苹果,您想分给几个人\n",
      "请输入人数: 5\n",
      "每个人分了 2.0 个苹果!\n",
      "分苹果完成\n",
      "我执行了else语句\n",
      "我是finally子句里的语句,我一定会被执行!\n",
      "程序结束\n"
     ]
    }
   ],
   "source": [
    "def div_apple(n):  # 分苹果\n",
    "    print(\"现在有%d个苹果,您想分给几个人\" % n)\n",
    "    s = input(\"请输入人数: \")\n",
    "    cnt = int(s)  # <<-- 可能会触发ValueError类型的错误\n",
    "    result = n / cnt  # <<-- 可能触发ZeroDivisionError错误\n",
    "    print(\"每个人分了\", result, '个苹果!')\n",
    "\n",
    "try:\n",
    "    print(\"开始分苹果\")\n",
    "    div_apple(10)\n",
    "    print(\"分苹果完成\")\n",
    "except ValueError as err:\n",
    "    print(\"分苹果失败,苹果不分了\")\n",
    "else:\n",
    "    print(\"我执行了else语句\")\n",
    "finally:\n",
    "    print(\"我是finally子句里的语句,我一定会被执行!\")\n",
    "\n",
    "\n",
    "print(\"程序结束\")\n"
   ]
  },
  {
   "cell_type": "markdown",
   "metadata": {},
   "source": [
    "## raise语句\n",
    " * 作用:\n",
    "     * 触发一个错误,让程序进入异常状态\n",
    "     * 发送错误通知给调用者\n",
    " * 语法:\n",
    "     * raise 异常类型\n",
    "     * 或\n",
    "     * raise 异常对象\n",
    "     * 或\n",
    "     * raise     # << 重新触发上一次异常\n",
    " * 示例见下:\n",
    "\n",
    " * 说明:\n",
    "    * raise 无参调用时,只能放在try-except 的except 子句里用来触发刚收到且正在处理的错误信息"
   ]
  },
  {
   "cell_type": "code",
   "execution_count": 11,
   "metadata": {},
   "outputs": [
    {
     "name": "stdout",
     "output_type": "stream",
     "text": [
      "开始....\n",
      "接收到ValueError类型的异常,程序已转为正常状态\n",
      "程序结束\n"
     ]
    }
   ],
   "source": [
    "def make_exception():\n",
    "    print(\"开始....\")\n",
    "    # 触发ValueError类型的异常\n",
    "    raise ValueError(\"666\")  # ValueError是错误类型\n",
    "    # raise ZeroDivisionError\n",
    "    # raise ImportError\n",
    "\n",
    "\n",
    "    print(\"结束!\")\n",
    "\n",
    "try:\n",
    "    make_exception()\n",
    "except ValueError:\n",
    "    print(\"接收到ValueError类型的异常,程序已转为正常状态\")\n",
    "\n",
    "print(\"程序结束\")"
   ]
  },
  {
   "cell_type": "code",
   "execution_count": 12,
   "metadata": {},
   "outputs": [
    {
     "name": "stdout",
     "output_type": "stream",
     "text": [
      "f2开始!\n",
      "f1开始!\n",
      "f1里发生了错误!已解决\n",
      "f2内发生错误,错误对象是 f1里的值错误!\n",
      "程序结束\n"
     ]
    }
   ],
   "source": [
    "# 此示例示意用raise 来传递错误消息\n",
    "\n",
    "def f1():\n",
    "    print(\"f1开始!\")\n",
    "    # 此处可能触发异常\n",
    "    raise ValueError(\"f1里的值错误!\")\n",
    "    print(\"f1结束!\")\n",
    "\n",
    "def f2():\n",
    "    print(\"f2开始!\")\n",
    "    try:\n",
    "        f1()  # 调用f1\n",
    "    except ValueError as err:\n",
    "        print(\"f1里发生了错误!已解决\")\n",
    "        raise   # 等同于 raise err\n",
    "    print(\"f2结束!\")\n",
    "\n",
    "try:\n",
    "    f2()\n",
    "except ValueError as err:\n",
    "    print(\"f2内发生错误,错误对象是\", err)\n",
    "\n",
    "print(\"程序结束\")"
   ]
  },
  {
   "cell_type": "code",
   "execution_count": null,
   "metadata": {},
   "outputs": [
    {
     "name": "stdout",
     "output_type": "stream",
     "text": [
      "请输入年龄: 150\n",
      "获取年龄时发生错误,错误的原因是 年龄值不在1~140之间\n"
     ]
    }
   ],
   "source": [
    "# 练习:\n",
    "#   写一个函数 get_age() 用来获取一个人的年龄信息\n",
    "#     此函数规定用户只能输入 1~140之间的整数,如果用户输入其它\n",
    "#     的数则直接触发ValueError类型的错误!\n",
    "#     如:\n",
    "#         def get_age()\n",
    "#             ...  # 此处自己实现\n",
    "#         try:\n",
    "#             age = get_age()\n",
    "#             print(\"用户输入的年龄是\", age)\n",
    "#         except ValueError as err:\n",
    "#             print(\"获取年龄时发生错误,错误的原因是\", err)\n",
    "\n",
    "\n",
    "def get_age():\n",
    "    try:\n",
    "        a = int(input(\"请输入年龄: \"))\n",
    "    except ValueError:\n",
    "        raise ValueError(\"输入内容无法转为数字!\")\n",
    "    if 1 <= a <= 140:\n",
    "        return a\n",
    "    raise ValueError(\"年龄值不在1~140之间\")\n",
    "try:\n",
    "    age = get_age()\n",
    "    print(\"用户输入的年龄是\", age)\n",
    "except ValueError as err:\n",
    "    print(\"获取年龄时发生错误,错误的原因是\", err)\n"
   ]
  },
  {
   "cell_type": "markdown",
   "metadata": {},
   "source": [
    "## assert语句(相当于自定义异常)\n",
    "**assert 语句(断言语句)**\n",
    "  * 语法:\n",
    "    * assert 真值表达式, 错误数据(通常是字符串)\n",
    "  * 作用:\n",
    "    * 当真值表达式为假(False)时,用错误数据创建一个AssertionError 类型的错误,并进入异常状态通常用来在编写代码时,故意抛出异常来发现错误\n",
    "  * 等同于:\n",
    "    * if bool(真值表达式) == False:\n",
    "        * raise AssertionError(错误数据)\n",
    "  * 示例见:\n"
   ]
  },
  {
   "cell_type": "code",
   "execution_count": 3,
   "metadata": {},
   "outputs": [
    {
     "name": "stdout",
     "output_type": "stream",
     "text": [
      "请输入学生成绩: 180\n",
      "断言失败!, err= 成绩超出范围\n"
     ]
    }
   ],
   "source": [
    "# assert.py\n",
    "\n",
    "# 获取学生成绩\n",
    "def get_score():\n",
    "    s = int(input(\"请输入学生成绩: \"))\n",
    "    assert 0 <= s <= 100, '成绩超出范围'\n",
    "    return s\n",
    "\n",
    "try:\n",
    "    score = get_score()\n",
    "    print(\"成绩是:\", score)\n",
    "except AssertionError as err:\n",
    "    print(\"断言失败!, err=\", err)\n"
   ]
  },
  {
   "cell_type": "markdown",
   "metadata": {},
   "source": [
    "# 迭代器\n",
    "## 迭代器 Iterator\n",
    "  #### 什么是迭代器\n",
    "    * 迭代器是访问可迭代对象的工具\n",
    "    * 迭代器是指用iter(obj) 函数返回的对象(实例)\n",
    "    * 迭代器可以用next(it) 函数获取可迭代对象的数据\n",
    "## 函数:\n",
    "  iter(iterable)  从可迭代对象中返回一个迭代器,iterable\n",
    "            必须是一个能提供一个迭代器的对象<br>\n",
    "  next(iterator)  从迭代器iterator中获取下一个数据,如果\n",
    "            无法获取下一行数据,则触发StopIteration异常\n",
    "  ### 说明:\n",
    "    迭代器只能往前取值,不能后退\n",
    "    用iter函数可以返回一个可迭代对象的迭代器\n",
    "  ### 示例:\n",
    "    L = [2, 3, 5, 7]\n",
    "    it = iter(L)  # it 绑定的是L提供的迭代器\n",
    "    print(next(it))  # 2  # 向迭代器要数据\n",
    "    print(next(it))  # 3\n",
    "    print(next(it))  # 5\n",
    "    print(next(it))  # 7\n",
    "    print(next(it))  # StopIteration异常\n",
    "    myit = iter(range(1, 10, 3))  # 1, 4, 7\n",
    "    print(next(myit))  # 1\n",
    "    print(next(myit))  # 4\n",
    "    print(next(myit))  # 7\n",
    "    print(next(myit))  # StopIteration异常\n",
    "## Python可以作为迭代的对象特征\n",
    "\n",
    "Python中经常使用for来对某个对象进行遍历，此时被遍历的这个对象就是可迭代对象，像常见的list,tuple都是。如果给一个准确的定义的话，就是只要它定义了可以返回一个迭代器的“__iter__”方法，或者定义了可以支持下标索引的“__getitem__”方法(这些双下划线方法会在其他章节中全面解释)，那么它就是一个可迭代对象。"
   ]
  },
  {
   "cell_type": "code",
   "execution_count": 4,
   "metadata": {},
   "outputs": [
    {
     "name": "stdout",
     "output_type": "stream",
     "text": [
      "11\n",
      "13\n",
      "17\n",
      "19\n",
      "-----------------------------\n",
      "11\n",
      "13\n",
      "17\n",
      "19\n"
     ]
    }
   ],
   "source": [
    "# iterator.py\n",
    "\n",
    "# 此示例示意用迭代器来代替for语句实现对可迭代对象的数据遍历\n",
    "L = [11, 13, 17, 19]\n",
    "\n",
    "# 1. 用for实现遍历\n",
    "for x in L:\n",
    "    print(x)  # 11 13 17 19\n",
    "\n",
    "print('-----------------------------')\n",
    "# 2. 用迭代器,while循环等实现与1相同的功能\n",
    "it = iter(L)  # 先从L中拿到L的迭代器\n",
    "while True:\n",
    "    try:\n",
    "        x = next(it)\n",
    "        print(x)\n",
    "    except StopIteration:\n",
    "        break"
   ]
  },
  {
   "cell_type": "code",
   "execution_count": 5,
   "metadata": {},
   "outputs": [
    {
     "name": "stdout",
     "output_type": "stream",
     "text": [
      "八戒\n",
      "沙僧\n",
      "悟空\n",
      "唐僧\n",
      "遍历结束\n",
      "-------------以下用while语句实现-----------\n",
      "八戒\n",
      "沙僧\n",
      "悟空\n",
      "唐僧\n",
      "遍历结束\n"
     ]
    }
   ],
   "source": [
    "#   1. 有一个集合\n",
    "#     s = {\"唐僧\", '悟空', '八戒', '沙僧'}\n",
    "#     用for 语句来遍历所有元素如下:\n",
    "#       for x in s:\n",
    "#           print(x)\n",
    "#       else:\n",
    "#           print(\"遍历结束\")\n",
    "#     请将上面的for语句改写为while语句和迭代器实现\n",
    "\n",
    "\n",
    "\n",
    "s = {\"唐僧\", '悟空', '八戒', '沙僧'}\n",
    "\n",
    "for x in s:\n",
    "    print(x)\n",
    "else:\n",
    "    print(\"遍历结束\")\n",
    "print(\"-------------以下用while语句实现-----------\")\n",
    "it = iter(s)\n",
    "while True:\n",
    "    try:\n",
    "        x = next(it)\n",
    "        print(x)\n",
    "    except StopIteration:\n",
    "        print(\"遍历结束\")\n",
    "        break\n"
   ]
  },
  {
   "cell_type": "markdown",
   "metadata": {},
   "source": [
    "## 生成器\n",
    "**生成器是能够动态提供数据的可迭代对象,生成器是在程序运行时生成数据,与容器类不同,它通常不会在内存中保存大量的数据,而是现用现生成**\n",
    "### 生成器函数\n",
    "yield 语句\n",
    "- 语法:\n",
    "     - yield 表达式\n",
    "- 说明:\n",
    "     - yield 用于 def 函数中,目的是将此函数作为生成器函数使用\n",
    "     - yield 用来生成数据,提供迭代器 next(it) 函数使用\n",
    "\n",
    "\n",
    "#### 生成函数说明:\n",
    "* 生成器函数的调用返回一个生成器对象,生成器对象是可迭代对象\n",
    "* 在生成器函数调用return会触发一个StopIteration异常(即生成结束)\n",
    "* 生成器函数调用时返回的生成器是一次性的,当生成结束后将不再提供数据"
   ]
  },
  {
   "cell_type": "code",
   "execution_count": 1,
   "metadata": {},
   "outputs": [
    {
     "name": "stdout",
     "output_type": "stream",
     "text": [
      "<generator object myyield at 0x7f2236791750>\n",
      "即将生成2\n",
      "2\n",
      "即将生成3\n",
      "3\n",
      "即将生成5\n",
      "5\n",
      "即将生成7\n",
      "7\n",
      "生成结束\n"
     ]
    },
    {
     "ename": "StopIteration",
     "evalue": "",
     "traceback": [
      "\u001b[0;31m---------------------------------------------------------------------------\u001b[0m",
      "\u001b[0;31mStopIteration\u001b[0m                             Traceback (most recent call last)",
      "\u001b[0;32m<ipython-input-1-bd896960a5af>\u001b[0m in \u001b[0;36m<module>\u001b[0;34m\u001b[0m\n\u001b[1;32m     17\u001b[0m \u001b[0mprint\u001b[0m\u001b[0;34m(\u001b[0m\u001b[0mnext\u001b[0m\u001b[0;34m(\u001b[0m\u001b[0mit\u001b[0m\u001b[0;34m)\u001b[0m\u001b[0;34m)\u001b[0m  \u001b[0;31m# 5\u001b[0m\u001b[0;34m\u001b[0m\u001b[0;34m\u001b[0m\u001b[0m\n\u001b[1;32m     18\u001b[0m \u001b[0mprint\u001b[0m\u001b[0;34m(\u001b[0m\u001b[0mnext\u001b[0m\u001b[0;34m(\u001b[0m\u001b[0mit\u001b[0m\u001b[0;34m)\u001b[0m\u001b[0;34m)\u001b[0m  \u001b[0;31m# 7\u001b[0m\u001b[0;34m\u001b[0m\u001b[0;34m\u001b[0m\u001b[0m\n\u001b[0;32m---> 19\u001b[0;31m \u001b[0mprint\u001b[0m\u001b[0;34m(\u001b[0m\u001b[0mnext\u001b[0m\u001b[0;34m(\u001b[0m\u001b[0mit\u001b[0m\u001b[0;34m)\u001b[0m\u001b[0;34m)\u001b[0m  \u001b[0;31m# StopIteration异常\u001b[0m\u001b[0;34m\u001b[0m\u001b[0;34m\u001b[0m\u001b[0m\n\u001b[0m",
      "\u001b[0;31mStopIteration\u001b[0m: "
     ],
     "output_type": "error"
    }
   ],
   "source": [
    "def myyield():\n",
    "    print(\"即将生成2\")\n",
    "    yield 2\n",
    "    print(\"即将生成3\")\n",
    "    yield 3\n",
    "    print(\"即将生成5\")\n",
    "    yield 5\n",
    "    print(\"即将生成7\")\n",
    "    yield 7\n",
    "    print(\"生成结束\")\n",
    "\n",
    "gen = myyield()  # gen绑定的是生成器对象\n",
    "print(gen)  # <generator object myyield at 0x7fb42d0b6f10>\n",
    "it = iter(gen)  # 向生成器来获取迭代器\n",
    "print(next(it))  # 2 向迭代器取值时,生成器函数才开始执行\n",
    "print(next(it))  # 3\n",
    "print(next(it))  # 5\n",
    "print(next(it))  # 7\n",
    "print(next(it))  # StopIteration异常"
   ]
  },
  {
   "cell_type": "code",
   "execution_count": 2,
   "metadata": {},
   "outputs": [
    {
     "name": "stdout",
     "output_type": "stream",
     "text": [
      "即将生成2\n",
      "2\n",
      "即将生成3\n",
      "3\n",
      "即将生成5\n",
      "5\n",
      "即将生成7\n",
      "7\n",
      "生成结束\n"
     ]
    }
   ],
   "source": [
    "#  yield2.py\n",
    "\n",
    "# 此示例示意用 for语句来调用生成器函数\n",
    "def myyield():\n",
    "    print(\"即将生成2\")\n",
    "    yield 2\n",
    "    print(\"即将生成3\")\n",
    "    yield 3\n",
    "    print(\"即将生成5\")\n",
    "    yield 5\n",
    "    print(\"即将生成7\")\n",
    "    yield 7\n",
    "    print(\"生成结束\")\n",
    "\n",
    "for x in myyield():\n",
    "    print(x)  # 2 3 5 7"
   ]
  }
 ],
 "metadata": {
  "kernelspec": {
   "display_name": "Python 3",
   "language": "python",
   "name": "python3"
  },
  "language_info": {
   "codemirror_mode": {
    "name": "ipython",
    "version": 3
   },
   "file_extension": ".py",
   "mimetype": "text/x-python",
   "name": "python",
   "nbconvert_exporter": "python",
   "pygments_lexer": "ipython3",
   "version": "3.7.1"
  }
 },
 "nbformat": 4,
 "nbformat_minor": 2
}
