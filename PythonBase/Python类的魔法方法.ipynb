{
 "cells": [
  {
   "cell_type": "markdown",
   "metadata": {},
   "source": [
    "1.__doc__ ：打印类的描述信息"
   ]
  },
  {
   "cell_type": "code",
   "execution_count": 2,
   "metadata": {},
   "outputs": [
    {
     "name": "stdout",
     "output_type": "stream",
     "text": [
      " 描述类信息，这是用于看片的神奇 \n"
     ]
    }
   ],
   "source": [
    "class Foo:\n",
    "    \"\"\" 描述类信息，这是用于看片的神奇 \"\"\"\n",
    " \n",
    "    def func(self):\n",
    "        pass\n",
    " \n",
    "print(Foo.__doc__)\n",
    "#输出：类的描述信息"
   ]
  },
  {
   "cell_type": "markdown",
   "metadata": {},
   "source": [
    "2.__del__:析构方法，当对象在内存中被释放时，自动触发执行"
   ]
  },
  {
   "cell_type": "code",
   "execution_count": 8,
   "metadata": {},
   "outputs": [
    {
     "name": "stdout",
     "output_type": "stream",
     "text": [
      "del.....run...\n",
      "del.....run...\n"
     ]
    }
   ],
   "source": [
    "class Role(object):\n",
    "    def __init__(self,name,role,weapon):\n",
    "        self.name = name\n",
    "        self.role = role\n",
    "        self.weapon = weapon\n",
    "\n",
    "    def __del__(self):             #析构函数\n",
    "        print(\"del.....run...\")\n",
    "r1 = Role('Alex','police','AK47')    #生成一个角色\n",
    "del r1"
   ]
  },
  {
   "cell_type": "markdown",
   "metadata": {},
   "source": [
    "3.__call__:对象后面加括号，触发执行"
   ]
  },
  {
   "cell_type": "code",
   "execution_count": 10,
   "metadata": {},
   "outputs": [
    {
     "name": "stdout",
     "output_type": "stream",
     "text": [
      "__call__\n"
     ]
    }
   ],
   "source": [
    "#注：构造方法的执行是由创建对象触发的，即：对象 = 类名() ；而对于 __call__ 方法的执行是由对象后加括号触发的，即：对象() 或者 类()()\n",
    "class Foo:\n",
    " \n",
    "    def __init__(self):\n",
    "        pass\n",
    "     \n",
    "    def __call__(self, *args, **kwargs):\n",
    " \n",
    "        print('__call__') \n",
    " \n",
    "obj = Foo() # 执行 __init__\n",
    "obj()       # 执行 __call__"
   ]
  },
  {
   "cell_type": "code",
   "execution_count": 11,
   "metadata": {},
   "outputs": [],
   "source": [
    "class _Getch:\n",
    "    def __init__(self):\n",
    "        self.impl = _GetchUnix()\n",
    "        \n",
    "    def __call__(self): return self.impl()"
   ]
  },
  {
   "cell_type": "markdown",
   "metadata": {},
   "source": [
    "4.__str__：如果一个类中定义了__str__方法，那么在打印 对象 时，默认输出该方法的返回值"
   ]
  },
  {
   "cell_type": "code",
   "execution_count": 12,
   "metadata": {},
   "outputs": [
    {
     "name": "stdout",
     "output_type": "stream",
     "text": [
      "alex li\n"
     ]
    }
   ],
   "source": [
    "class Foo:\n",
    " \n",
    "    def __str__(self):\n",
    "        return 'alex li'\n",
    " \n",
    "obj = Foo()\n",
    "print (obj)\n",
    "# 输出：alex li"
   ]
  },
  {
   "cell_type": "markdown",
   "metadata": {},
   "source": [
    "5.python的property函数"
   ]
  },
  {
   "cell_type": "code",
   "execution_count": 13,
   "metadata": {},
   "outputs": [
    {
     "name": "stdout",
     "output_type": "stream",
     "text": [
      "left = 10\n",
      "top = 20\n",
      "getPosition方法被调用\n",
      "position = (10, 20)\n",
      "setPosition方法被调用\n",
      "getPosition方法被调用\n",
      "position = (100, 200)\n",
      "position属性已经被删除\n",
      "getPosition方法被调用\n",
      "(0, 0)\n",
      "setPosition方法被调用\n",
      "getPosition方法被调用\n",
      "r.position = (30, 40)\n"
     ]
    }
   ],
   "source": [
    "class Rectangle:\n",
    "    def __init__(self):\n",
    "        self.left = 0\n",
    "        self.top = 0\n",
    "    # setPosition方法可以是其他的名字\n",
    "    def setPosition(self,position):\n",
    "        print('setPosition方法被调用')\n",
    "        self.left,self.top = position\n",
    "    # getPosition方法可以是其他的名字        \n",
    "    def getPosition(self):\n",
    "        print('getPosition方法被调用')\n",
    "        return self.left,self.top\n",
    "    def deletePosition(self):\n",
    "        print('position属性已经被删除')\n",
    "        self.left = 0\n",
    "        self.top = 0\n",
    " \n",
    "    position = property(getPosition, setPosition,deletePosition)\n",
    "\n",
    "r = Rectangle()\n",
    "r.left = 10\n",
    "r.top = 20\n",
    "print('left','=',r.left)\n",
    "print('top','=',r.top)\n",
    "print('position', '=', r.position)\n",
    "r.position = 100,200\n",
    "print('position', '=', r.position)\n",
    "del r.position\n",
    "print(r.position)\n",
    "r.position = 30,40\n",
    "print('r.position','=',r.position)"
   ]
  },
  {
   "cell_type": "code",
   "execution_count": 18,
   "metadata": {},
   "outputs": [
    {
     "name": "stdout",
     "output_type": "stream",
     "text": [
      "I'm the setter method\n",
      "I'm the getter method\n",
      "100\n",
      "I'm the setter method\n",
      "I'm the getter method\n",
      "90\n"
     ]
    }
   ],
   "source": [
    "class Test: \n",
    "\tdef __init__(self): \n",
    "\t\tself._x = None \n",
    "\t\n",
    "\tdef get_x(self): \n",
    "\t\tprint(\"I'm the getter method\") \n",
    "\t\treturn self._x \n",
    "\t\n",
    "\tdef set_x(self, value): \n",
    "\t\tprint(\"I'm the setter method\") \n",
    "\t\tself._x = value \n",
    "\n",
    "\tdef del_x(self): \n",
    "\t\tprint(\"I'm the deleter method\") \n",
    "\t\tdel self._x \n",
    "\n",
    "\t# 设置doc参数 \n",
    "\tx = property(get_x, set_x, del_x, \"I'm the 'x' property.\") \n",
    "\n",
    "t = Test()\n",
    "t.x = '100' #等同于t.set_x(\"100\")\n",
    "print(t.x)  #等同于print(t.get_x())\n",
    "t.x='90'\n",
    "print(t.x) \n"
   ]
  },
  {
   "cell_type": "code",
   "execution_count": 17,
   "metadata": {},
   "outputs": [
    {
     "name": "stdout",
     "output_type": "stream",
     "text": [
      "I'm the setter method\n",
      "I'm the getter method\n",
      "100\n",
      "I'm the setter method\n",
      "I'm the getter method\n",
      "90\n"
     ]
    }
   ],
   "source": [
    "class Test: \n",
    "\tdef __init__(self): \n",
    "\t\tself._x = None \n",
    "\t\n",
    "\t@property\n",
    "\tdef x(self): \n",
    "\t\tprint(\"I'm the getter method\") \n",
    "\t\treturn self._x \n",
    "\t\n",
    "\t@x.setter\n",
    "\tdef x(self, value): \n",
    "\t\tprint(\"I'm the setter method\") \n",
    "\t\tself._x = value \n",
    "\n",
    "\t@x.deleter\n",
    "\tdef x(self): \n",
    "\t\tprint(\"I'm the deleter method\") \n",
    "\t\tdel self._x \n",
    "\n",
    "t = Test()\n",
    "t.x = '100'\n",
    "print(t.x)\n",
    "t.x='90'\n",
    "print(t.x)  \n"
   ]
  },
  {
   "cell_type": "markdown",
   "metadata": {},
   "source": [
    "6.Python的类方法和静态方法"
   ]
  },
  {
   "cell_type": "code",
   "execution_count": 29,
   "metadata": {},
   "outputs": [
    {
     "name": "stdout",
     "output_type": "stream",
     "text": [
      "666\n",
      "666\n"
     ]
    }
   ],
   "source": [
    "class Pizza:\n",
    "    def get_size():\n",
    "        print(666)\n",
    "a=Pizza\n",
    "a.get_size()\n",
    "Pizza.get_size()"
   ]
  }
 ],
 "metadata": {
  "kernelspec": {
   "display_name": "Python 3",
   "language": "python",
   "name": "python3"
  },
  "language_info": {
   "codemirror_mode": {
    "name": "ipython",
    "version": 3
   },
   "file_extension": ".py",
   "mimetype": "text/x-python",
   "name": "python",
   "nbconvert_exporter": "python",
   "pygments_lexer": "ipython3",
   "version": "3.7.1"
  }
 },
 "nbformat": 4,
 "nbformat_minor": 2
}
